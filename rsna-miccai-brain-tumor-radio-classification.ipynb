{
 "cells": [
  {
   "cell_type": "code",
   "execution_count": 1,
   "id": "cee06762",
   "metadata": {
    "execution": {
     "iopub.execute_input": "2022-09-04T00:21:27.569338Z",
     "iopub.status.busy": "2022-09-04T00:21:27.568812Z",
     "iopub.status.idle": "2022-09-04T00:21:34.323247Z",
     "shell.execute_reply": "2022-09-04T00:21:34.321709Z"
    },
    "papermill": {
     "duration": 6.767925,
     "end_time": "2022-09-04T00:21:34.326590",
     "exception": false,
     "start_time": "2022-09-04T00:21:27.558665",
     "status": "completed"
    },
    "tags": []
   },
   "outputs": [],
   "source": [
    "import pandas as pd\n",
    "import numpy as np\n",
    "import tensorflow as tf\n",
    "import matplotlib.pyplot as plt\n",
    "import pydicom\n",
    "from pydicom.data import get_testdata_files"
   ]
  },
  {
   "cell_type": "code",
   "execution_count": 2,
   "id": "1c639c80",
   "metadata": {
    "execution": {
     "iopub.execute_input": "2022-09-04T00:21:34.344345Z",
     "iopub.status.busy": "2022-09-04T00:21:34.343378Z",
     "iopub.status.idle": "2022-09-04T00:21:34.508817Z",
     "shell.execute_reply": "2022-09-04T00:21:34.507728Z"
    },
    "papermill": {
     "duration": 0.17756,
     "end_time": "2022-09-04T00:21:34.511914",
     "exception": false,
     "start_time": "2022-09-04T00:21:34.334354",
     "status": "completed"
    },
    "tags": []
   },
   "outputs": [
    {
     "name": "stderr",
     "output_type": "stream",
     "text": [
      "2022-09-04 00:21:34.364287: I tensorflow/core/common_runtime/process_util.cc:146] Creating new thread pool with default inter op setting: 2. Tune using inter_op_parallelism_threads for best performance.\n"
     ]
    }
   ],
   "source": [
    "train_ds_files=tf.data.Dataset.list_files('../input/rsna-miccai-brain-tumor-radiogenomic-classification/train/*')"
   ]
  },
  {
   "cell_type": "code",
   "execution_count": 3,
   "id": "687a3dbd",
   "metadata": {
    "execution": {
     "iopub.execute_input": "2022-09-04T00:21:34.528874Z",
     "iopub.status.busy": "2022-09-04T00:21:34.528051Z",
     "iopub.status.idle": "2022-09-04T00:21:34.541940Z",
     "shell.execute_reply": "2022-09-04T00:21:34.540472Z"
    },
    "papermill": {
     "duration": 0.025472,
     "end_time": "2022-09-04T00:21:34.544772",
     "exception": false,
     "start_time": "2022-09-04T00:21:34.519300",
     "status": "completed"
    },
    "tags": []
   },
   "outputs": [
    {
     "data": {
      "text/plain": [
       "585"
      ]
     },
     "execution_count": 3,
     "metadata": {},
     "output_type": "execute_result"
    }
   ],
   "source": [
    "len(train_ds_files)"
   ]
  },
  {
   "cell_type": "code",
   "execution_count": 4,
   "id": "34105515",
   "metadata": {
    "execution": {
     "iopub.execute_input": "2022-09-04T00:21:34.561862Z",
     "iopub.status.busy": "2022-09-04T00:21:34.560976Z",
     "iopub.status.idle": "2022-09-04T00:21:34.581270Z",
     "shell.execute_reply": "2022-09-04T00:21:34.579937Z"
    },
    "papermill": {
     "duration": 0.031888,
     "end_time": "2022-09-04T00:21:34.583944",
     "exception": false,
     "start_time": "2022-09-04T00:21:34.552056",
     "status": "completed"
    },
    "tags": []
   },
   "outputs": [
    {
     "data": {
      "text/plain": [
       "(585, 2)"
      ]
     },
     "execution_count": 4,
     "metadata": {},
     "output_type": "execute_result"
    }
   ],
   "source": [
    "train_labels_ds=pd.read_csv('../input/rsna-miccai-brain-tumor-radiogenomic-classification/train_labels.csv')\n",
    "train_labels_ds.shape"
   ]
  },
  {
   "cell_type": "code",
   "execution_count": 5,
   "id": "09afa312",
   "metadata": {
    "execution": {
     "iopub.execute_input": "2022-09-04T00:21:34.601167Z",
     "iopub.status.busy": "2022-09-04T00:21:34.600089Z",
     "iopub.status.idle": "2022-09-04T00:21:34.618602Z",
     "shell.execute_reply": "2022-09-04T00:21:34.617414Z"
    },
    "papermill": {
     "duration": 0.029907,
     "end_time": "2022-09-04T00:21:34.621227",
     "exception": false,
     "start_time": "2022-09-04T00:21:34.591320",
     "status": "completed"
    },
    "tags": []
   },
   "outputs": [
    {
     "data": {
      "text/html": [
       "<div>\n",
       "<style scoped>\n",
       "    .dataframe tbody tr th:only-of-type {\n",
       "        vertical-align: middle;\n",
       "    }\n",
       "\n",
       "    .dataframe tbody tr th {\n",
       "        vertical-align: top;\n",
       "    }\n",
       "\n",
       "    .dataframe thead th {\n",
       "        text-align: right;\n",
       "    }\n",
       "</style>\n",
       "<table border=\"1\" class=\"dataframe\">\n",
       "  <thead>\n",
       "    <tr style=\"text-align: right;\">\n",
       "      <th></th>\n",
       "      <th>BraTS21ID</th>\n",
       "      <th>MGMT_value</th>\n",
       "    </tr>\n",
       "  </thead>\n",
       "  <tbody>\n",
       "    <tr>\n",
       "      <th>0</th>\n",
       "      <td>0</td>\n",
       "      <td>1</td>\n",
       "    </tr>\n",
       "    <tr>\n",
       "      <th>1</th>\n",
       "      <td>2</td>\n",
       "      <td>1</td>\n",
       "    </tr>\n",
       "    <tr>\n",
       "      <th>2</th>\n",
       "      <td>3</td>\n",
       "      <td>0</td>\n",
       "    </tr>\n",
       "    <tr>\n",
       "      <th>3</th>\n",
       "      <td>5</td>\n",
       "      <td>1</td>\n",
       "    </tr>\n",
       "    <tr>\n",
       "      <th>4</th>\n",
       "      <td>6</td>\n",
       "      <td>1</td>\n",
       "    </tr>\n",
       "  </tbody>\n",
       "</table>\n",
       "</div>"
      ],
      "text/plain": [
       "   BraTS21ID  MGMT_value\n",
       "0          0           1\n",
       "1          2           1\n",
       "2          3           0\n",
       "3          5           1\n",
       "4          6           1"
      ]
     },
     "execution_count": 5,
     "metadata": {},
     "output_type": "execute_result"
    }
   ],
   "source": [
    "train_labels_ds.head()"
   ]
  },
  {
   "cell_type": "code",
   "execution_count": 6,
   "id": "3525ad8c",
   "metadata": {
    "execution": {
     "iopub.execute_input": "2022-09-04T00:21:34.638529Z",
     "iopub.status.busy": "2022-09-04T00:21:34.637658Z",
     "iopub.status.idle": "2022-09-04T00:21:34.664390Z",
     "shell.execute_reply": "2022-09-04T00:21:34.663142Z"
    },
    "papermill": {
     "duration": 0.038559,
     "end_time": "2022-09-04T00:21:34.667166",
     "exception": false,
     "start_time": "2022-09-04T00:21:34.628607",
     "status": "completed"
    },
    "tags": []
   },
   "outputs": [
    {
     "name": "stdout",
     "output_type": "stream",
     "text": [
      "<class 'pandas.core.frame.DataFrame'>\n",
      "RangeIndex: 585 entries, 0 to 584\n",
      "Data columns (total 2 columns):\n",
      " #   Column      Non-Null Count  Dtype\n",
      "---  ------      --------------  -----\n",
      " 0   BraTS21ID   585 non-null    int64\n",
      " 1   MGMT_value  585 non-null    int64\n",
      "dtypes: int64(2)\n",
      "memory usage: 9.3 KB\n"
     ]
    }
   ],
   "source": [
    "train_labels_ds.info()"
   ]
  },
  {
   "cell_type": "code",
   "execution_count": 7,
   "id": "f687f01d",
   "metadata": {
    "execution": {
     "iopub.execute_input": "2022-09-04T00:21:34.684610Z",
     "iopub.status.busy": "2022-09-04T00:21:34.683776Z",
     "iopub.status.idle": "2022-09-04T00:21:34.706389Z",
     "shell.execute_reply": "2022-09-04T00:21:34.705146Z"
    },
    "papermill": {
     "duration": 0.034408,
     "end_time": "2022-09-04T00:21:34.709073",
     "exception": false,
     "start_time": "2022-09-04T00:21:34.674665",
     "status": "completed"
    },
    "tags": []
   },
   "outputs": [
    {
     "data": {
      "text/html": [
       "<div>\n",
       "<style scoped>\n",
       "    .dataframe tbody tr th:only-of-type {\n",
       "        vertical-align: middle;\n",
       "    }\n",
       "\n",
       "    .dataframe tbody tr th {\n",
       "        vertical-align: top;\n",
       "    }\n",
       "\n",
       "    .dataframe thead th {\n",
       "        text-align: right;\n",
       "    }\n",
       "</style>\n",
       "<table border=\"1\" class=\"dataframe\">\n",
       "  <thead>\n",
       "    <tr style=\"text-align: right;\">\n",
       "      <th></th>\n",
       "      <th>BraTS21ID</th>\n",
       "      <th>MGMT_value</th>\n",
       "    </tr>\n",
       "  </thead>\n",
       "  <tbody>\n",
       "    <tr>\n",
       "      <th>count</th>\n",
       "      <td>585.000000</td>\n",
       "      <td>585.000000</td>\n",
       "    </tr>\n",
       "    <tr>\n",
       "      <th>mean</th>\n",
       "      <td>431.179487</td>\n",
       "      <td>0.524786</td>\n",
       "    </tr>\n",
       "    <tr>\n",
       "      <th>std</th>\n",
       "      <td>251.545000</td>\n",
       "      <td>0.499813</td>\n",
       "    </tr>\n",
       "    <tr>\n",
       "      <th>min</th>\n",
       "      <td>0.000000</td>\n",
       "      <td>0.000000</td>\n",
       "    </tr>\n",
       "    <tr>\n",
       "      <th>25%</th>\n",
       "      <td>219.000000</td>\n",
       "      <td>0.000000</td>\n",
       "    </tr>\n",
       "    <tr>\n",
       "      <th>50%</th>\n",
       "      <td>423.000000</td>\n",
       "      <td>1.000000</td>\n",
       "    </tr>\n",
       "    <tr>\n",
       "      <th>75%</th>\n",
       "      <td>630.000000</td>\n",
       "      <td>1.000000</td>\n",
       "    </tr>\n",
       "    <tr>\n",
       "      <th>max</th>\n",
       "      <td>1010.000000</td>\n",
       "      <td>1.000000</td>\n",
       "    </tr>\n",
       "  </tbody>\n",
       "</table>\n",
       "</div>"
      ],
      "text/plain": [
       "         BraTS21ID  MGMT_value\n",
       "count   585.000000  585.000000\n",
       "mean    431.179487    0.524786\n",
       "std     251.545000    0.499813\n",
       "min       0.000000    0.000000\n",
       "25%     219.000000    0.000000\n",
       "50%     423.000000    1.000000\n",
       "75%     630.000000    1.000000\n",
       "max    1010.000000    1.000000"
      ]
     },
     "execution_count": 7,
     "metadata": {},
     "output_type": "execute_result"
    }
   ],
   "source": [
    "train_labels_ds.describe()"
   ]
  },
  {
   "cell_type": "code",
   "execution_count": 8,
   "id": "673affd6",
   "metadata": {
    "execution": {
     "iopub.execute_input": "2022-09-04T00:21:34.726608Z",
     "iopub.status.busy": "2022-09-04T00:21:34.726162Z",
     "iopub.status.idle": "2022-09-04T00:21:34.735020Z",
     "shell.execute_reply": "2022-09-04T00:21:34.733789Z"
    },
    "papermill": {
     "duration": 0.020792,
     "end_time": "2022-09-04T00:21:34.737627",
     "exception": false,
     "start_time": "2022-09-04T00:21:34.716835",
     "status": "completed"
    },
    "tags": []
   },
   "outputs": [
    {
     "data": {
      "text/plain": [
       "1    307\n",
       "0    278\n",
       "Name: MGMT_value, dtype: int64"
      ]
     },
     "execution_count": 8,
     "metadata": {},
     "output_type": "execute_result"
    }
   ],
   "source": [
    "train_labels_ds['MGMT_value'].value_counts()"
   ]
  },
  {
   "cell_type": "code",
   "execution_count": 9,
   "id": "4c5ce5b9",
   "metadata": {
    "execution": {
     "iopub.execute_input": "2022-09-04T00:21:34.755246Z",
     "iopub.status.busy": "2022-09-04T00:21:34.754464Z",
     "iopub.status.idle": "2022-09-04T00:21:34.763569Z",
     "shell.execute_reply": "2022-09-04T00:21:34.762495Z"
    },
    "papermill": {
     "duration": 0.020788,
     "end_time": "2022-09-04T00:21:34.765957",
     "exception": false,
     "start_time": "2022-09-04T00:21:34.745169",
     "status": "completed"
    },
    "tags": []
   },
   "outputs": [
    {
     "data": {
      "text/plain": [
       "<bound method Series.unique of 0         0\n",
       "1         2\n",
       "2         3\n",
       "3         5\n",
       "4         6\n",
       "       ... \n",
       "580    1005\n",
       "581    1007\n",
       "582    1008\n",
       "583    1009\n",
       "584    1010\n",
       "Name: BraTS21ID, Length: 585, dtype: int64>"
      ]
     },
     "execution_count": 9,
     "metadata": {},
     "output_type": "execute_result"
    }
   ],
   "source": [
    "train_labels_ds['BraTS21ID'].unique"
   ]
  },
  {
   "cell_type": "code",
   "execution_count": 10,
   "id": "e8974967",
   "metadata": {
    "execution": {
     "iopub.execute_input": "2022-09-04T00:21:34.784750Z",
     "iopub.status.busy": "2022-09-04T00:21:34.783947Z",
     "iopub.status.idle": "2022-09-04T00:21:34.912964Z",
     "shell.execute_reply": "2022-09-04T00:21:34.911436Z"
    },
    "papermill": {
     "duration": 0.141397,
     "end_time": "2022-09-04T00:21:34.916078",
     "exception": false,
     "start_time": "2022-09-04T00:21:34.774681",
     "status": "completed"
    },
    "tags": []
   },
   "outputs": [
    {
     "name": "stdout",
     "output_type": "stream",
     "text": [
      "b'../input/rsna-miccai-brain-tumor-radiogenomic-classification/train/00000/FLAIR/Image-387.dcm'\n"
     ]
    }
   ],
   "source": [
    "train_ds_files_00000_FLAIR=tf.data.Dataset.list_files('../input/rsna-miccai-brain-tumor-radiogenomic-classification/train/00000/FLAIR/*')\n",
    "filename=train_ds_files_00000_FLAIR.as_numpy_iterator().next()\n",
    "print(filename)"
   ]
  },
  {
   "cell_type": "code",
   "execution_count": 11,
   "id": "caee0028",
   "metadata": {
    "execution": {
     "iopub.execute_input": "2022-09-04T00:21:34.935098Z",
     "iopub.status.busy": "2022-09-04T00:21:34.933948Z",
     "iopub.status.idle": "2022-09-04T00:21:34.940022Z",
     "shell.execute_reply": "2022-09-04T00:21:34.938887Z"
    },
    "papermill": {
     "duration": 0.018125,
     "end_time": "2022-09-04T00:21:34.942501",
     "exception": false,
     "start_time": "2022-09-04T00:21:34.924376",
     "status": "completed"
    },
    "tags": []
   },
   "outputs": [],
   "source": [
    "def bytes_to_str(byte_filename):\n",
    "    return str(byte_filename).split('\\'')[1]"
   ]
  },
  {
   "cell_type": "code",
   "execution_count": 12,
   "id": "6d0af370",
   "metadata": {
    "execution": {
     "iopub.execute_input": "2022-09-04T00:21:34.960721Z",
     "iopub.status.busy": "2022-09-04T00:21:34.960278Z",
     "iopub.status.idle": "2022-09-04T00:21:34.973705Z",
     "shell.execute_reply": "2022-09-04T00:21:34.972438Z"
    },
    "papermill": {
     "duration": 0.026261,
     "end_time": "2022-09-04T00:21:34.976916",
     "exception": false,
     "start_time": "2022-09-04T00:21:34.950655",
     "status": "completed"
    },
    "tags": []
   },
   "outputs": [],
   "source": [
    "ds_flair_000=tf.data.Dataset.list_files('../input/rsna-miccai-brain-tumor-radiogenomic-classification/train/00000/FLAIR/*')\n",
    "def best_image(ds_paths):\n",
    "    \n",
    "    s=0\n",
    "    filep=''\n",
    "    for filename in ds_paths.as_numpy_iterator():\n",
    "        img=pydicom.dcmread(bytes_to_str(filename))\n",
    "        sp=np.array(img.pixel_array).sum()\n",
    "        if(sp>s):\n",
    "            s=sp\n",
    "            filep=bytes_to_str(filename)\n",
    "    #best_img=pydicom.dcmread(filep)\n",
    "    return filep\n",
    "    "
   ]
  },
  {
   "cell_type": "code",
   "execution_count": 13,
   "id": "6661ab6f",
   "metadata": {
    "execution": {
     "iopub.execute_input": "2022-09-04T00:21:34.996172Z",
     "iopub.status.busy": "2022-09-04T00:21:34.995753Z",
     "iopub.status.idle": "2022-09-04T00:21:35.006035Z",
     "shell.execute_reply": "2022-09-04T00:21:35.004624Z"
    },
    "papermill": {
     "duration": 0.022905,
     "end_time": "2022-09-04T00:21:35.008739",
     "exception": false,
     "start_time": "2022-09-04T00:21:34.985834",
     "status": "completed"
    },
    "tags": []
   },
   "outputs": [],
   "source": [
    "def image_selection(train_ds_files):\n",
    "    files_num=[]\n",
    "    best_flair_images=[]\n",
    "    best_t1w_images=[]\n",
    "    best_t1wce_images=[]\n",
    "    best_t2w_images=[]\n",
    "    for filename in train_ds_files.as_numpy_iterator():\n",
    "        path=bytes_to_str(filename)\n",
    "        FLAIR_PATH=path+'/FLAIR/*'\n",
    "        T1w_PATH=path+'/T1w/*'\n",
    "        T1wCE_PATH=path+'/T1wCE/*'\n",
    "        T2w_PATH=path+'/T2w/*'\n",
    "        ds_files_FLAIR=tf.data.Dataset.list_files(FLAIR_PATH)\n",
    "        ds_files_T1w=tf.data.Dataset.list_files(T1w_PATH)\n",
    "        ds_files_T1wCE=tf.data.Dataset.list_files(T1wCE_PATH)\n",
    "        ds_files_T2w=tf.data.Dataset.list_files(T2w_PATH)\n",
    "        file_num=path.split('/')[-1]\n",
    "        files_num.append(int(file_num))\n",
    "        best_flair_images.append(best_image(ds_files_FLAIR))\n",
    "        best_t1w_images.append(best_image(ds_files_T1w))\n",
    "        best_t1wce_images.append(best_image(ds_files_T1wCE))\n",
    "        best_t2w_images.append(best_image(ds_files_T2w))\n",
    "    return files_num,best_flair_images,best_t1w_images,best_t1wce_images,best_t2w_images"
   ]
  },
  {
   "cell_type": "code",
   "execution_count": 14,
   "id": "de33dd28",
   "metadata": {
    "execution": {
     "iopub.execute_input": "2022-09-04T00:21:35.026928Z",
     "iopub.status.busy": "2022-09-04T00:21:35.026524Z",
     "iopub.status.idle": "2022-09-04T00:23:56.950909Z",
     "shell.execute_reply": "2022-09-04T00:23:56.949500Z"
    },
    "papermill": {
     "duration": 141.9439,
     "end_time": "2022-09-04T00:23:56.960878",
     "exception": false,
     "start_time": "2022-09-04T00:21:35.016978",
     "status": "completed"
    },
    "tags": []
   },
   "outputs": [
    {
     "data": {
      "text/plain": [
       "['../input/rsna-miccai-brain-tumor-radiogenomic-classification/train/00379/FLAIR/Image-32.dcm',\n",
       " '../input/rsna-miccai-brain-tumor-radiogenomic-classification/train/00805/FLAIR/Image-16.dcm',\n",
       " '../input/rsna-miccai-brain-tumor-radiogenomic-classification/train/00081/FLAIR/Image-438.dcm',\n",
       " '../input/rsna-miccai-brain-tumor-radiogenomic-classification/train/00212/FLAIR/Image-32.dcm',\n",
       " '../input/rsna-miccai-brain-tumor-radiogenomic-classification/train/00406/FLAIR/Image-34.dcm',\n",
       " '../input/rsna-miccai-brain-tumor-radiogenomic-classification/train/00715/FLAIR/Image-71.dcm',\n",
       " '../input/rsna-miccai-brain-tumor-radiogenomic-classification/train/00303/FLAIR/Image-26.dcm',\n",
       " '../input/rsna-miccai-brain-tumor-radiogenomic-classification/train/00836/FLAIR/Image-35.dcm',\n",
       " '../input/rsna-miccai-brain-tumor-radiogenomic-classification/train/00747/FLAIR/Image-136.dcm',\n",
       " '../input/rsna-miccai-brain-tumor-radiogenomic-classification/train/00656/FLAIR/Image-116.dcm',\n",
       " '../input/rsna-miccai-brain-tumor-radiogenomic-classification/train/00313/FLAIR/Image-36.dcm',\n",
       " '../input/rsna-miccai-brain-tumor-radiogenomic-classification/train/00320/FLAIR/Image-27.dcm',\n",
       " '../input/rsna-miccai-brain-tumor-radiogenomic-classification/train/00446/FLAIR/Image-14.dcm',\n",
       " '../input/rsna-miccai-brain-tumor-radiogenomic-classification/train/00147/FLAIR/Image-38.dcm',\n",
       " '../input/rsna-miccai-brain-tumor-radiogenomic-classification/train/00582/FLAIR/Image-26.dcm',\n",
       " '../input/rsna-miccai-brain-tumor-radiogenomic-classification/train/00659/FLAIR/Image-141.dcm',\n",
       " '../input/rsna-miccai-brain-tumor-radiogenomic-classification/train/00389/FLAIR/Image-33.dcm',\n",
       " '../input/rsna-miccai-brain-tumor-radiogenomic-classification/train/00571/FLAIR/Image-11.dcm',\n",
       " '../input/rsna-miccai-brain-tumor-radiogenomic-classification/train/00356/FLAIR/Image-30.dcm']"
      ]
     },
     "execution_count": 14,
     "metadata": {},
     "output_type": "execute_result"
    }
   ],
   "source": [
    "ds_train_files=tf.data.Dataset.list_files('../input/rsna-miccai-brain-tumor-radiogenomic-classification/train/*')\n",
    "files_num,best_flair_images,best_t1w_images,best_t1wce_images,best_t2w_images=image_selection(ds_train_files.batch(32).take(32))\n",
    "best_flair_images"
   ]
  },
  {
   "cell_type": "code",
   "execution_count": 15,
   "id": "12145a06",
   "metadata": {
    "execution": {
     "iopub.execute_input": "2022-09-04T00:23:56.979616Z",
     "iopub.status.busy": "2022-09-04T00:23:56.978562Z",
     "iopub.status.idle": "2022-09-04T00:23:56.996953Z",
     "shell.execute_reply": "2022-09-04T00:23:56.995457Z"
    },
    "papermill": {
     "duration": 0.031133,
     "end_time": "2022-09-04T00:23:57.000003",
     "exception": false,
     "start_time": "2022-09-04T00:23:56.968870",
     "status": "completed"
    },
    "tags": []
   },
   "outputs": [
    {
     "data": {
      "text/html": [
       "<div>\n",
       "<style scoped>\n",
       "    .dataframe tbody tr th:only-of-type {\n",
       "        vertical-align: middle;\n",
       "    }\n",
       "\n",
       "    .dataframe tbody tr th {\n",
       "        vertical-align: top;\n",
       "    }\n",
       "\n",
       "    .dataframe thead th {\n",
       "        text-align: right;\n",
       "    }\n",
       "</style>\n",
       "<table border=\"1\" class=\"dataframe\">\n",
       "  <thead>\n",
       "    <tr style=\"text-align: right;\">\n",
       "      <th></th>\n",
       "      <th>files_num</th>\n",
       "      <th>best_flair_images</th>\n",
       "      <th>best_t1w_images</th>\n",
       "      <th>best_t1wce_images</th>\n",
       "      <th>best_t2w_images</th>\n",
       "    </tr>\n",
       "  </thead>\n",
       "  <tbody>\n",
       "    <tr>\n",
       "      <th>0</th>\n",
       "      <td>379</td>\n",
       "      <td>../input/rsna-miccai-brain-tumor-radiogenomic-...</td>\n",
       "      <td>../input/rsna-miccai-brain-tumor-radiogenomic-...</td>\n",
       "      <td>../input/rsna-miccai-brain-tumor-radiogenomic-...</td>\n",
       "      <td>../input/rsna-miccai-brain-tumor-radiogenomic-...</td>\n",
       "    </tr>\n",
       "    <tr>\n",
       "      <th>1</th>\n",
       "      <td>805</td>\n",
       "      <td>../input/rsna-miccai-brain-tumor-radiogenomic-...</td>\n",
       "      <td>../input/rsna-miccai-brain-tumor-radiogenomic-...</td>\n",
       "      <td>../input/rsna-miccai-brain-tumor-radiogenomic-...</td>\n",
       "      <td>../input/rsna-miccai-brain-tumor-radiogenomic-...</td>\n",
       "    </tr>\n",
       "    <tr>\n",
       "      <th>2</th>\n",
       "      <td>81</td>\n",
       "      <td>../input/rsna-miccai-brain-tumor-radiogenomic-...</td>\n",
       "      <td>../input/rsna-miccai-brain-tumor-radiogenomic-...</td>\n",
       "      <td>../input/rsna-miccai-brain-tumor-radiogenomic-...</td>\n",
       "      <td>../input/rsna-miccai-brain-tumor-radiogenomic-...</td>\n",
       "    </tr>\n",
       "    <tr>\n",
       "      <th>3</th>\n",
       "      <td>212</td>\n",
       "      <td>../input/rsna-miccai-brain-tumor-radiogenomic-...</td>\n",
       "      <td>../input/rsna-miccai-brain-tumor-radiogenomic-...</td>\n",
       "      <td>../input/rsna-miccai-brain-tumor-radiogenomic-...</td>\n",
       "      <td>../input/rsna-miccai-brain-tumor-radiogenomic-...</td>\n",
       "    </tr>\n",
       "    <tr>\n",
       "      <th>4</th>\n",
       "      <td>406</td>\n",
       "      <td>../input/rsna-miccai-brain-tumor-radiogenomic-...</td>\n",
       "      <td>../input/rsna-miccai-brain-tumor-radiogenomic-...</td>\n",
       "      <td>../input/rsna-miccai-brain-tumor-radiogenomic-...</td>\n",
       "      <td>../input/rsna-miccai-brain-tumor-radiogenomic-...</td>\n",
       "    </tr>\n",
       "  </tbody>\n",
       "</table>\n",
       "</div>"
      ],
      "text/plain": [
       "   files_num                                  best_flair_images  \\\n",
       "0        379  ../input/rsna-miccai-brain-tumor-radiogenomic-...   \n",
       "1        805  ../input/rsna-miccai-brain-tumor-radiogenomic-...   \n",
       "2         81  ../input/rsna-miccai-brain-tumor-radiogenomic-...   \n",
       "3        212  ../input/rsna-miccai-brain-tumor-radiogenomic-...   \n",
       "4        406  ../input/rsna-miccai-brain-tumor-radiogenomic-...   \n",
       "\n",
       "                                     best_t1w_images  \\\n",
       "0  ../input/rsna-miccai-brain-tumor-radiogenomic-...   \n",
       "1  ../input/rsna-miccai-brain-tumor-radiogenomic-...   \n",
       "2  ../input/rsna-miccai-brain-tumor-radiogenomic-...   \n",
       "3  ../input/rsna-miccai-brain-tumor-radiogenomic-...   \n",
       "4  ../input/rsna-miccai-brain-tumor-radiogenomic-...   \n",
       "\n",
       "                                   best_t1wce_images  \\\n",
       "0  ../input/rsna-miccai-brain-tumor-radiogenomic-...   \n",
       "1  ../input/rsna-miccai-brain-tumor-radiogenomic-...   \n",
       "2  ../input/rsna-miccai-brain-tumor-radiogenomic-...   \n",
       "3  ../input/rsna-miccai-brain-tumor-radiogenomic-...   \n",
       "4  ../input/rsna-miccai-brain-tumor-radiogenomic-...   \n",
       "\n",
       "                                     best_t2w_images  \n",
       "0  ../input/rsna-miccai-brain-tumor-radiogenomic-...  \n",
       "1  ../input/rsna-miccai-brain-tumor-radiogenomic-...  \n",
       "2  ../input/rsna-miccai-brain-tumor-radiogenomic-...  \n",
       "3  ../input/rsna-miccai-brain-tumor-radiogenomic-...  \n",
       "4  ../input/rsna-miccai-brain-tumor-radiogenomic-...  "
      ]
     },
     "execution_count": 15,
     "metadata": {},
     "output_type": "execute_result"
    }
   ],
   "source": [
    "dict={\n",
    "    'files_num':files_num,\n",
    "    'best_flair_images':best_flair_images,\n",
    "    'best_t1w_images':best_t1w_images,\n",
    "    'best_t1wce_images':best_t1wce_images,\n",
    "    'best_t2w_images':best_t2w_images\n",
    "}\n",
    "df=pd.DataFrame(dict)\n",
    "df.head()"
   ]
  },
  {
   "cell_type": "code",
   "execution_count": 16,
   "id": "23241f95",
   "metadata": {
    "execution": {
     "iopub.execute_input": "2022-09-04T00:23:57.019579Z",
     "iopub.status.busy": "2022-09-04T00:23:57.018903Z",
     "iopub.status.idle": "2022-09-04T00:23:57.024216Z",
     "shell.execute_reply": "2022-09-04T00:23:57.023441Z"
    },
    "papermill": {
     "duration": 0.018053,
     "end_time": "2022-09-04T00:23:57.026949",
     "exception": false,
     "start_time": "2022-09-04T00:23:57.008896",
     "status": "completed"
    },
    "tags": []
   },
   "outputs": [],
   "source": [
    "#train, test = tf.keras.datasets.fashion_mnist.load_data()\n",
    "\n",
    "#images, labels = train\n",
    "#images = images/255.0\n",
    "#labels = labels.astype(np.int32)\n",
    "#fmnist_train_ds = tf.data.Dataset.from_tensor_slices((images, labels))\n",
    "#fmnist_train_ds = fmnist_train_ds.shuffle(5000).batch(32)\n",
    "\n",
    "#model = tf.keras.Sequential([\n",
    "#  tf.keras.layers.Flatten(),\n",
    "#  tf.keras.layers.Dense(10)\n",
    "#])\n",
    "\n",
    "#model.compile(optimizer='adam',\n",
    "#              loss=tf.keras.losses.SparseCategoricalCrossentropy(from_logits=True), \n",
    "#              metrics=['accuracy'])\n",
    "#model.fit(fmnist_train_ds, epochs=2)"
   ]
  },
  {
   "cell_type": "code",
   "execution_count": 17,
   "id": "0672d7b2",
   "metadata": {
    "execution": {
     "iopub.execute_input": "2022-09-04T00:23:57.045504Z",
     "iopub.status.busy": "2022-09-04T00:23:57.044836Z",
     "iopub.status.idle": "2022-09-04T00:23:57.056519Z",
     "shell.execute_reply": "2022-09-04T00:23:57.055358Z"
    },
    "papermill": {
     "duration": 0.023918,
     "end_time": "2022-09-04T00:23:57.058993",
     "exception": false,
     "start_time": "2022-09-04T00:23:57.035075",
     "status": "completed"
    },
    "tags": []
   },
   "outputs": [
    {
     "data": {
      "text/plain": [
       "<tf.Tensor: shape=(), dtype=string, numpy=b'../input/rsna-miccai-brain-tumor-radiogenomic-classification/train/00590'>"
      ]
     },
     "execution_count": 17,
     "metadata": {},
     "output_type": "execute_result"
    }
   ],
   "source": [
    "next(iter(ds_train_files))"
   ]
  },
  {
   "cell_type": "code",
   "execution_count": 18,
   "id": "3fac52e4",
   "metadata": {
    "execution": {
     "iopub.execute_input": "2022-09-04T00:23:57.077600Z",
     "iopub.status.busy": "2022-09-04T00:23:57.077156Z",
     "iopub.status.idle": "2022-09-04T00:23:57.089643Z",
     "shell.execute_reply": "2022-09-04T00:23:57.088296Z"
    },
    "papermill": {
     "duration": 0.025077,
     "end_time": "2022-09-04T00:23:57.092344",
     "exception": false,
     "start_time": "2022-09-04T00:23:57.067267",
     "status": "completed"
    },
    "tags": []
   },
   "outputs": [
    {
     "name": "stdout",
     "output_type": "stream",
     "text": [
      "../input/rsna-miccai-brain-tumor-radiogenomic-classification/train/00402\n"
     ]
    }
   ],
   "source": [
    "batches=ds_train_files.batch(32)\n",
    "for batch in batches.take(1):\n",
    "    print(bytes_to_str(batch.numpy()[0]))"
   ]
  },
  {
   "cell_type": "code",
   "execution_count": 19,
   "id": "ce9f42a2",
   "metadata": {
    "execution": {
     "iopub.execute_input": "2022-09-04T00:23:57.112192Z",
     "iopub.status.busy": "2022-09-04T00:23:57.111475Z",
     "iopub.status.idle": "2022-09-04T00:23:57.332856Z",
     "shell.execute_reply": "2022-09-04T00:23:57.331457Z"
    },
    "papermill": {
     "duration": 0.234334,
     "end_time": "2022-09-04T00:23:57.335436",
     "exception": false,
     "start_time": "2022-09-04T00:23:57.101102",
     "status": "completed"
    },
    "tags": []
   },
   "outputs": [
    {
     "name": "stdout",
     "output_type": "stream",
     "text": [
      "3239458\n"
     ]
    },
    {
     "data": {
      "text/plain": [
       "<matplotlib.image.AxesImage at 0x7f34dc6d4d50>"
      ]
     },
     "execution_count": 19,
     "metadata": {},
     "output_type": "execute_result"
    },
    {
     "data": {
      "image/png": "[encoded data removed]",
      "text/plain": [
       "<Figure size 432x288 with 1 Axes>"
      ]
     },
     "metadata": {
      "needs_background": "light"
     },
     "output_type": "display_data"
    }
   ],
   "source": [
    "ds = pydicom.dcmread(best_flair_images[0])\n",
    "print(np.array(ds.pixel_array).sum())\n",
    "plt.imshow(ds.pixel_array, cmap=plt.cm.bone) "
   ]
  },
  {
   "cell_type": "code",
   "execution_count": 20,
   "id": "6d9b49f6",
   "metadata": {
    "execution": {
     "iopub.execute_input": "2022-09-04T00:23:57.356945Z",
     "iopub.status.busy": "2022-09-04T00:23:57.356432Z",
     "iopub.status.idle": "2022-09-04T00:23:57.525655Z",
     "shell.execute_reply": "2022-09-04T00:23:57.524187Z"
    },
    "papermill": {
     "duration": 0.183632,
     "end_time": "2022-09-04T00:23:57.528452",
     "exception": false,
     "start_time": "2022-09-04T00:23:57.344820",
     "status": "completed"
    },
    "tags": []
   },
   "outputs": [
    {
     "name": "stdout",
     "output_type": "stream",
     "text": [
      "6252458\n"
     ]
    },
    {
     "data": {
      "text/plain": [
       "<matplotlib.image.AxesImage at 0x7f34dc5e75d0>"
      ]
     },
     "execution_count": 20,
     "metadata": {},
     "output_type": "execute_result"
    },
    {
     "data": {
      "image/png": "[encoded data removed]",
      "text/plain": [
       "<Figure size 432x288 with 1 Axes>"
      ]
     },
     "metadata": {
      "needs_background": "light"
     },
     "output_type": "display_data"
    }
   ],
   "source": [
    "ds = pydicom.dcmread(best_t1wce_images[0])\n",
    "print(np.array(ds.pixel_array).sum())\n",
    "plt.imshow(ds.pixel_array, cmap=plt.cm.bone) "
   ]
  },
  {
   "cell_type": "code",
   "execution_count": 21,
   "id": "b0605929",
   "metadata": {
    "execution": {
     "iopub.execute_input": "2022-09-04T00:23:57.551029Z",
     "iopub.status.busy": "2022-09-04T00:23:57.550577Z",
     "iopub.status.idle": "2022-09-04T00:23:57.716938Z",
     "shell.execute_reply": "2022-09-04T00:23:57.715724Z"
    },
    "papermill": {
     "duration": 0.180683,
     "end_time": "2022-09-04T00:23:57.719705",
     "exception": false,
     "start_time": "2022-09-04T00:23:57.539022",
     "status": "completed"
    },
    "tags": []
   },
   "outputs": [
    {
     "name": "stdout",
     "output_type": "stream",
     "text": [
      "5276122\n"
     ]
    },
    {
     "data": {
      "text/plain": [
       "<matplotlib.image.AxesImage at 0x7f34dc562c10>"
      ]
     },
     "execution_count": 21,
     "metadata": {},
     "output_type": "execute_result"
    },
    {
     "data": {
      "image/png": "[encoded data removed]",
      "text/plain": [
       "<Figure size 432x288 with 1 Axes>"
      ]
     },
     "metadata": {
      "needs_background": "light"
     },
     "output_type": "display_data"
    }
   ],
   "source": [
    "ds = pydicom.dcmread(best_t1w_images[0])\n",
    "print(np.array(ds.pixel_array).sum())\n",
    "plt.imshow(ds.pixel_array, cmap=plt.cm.bone) "
   ]
  },
  {
   "cell_type": "code",
   "execution_count": 22,
   "id": "1f27e6aa",
   "metadata": {
    "execution": {
     "iopub.execute_input": "2022-09-04T00:23:57.744310Z",
     "iopub.status.busy": "2022-09-04T00:23:57.743345Z",
     "iopub.status.idle": "2022-09-04T00:23:57.974459Z",
     "shell.execute_reply": "2022-09-04T00:23:57.973037Z"
    },
    "papermill": {
     "duration": 0.246404,
     "end_time": "2022-09-04T00:23:57.977282",
     "exception": false,
     "start_time": "2022-09-04T00:23:57.730878",
     "status": "completed"
    },
    "tags": []
   },
   "outputs": [
    {
     "name": "stdout",
     "output_type": "stream",
     "text": [
      "11966276\n"
     ]
    },
    {
     "data": {
      "text/plain": [
       "<matplotlib.image.AxesImage at 0x7f34dc474e50>"
      ]
     },
     "execution_count": 22,
     "metadata": {},
     "output_type": "execute_result"
    },
    {
     "data": {
      "image/png": "[encoded data removed]",
      "text/plain": [
       "<Figure size 432x288 with 1 Axes>"
      ]
     },
     "metadata": {
      "needs_background": "light"
     },
     "output_type": "display_data"
    }
   ],
   "source": [
    "ds = pydicom.dcmread(best_t2w_images[0])\n",
    "print(np.array(ds.pixel_array).sum())\n",
    "plt.imshow(ds.pixel_array, cmap=plt.cm.bone)"
   ]
  },
  {
   "cell_type": "code",
   "execution_count": 23,
   "id": "55139d5a",
   "metadata": {
    "execution": {
     "iopub.execute_input": "2022-09-04T00:23:58.003630Z",
     "iopub.status.busy": "2022-09-04T00:23:58.002831Z",
     "iopub.status.idle": "2022-09-04T00:23:58.008884Z",
     "shell.execute_reply": "2022-09-04T00:23:58.007766Z"
    },
    "papermill": {
     "duration": 0.023023,
     "end_time": "2022-09-04T00:23:58.012652",
     "exception": false,
     "start_time": "2022-09-04T00:23:57.989629",
     "status": "completed"
    },
    "tags": []
   },
   "outputs": [
    {
     "name": "stdout",
     "output_type": "stream",
     "text": [
      "379\n"
     ]
    }
   ],
   "source": [
    "print(files_num[0])"
   ]
  },
  {
   "cell_type": "code",
   "execution_count": 24,
   "id": "742d21f6",
   "metadata": {
    "execution": {
     "iopub.execute_input": "2022-09-04T00:23:58.039472Z",
     "iopub.status.busy": "2022-09-04T00:23:58.039015Z",
     "iopub.status.idle": "2022-09-04T00:23:58.050827Z",
     "shell.execute_reply": "2022-09-04T00:23:58.049612Z"
    },
    "papermill": {
     "duration": 0.028171,
     "end_time": "2022-09-04T00:23:58.053255",
     "exception": false,
     "start_time": "2022-09-04T00:23:58.025084",
     "status": "completed"
    },
    "tags": []
   },
   "outputs": [
    {
     "data": {
      "text/html": [
       "<div>\n",
       "<style scoped>\n",
       "    .dataframe tbody tr th:only-of-type {\n",
       "        vertical-align: middle;\n",
       "    }\n",
       "\n",
       "    .dataframe tbody tr th {\n",
       "        vertical-align: top;\n",
       "    }\n",
       "\n",
       "    .dataframe thead th {\n",
       "        text-align: right;\n",
       "    }\n",
       "</style>\n",
       "<table border=\"1\" class=\"dataframe\">\n",
       "  <thead>\n",
       "    <tr style=\"text-align: right;\">\n",
       "      <th></th>\n",
       "      <th>BraTS21ID</th>\n",
       "      <th>MGMT_value</th>\n",
       "    </tr>\n",
       "  </thead>\n",
       "  <tbody>\n",
       "    <tr>\n",
       "      <th>258</th>\n",
       "      <td>378</td>\n",
       "      <td>0</td>\n",
       "    </tr>\n",
       "  </tbody>\n",
       "</table>\n",
       "</div>"
      ],
      "text/plain": [
       "     BraTS21ID  MGMT_value\n",
       "258        378           0"
      ]
     },
     "execution_count": 24,
     "metadata": {},
     "output_type": "execute_result"
    }
   ],
   "source": [
    "train_labels_ds[train_labels_ds['BraTS21ID']==378]"
   ]
  },
  {
   "cell_type": "code",
   "execution_count": 25,
   "id": "44c7163c",
   "metadata": {
    "execution": {
     "iopub.execute_input": "2022-09-04T00:23:58.078375Z",
     "iopub.status.busy": "2022-09-04T00:23:58.077967Z",
     "iopub.status.idle": "2022-09-04T00:23:58.382427Z",
     "shell.execute_reply": "2022-09-04T00:23:58.381450Z"
    },
    "papermill": {
     "duration": 0.319932,
     "end_time": "2022-09-04T00:23:58.384940",
     "exception": false,
     "start_time": "2022-09-04T00:23:58.065008",
     "status": "completed"
    },
    "tags": []
   },
   "outputs": [
    {
     "name": "stdout",
     "output_type": "stream",
     "text": [
      "66379613\n"
     ]
    },
    {
     "data": {
      "text/plain": [
       "<matplotlib.image.AxesImage at 0x7f34dc46bdd0>"
      ]
     },
     "execution_count": 25,
     "metadata": {},
     "output_type": "execute_result"
    },
    {
     "data": {
      "image/png": "[encoded data removed]",
      "text/plain": [
       "<Figure size 432x288 with 1 Axes>"
      ]
     },
     "metadata": {
      "needs_background": "light"
     },
     "output_type": "display_data"
    }
   ],
   "source": [
    "ds = pydicom.dcmread(best_t2w_images[1])\n",
    "print(np.array(ds.pixel_array).sum())\n",
    "plt.imshow(ds.pixel_array, cmap=plt.cm.bone)"
   ]
  },
  {
   "cell_type": "code",
   "execution_count": 26,
   "id": "e36a1341",
   "metadata": {
    "execution": {
     "iopub.execute_input": "2022-09-04T00:23:58.414816Z",
     "iopub.status.busy": "2022-09-04T00:23:58.413482Z",
     "iopub.status.idle": "2022-09-04T00:23:58.422653Z",
     "shell.execute_reply": "2022-09-04T00:23:58.421461Z"
    },
    "papermill": {
     "duration": 0.026872,
     "end_time": "2022-09-04T00:23:58.425598",
     "exception": false,
     "start_time": "2022-09-04T00:23:58.398726",
     "status": "completed"
    },
    "tags": []
   },
   "outputs": [
    {
     "data": {
      "text/plain": [
       "805"
      ]
     },
     "execution_count": 26,
     "metadata": {},
     "output_type": "execute_result"
    }
   ],
   "source": [
    "files_num[1]"
   ]
  },
  {
   "cell_type": "code",
   "execution_count": 27,
   "id": "cc033478",
   "metadata": {
    "execution": {
     "iopub.execute_input": "2022-09-04T00:23:58.454030Z",
     "iopub.status.busy": "2022-09-04T00:23:58.452981Z",
     "iopub.status.idle": "2022-09-04T00:23:58.466355Z",
     "shell.execute_reply": "2022-09-04T00:23:58.465130Z"
    },
    "papermill": {
     "duration": 0.030428,
     "end_time": "2022-09-04T00:23:58.468923",
     "exception": false,
     "start_time": "2022-09-04T00:23:58.438495",
     "status": "completed"
    },
    "tags": []
   },
   "outputs": [
    {
     "data": {
      "text/html": [
       "<div>\n",
       "<style scoped>\n",
       "    .dataframe tbody tr th:only-of-type {\n",
       "        vertical-align: middle;\n",
       "    }\n",
       "\n",
       "    .dataframe tbody tr th {\n",
       "        vertical-align: top;\n",
       "    }\n",
       "\n",
       "    .dataframe thead th {\n",
       "        text-align: right;\n",
       "    }\n",
       "</style>\n",
       "<table border=\"1\" class=\"dataframe\">\n",
       "  <thead>\n",
       "    <tr style=\"text-align: right;\">\n",
       "      <th></th>\n",
       "      <th>BraTS21ID</th>\n",
       "      <th>MGMT_value</th>\n",
       "    </tr>\n",
       "  </thead>\n",
       "  <tbody>\n",
       "    <tr>\n",
       "      <th>281</th>\n",
       "      <td>408</td>\n",
       "      <td>1</td>\n",
       "    </tr>\n",
       "  </tbody>\n",
       "</table>\n",
       "</div>"
      ],
      "text/plain": [
       "     BraTS21ID  MGMT_value\n",
       "281        408           1"
      ]
     },
     "execution_count": 27,
     "metadata": {},
     "output_type": "execute_result"
    }
   ],
   "source": [
    "train_labels_ds[train_labels_ds['BraTS21ID']==408]"
   ]
  }
 ],
 "metadata": {
  "kernelspec": {
   "display_name": "Python 3",
   "language": "python",
   "name": "python3"
  },
  "language_info": {
   "codemirror_mode": {
    "name": "ipython",
    "version": 3
   },
   "file_extension": ".py",
   "mimetype": "text/x-python",
   "name": "python",
   "nbconvert_exporter": "python",
   "pygments_lexer": "ipython3",
   "version": "3.7.12"
  },
  "papermill": {
   "default_parameters": {},
   "duration": 164.341643,
   "end_time": "2022-09-04T00:24:02.012366",
   "environment_variables": {},
   "exception": null,
   "input_path": "__notebook__.ipynb",
   "output_path": "__notebook__.ipynb",
   "parameters": {},
   "start_time": "2022-09-04T00:21:17.670723",
   "version": "2.3.4"
  }
 },
 "nbformat": 4,
 "nbformat_minor": 5
}
