{
 "cells": [
  {
   "cell_type": "code",
   "execution_count": 1,
   "id": "eccd0355",
   "metadata": {
    "execution": {
     "iopub.execute_input": "2022-09-04T23:35:39.389591Z",
     "iopub.status.busy": "2022-09-04T23:35:39.388754Z",
     "iopub.status.idle": "2022-09-04T23:35:44.227168Z",
     "shell.execute_reply": "2022-09-04T23:35:44.226129Z"
    },
    "papermill": {
     "duration": 4.84966,
     "end_time": "2022-09-04T23:35:44.230252",
     "exception": false,
     "start_time": "2022-09-04T23:35:39.380592",
     "status": "completed"
    },
    "tags": []
   },
   "outputs": [],
   "source": [
    "import pandas as pd\n",
    "import numpy as np\n",
    "import tensorflow as tf\n",
    "import matplotlib.pyplot as plt\n",
    "import pydicom\n",
    "from pydicom.data import get_testdata_files"
   ]
  },
  {
   "cell_type": "code",
   "execution_count": 2,
   "id": "3f91b611",
   "metadata": {
    "execution": {
     "iopub.execute_input": "2022-09-04T23:35:44.243751Z",
     "iopub.status.busy": "2022-09-04T23:35:44.243239Z",
     "iopub.status.idle": "2022-09-04T23:35:47.184622Z",
     "shell.execute_reply": "2022-09-04T23:35:47.183673Z"
    },
    "papermill": {
     "duration": 2.950102,
     "end_time": "2022-09-04T23:35:47.187237",
     "exception": false,
     "start_time": "2022-09-04T23:35:44.237135",
     "status": "completed"
    },
    "tags": []
   },
   "outputs": [
    {
     "name": "stderr",
     "output_type": "stream",
     "text": [
      "2022-09-04 23:35:44.304544: I tensorflow/stream_executor/cuda/cuda_gpu_executor.cc:937] successful NUMA node read from SysFS had negative value (-1), but there must be at least one NUMA node, so returning NUMA node zero\n",
      "2022-09-04 23:35:44.437548: I tensorflow/stream_executor/cuda/cuda_gpu_executor.cc:937] successful NUMA node read from SysFS had negative value (-1), but there must be at least one NUMA node, so returning NUMA node zero\n",
      "2022-09-04 23:35:44.438369: I tensorflow/stream_executor/cuda/cuda_gpu_executor.cc:937] successful NUMA node read from SysFS had negative value (-1), but there must be at least one NUMA node, so returning NUMA node zero\n",
      "2022-09-04 23:35:44.447907: I tensorflow/core/platform/cpu_feature_guard.cc:142] This TensorFlow binary is optimized with oneAPI Deep Neural Network Library (oneDNN) to use the following CPU instructions in performance-critical operations:  AVX2 AVX512F FMA\n",
      "To enable them in other operations, rebuild TensorFlow with the appropriate compiler flags.\n",
      "2022-09-04 23:35:44.448252: I tensorflow/stream_executor/cuda/cuda_gpu_executor.cc:937] successful NUMA node read from SysFS had negative value (-1), but there must be at least one NUMA node, so returning NUMA node zero\n",
      "2022-09-04 23:35:44.449009: I tensorflow/stream_executor/cuda/cuda_gpu_executor.cc:937] successful NUMA node read from SysFS had negative value (-1), but there must be at least one NUMA node, so returning NUMA node zero\n",
      "2022-09-04 23:35:44.449658: I tensorflow/stream_executor/cuda/cuda_gpu_executor.cc:937] successful NUMA node read from SysFS had negative value (-1), but there must be at least one NUMA node, so returning NUMA node zero\n",
      "2022-09-04 23:35:46.670835: I tensorflow/stream_executor/cuda/cuda_gpu_executor.cc:937] successful NUMA node read from SysFS had negative value (-1), but there must be at least one NUMA node, so returning NUMA node zero\n",
      "2022-09-04 23:35:46.671609: I tensorflow/stream_executor/cuda/cuda_gpu_executor.cc:937] successful NUMA node read from SysFS had negative value (-1), but there must be at least one NUMA node, so returning NUMA node zero\n",
      "2022-09-04 23:35:46.672310: I tensorflow/stream_executor/cuda/cuda_gpu_executor.cc:937] successful NUMA node read from SysFS had negative value (-1), but there must be at least one NUMA node, so returning NUMA node zero\n",
      "2022-09-04 23:35:46.672928: I tensorflow/core/common_runtime/gpu/gpu_device.cc:1510] Created device /job:localhost/replica:0/task:0/device:GPU:0 with 15401 MB memory:  -> device: 0, name: Tesla P100-PCIE-16GB, pci bus id: 0000:00:04.0, compute capability: 6.0\n"
     ]
    }
   ],
   "source": [
    "train_ds_files=tf.data.Dataset.list_files('../input/rsna-miccai-brain-tumor-radiogenomic-classification/train/*')"
   ]
  },
  {
   "cell_type": "code",
   "execution_count": 3,
   "id": "e8ac70c2",
   "metadata": {
    "execution": {
     "iopub.execute_input": "2022-09-04T23:35:47.199797Z",
     "iopub.status.busy": "2022-09-04T23:35:47.198952Z",
     "iopub.status.idle": "2022-09-04T23:35:47.208043Z",
     "shell.execute_reply": "2022-09-04T23:35:47.207009Z"
    },
    "papermill": {
     "duration": 0.017562,
     "end_time": "2022-09-04T23:35:47.210275",
     "exception": false,
     "start_time": "2022-09-04T23:35:47.192713",
     "status": "completed"
    },
    "tags": []
   },
   "outputs": [
    {
     "data": {
      "text/plain": [
       "585"
      ]
     },
     "execution_count": 3,
     "metadata": {},
     "output_type": "execute_result"
    }
   ],
   "source": [
    "len(train_ds_files)"
   ]
  },
  {
   "cell_type": "code",
   "execution_count": 4,
   "id": "a84faba3",
   "metadata": {
    "execution": {
     "iopub.execute_input": "2022-09-04T23:35:47.222020Z",
     "iopub.status.busy": "2022-09-04T23:35:47.221752Z",
     "iopub.status.idle": "2022-09-04T23:35:47.236977Z",
     "shell.execute_reply": "2022-09-04T23:35:47.236170Z"
    },
    "papermill": {
     "duration": 0.023316,
     "end_time": "2022-09-04T23:35:47.238934",
     "exception": false,
     "start_time": "2022-09-04T23:35:47.215618",
     "status": "completed"
    },
    "tags": []
   },
   "outputs": [
    {
     "data": {
      "text/plain": [
       "(585, 2)"
      ]
     },
     "execution_count": 4,
     "metadata": {},
     "output_type": "execute_result"
    }
   ],
   "source": [
    "train_labels_ds=pd.read_csv('../input/rsna-miccai-brain-tumor-radiogenomic-classification/train_labels.csv')\n",
    "train_labels_ds.shape"
   ]
  },
  {
   "cell_type": "code",
   "execution_count": 5,
   "id": "d29c4ba0",
   "metadata": {
    "execution": {
     "iopub.execute_input": "2022-09-04T23:35:47.251254Z",
     "iopub.status.busy": "2022-09-04T23:35:47.250464Z",
     "iopub.status.idle": "2022-09-04T23:35:47.264798Z",
     "shell.execute_reply": "2022-09-04T23:35:47.263872Z"
    },
    "papermill": {
     "duration": 0.022352,
     "end_time": "2022-09-04T23:35:47.266731",
     "exception": false,
     "start_time": "2022-09-04T23:35:47.244379",
     "status": "completed"
    },
    "tags": []
   },
   "outputs": [
    {
     "data": {
      "text/html": [
       "<div>\n",
       "<style scoped>\n",
       "    .dataframe tbody tr th:only-of-type {\n",
       "        vertical-align: middle;\n",
       "    }\n",
       "\n",
       "    .dataframe tbody tr th {\n",
       "        vertical-align: top;\n",
       "    }\n",
       "\n",
       "    .dataframe thead th {\n",
       "        text-align: right;\n",
       "    }\n",
       "</style>\n",
       "<table border=\"1\" class=\"dataframe\">\n",
       "  <thead>\n",
       "    <tr style=\"text-align: right;\">\n",
       "      <th></th>\n",
       "      <th>BraTS21ID</th>\n",
       "      <th>MGMT_value</th>\n",
       "    </tr>\n",
       "  </thead>\n",
       "  <tbody>\n",
       "    <tr>\n",
       "      <th>0</th>\n",
       "      <td>0</td>\n",
       "      <td>1</td>\n",
       "    </tr>\n",
       "    <tr>\n",
       "      <th>1</th>\n",
       "      <td>2</td>\n",
       "      <td>1</td>\n",
       "    </tr>\n",
       "    <tr>\n",
       "      <th>2</th>\n",
       "      <td>3</td>\n",
       "      <td>0</td>\n",
       "    </tr>\n",
       "    <tr>\n",
       "      <th>3</th>\n",
       "      <td>5</td>\n",
       "      <td>1</td>\n",
       "    </tr>\n",
       "    <tr>\n",
       "      <th>4</th>\n",
       "      <td>6</td>\n",
       "      <td>1</td>\n",
       "    </tr>\n",
       "  </tbody>\n",
       "</table>\n",
       "</div>"
      ],
      "text/plain": [
       "   BraTS21ID  MGMT_value\n",
       "0          0           1\n",
       "1          2           1\n",
       "2          3           0\n",
       "3          5           1\n",
       "4          6           1"
      ]
     },
     "execution_count": 5,
     "metadata": {},
     "output_type": "execute_result"
    }
   ],
   "source": [
    "train_labels_ds.head()"
   ]
  },
  {
   "cell_type": "code",
   "execution_count": 6,
   "id": "13ff819a",
   "metadata": {
    "execution": {
     "iopub.execute_input": "2022-09-04T23:35:47.279573Z",
     "iopub.status.busy": "2022-09-04T23:35:47.278741Z",
     "iopub.status.idle": "2022-09-04T23:35:47.298537Z",
     "shell.execute_reply": "2022-09-04T23:35:47.296886Z"
    },
    "papermill": {
     "duration": 0.028899,
     "end_time": "2022-09-04T23:35:47.301191",
     "exception": false,
     "start_time": "2022-09-04T23:35:47.272292",
     "status": "completed"
    },
    "tags": []
   },
   "outputs": [
    {
     "name": "stdout",
     "output_type": "stream",
     "text": [
      "<class 'pandas.core.frame.DataFrame'>\n",
      "RangeIndex: 585 entries, 0 to 584\n",
      "Data columns (total 2 columns):\n",
      " #   Column      Non-Null Count  Dtype\n",
      "---  ------      --------------  -----\n",
      " 0   BraTS21ID   585 non-null    int64\n",
      " 1   MGMT_value  585 non-null    int64\n",
      "dtypes: int64(2)\n",
      "memory usage: 9.3 KB\n"
     ]
    }
   ],
   "source": [
    "train_labels_ds.info()"
   ]
  },
  {
   "cell_type": "code",
   "execution_count": 7,
   "id": "a61e38a2",
   "metadata": {
    "execution": {
     "iopub.execute_input": "2022-09-04T23:35:47.315457Z",
     "iopub.status.busy": "2022-09-04T23:35:47.314576Z",
     "iopub.status.idle": "2022-09-04T23:35:47.331621Z",
     "shell.execute_reply": "2022-09-04T23:35:47.330640Z"
    },
    "papermill": {
     "duration": 0.025751,
     "end_time": "2022-09-04T23:35:47.333680",
     "exception": false,
     "start_time": "2022-09-04T23:35:47.307929",
     "status": "completed"
    },
    "tags": []
   },
   "outputs": [
    {
     "data": {
      "text/html": [
       "<div>\n",
       "<style scoped>\n",
       "    .dataframe tbody tr th:only-of-type {\n",
       "        vertical-align: middle;\n",
       "    }\n",
       "\n",
       "    .dataframe tbody tr th {\n",
       "        vertical-align: top;\n",
       "    }\n",
       "\n",
       "    .dataframe thead th {\n",
       "        text-align: right;\n",
       "    }\n",
       "</style>\n",
       "<table border=\"1\" class=\"dataframe\">\n",
       "  <thead>\n",
       "    <tr style=\"text-align: right;\">\n",
       "      <th></th>\n",
       "      <th>BraTS21ID</th>\n",
       "      <th>MGMT_value</th>\n",
       "    </tr>\n",
       "  </thead>\n",
       "  <tbody>\n",
       "    <tr>\n",
       "      <th>count</th>\n",
       "      <td>585.000000</td>\n",
       "      <td>585.000000</td>\n",
       "    </tr>\n",
       "    <tr>\n",
       "      <th>mean</th>\n",
       "      <td>431.179487</td>\n",
       "      <td>0.524786</td>\n",
       "    </tr>\n",
       "    <tr>\n",
       "      <th>std</th>\n",
       "      <td>251.545000</td>\n",
       "      <td>0.499813</td>\n",
       "    </tr>\n",
       "    <tr>\n",
       "      <th>min</th>\n",
       "      <td>0.000000</td>\n",
       "      <td>0.000000</td>\n",
       "    </tr>\n",
       "    <tr>\n",
       "      <th>25%</th>\n",
       "      <td>219.000000</td>\n",
       "      <td>0.000000</td>\n",
       "    </tr>\n",
       "    <tr>\n",
       "      <th>50%</th>\n",
       "      <td>423.000000</td>\n",
       "      <td>1.000000</td>\n",
       "    </tr>\n",
       "    <tr>\n",
       "      <th>75%</th>\n",
       "      <td>630.000000</td>\n",
       "      <td>1.000000</td>\n",
       "    </tr>\n",
       "    <tr>\n",
       "      <th>max</th>\n",
       "      <td>1010.000000</td>\n",
       "      <td>1.000000</td>\n",
       "    </tr>\n",
       "  </tbody>\n",
       "</table>\n",
       "</div>"
      ],
      "text/plain": [
       "         BraTS21ID  MGMT_value\n",
       "count   585.000000  585.000000\n",
       "mean    431.179487    0.524786\n",
       "std     251.545000    0.499813\n",
       "min       0.000000    0.000000\n",
       "25%     219.000000    0.000000\n",
       "50%     423.000000    1.000000\n",
       "75%     630.000000    1.000000\n",
       "max    1010.000000    1.000000"
      ]
     },
     "execution_count": 7,
     "metadata": {},
     "output_type": "execute_result"
    }
   ],
   "source": [
    "train_labels_ds.describe()"
   ]
  },
  {
   "cell_type": "code",
   "execution_count": 8,
   "id": "93022251",
   "metadata": {
    "execution": {
     "iopub.execute_input": "2022-09-04T23:35:47.346201Z",
     "iopub.status.busy": "2022-09-04T23:35:47.345948Z",
     "iopub.status.idle": "2022-09-04T23:35:47.352839Z",
     "shell.execute_reply": "2022-09-04T23:35:47.351789Z"
    },
    "papermill": {
     "duration": 0.016459,
     "end_time": "2022-09-04T23:35:47.355856",
     "exception": false,
     "start_time": "2022-09-04T23:35:47.339397",
     "status": "completed"
    },
    "tags": []
   },
   "outputs": [
    {
     "data": {
      "text/plain": [
       "1    307\n",
       "0    278\n",
       "Name: MGMT_value, dtype: int64"
      ]
     },
     "execution_count": 8,
     "metadata": {},
     "output_type": "execute_result"
    }
   ],
   "source": [
    "train_labels_ds['MGMT_value'].value_counts()"
   ]
  },
  {
   "cell_type": "code",
   "execution_count": 9,
   "id": "129aa7ac",
   "metadata": {
    "execution": {
     "iopub.execute_input": "2022-09-04T23:35:47.369472Z",
     "iopub.status.busy": "2022-09-04T23:35:47.369211Z",
     "iopub.status.idle": "2022-09-04T23:35:47.376588Z",
     "shell.execute_reply": "2022-09-04T23:35:47.375621Z"
    },
    "papermill": {
     "duration": 0.016792,
     "end_time": "2022-09-04T23:35:47.378570",
     "exception": false,
     "start_time": "2022-09-04T23:35:47.361778",
     "status": "completed"
    },
    "tags": []
   },
   "outputs": [
    {
     "data": {
      "text/plain": [
       "<bound method Series.unique of 0         0\n",
       "1         2\n",
       "2         3\n",
       "3         5\n",
       "4         6\n",
       "       ... \n",
       "580    1005\n",
       "581    1007\n",
       "582    1008\n",
       "583    1009\n",
       "584    1010\n",
       "Name: BraTS21ID, Length: 585, dtype: int64>"
      ]
     },
     "execution_count": 9,
     "metadata": {},
     "output_type": "execute_result"
    }
   ],
   "source": [
    "train_labels_ds['BraTS21ID'].unique"
   ]
  },
  {
   "cell_type": "code",
   "execution_count": 10,
   "id": "64ec09de",
   "metadata": {
    "execution": {
     "iopub.execute_input": "2022-09-04T23:35:47.391975Z",
     "iopub.status.busy": "2022-09-04T23:35:47.391240Z",
     "iopub.status.idle": "2022-09-04T23:35:47.588024Z",
     "shell.execute_reply": "2022-09-04T23:35:47.586830Z"
    },
    "papermill": {
     "duration": 0.206175,
     "end_time": "2022-09-04T23:35:47.590618",
     "exception": false,
     "start_time": "2022-09-04T23:35:47.384443",
     "status": "completed"
    },
    "tags": []
   },
   "outputs": [
    {
     "name": "stdout",
     "output_type": "stream",
     "text": [
      "b'../input/rsna-miccai-brain-tumor-radiogenomic-classification/train/00000/FLAIR/Image-105.dcm'\n"
     ]
    }
   ],
   "source": [
    "train_ds_files_00000_FLAIR=tf.data.Dataset.list_files('../input/rsna-miccai-brain-tumor-radiogenomic-classification/train/00000/FLAIR/*')\n",
    "filename=train_ds_files_00000_FLAIR.as_numpy_iterator().next()\n",
    "print(filename)"
   ]
  },
  {
   "cell_type": "code",
   "execution_count": 11,
   "id": "8b490eb8",
   "metadata": {
    "execution": {
     "iopub.execute_input": "2022-09-04T23:35:47.604864Z",
     "iopub.status.busy": "2022-09-04T23:35:47.604058Z",
     "iopub.status.idle": "2022-09-04T23:35:47.609091Z",
     "shell.execute_reply": "2022-09-04T23:35:47.608228Z"
    },
    "papermill": {
     "duration": 0.013925,
     "end_time": "2022-09-04T23:35:47.611048",
     "exception": false,
     "start_time": "2022-09-04T23:35:47.597123",
     "status": "completed"
    },
    "tags": []
   },
   "outputs": [],
   "source": [
    "def bytes_to_str(byte_filename):\n",
    "    return str(byte_filename).split('\\'')[1]"
   ]
  },
  {
   "cell_type": "code",
   "execution_count": 12,
   "id": "7fd0a83a",
   "metadata": {
    "execution": {
     "iopub.execute_input": "2022-09-04T23:35:47.624754Z",
     "iopub.status.busy": "2022-09-04T23:35:47.623966Z",
     "iopub.status.idle": "2022-09-04T23:35:47.636281Z",
     "shell.execute_reply": "2022-09-04T23:35:47.635415Z"
    },
    "papermill": {
     "duration": 0.021249,
     "end_time": "2022-09-04T23:35:47.638396",
     "exception": false,
     "start_time": "2022-09-04T23:35:47.617147",
     "status": "completed"
    },
    "tags": []
   },
   "outputs": [],
   "source": [
    "ds_flair_000=tf.data.Dataset.list_files('../input/rsna-miccai-brain-tumor-radiogenomic-classification/train/00000/FLAIR/*')\n",
    "def best_image(ds_paths):\n",
    "    \n",
    "    s=0\n",
    "    filep=''\n",
    "    for filename in ds_paths.as_numpy_iterator():\n",
    "        img=pydicom.dcmread(bytes_to_str(filename))\n",
    "        sp=np.array(img.pixel_array).sum()\n",
    "        if(sp>s):\n",
    "            s=sp\n",
    "            filep=bytes_to_str(filename)\n",
    "    #best_img=pydicom.dcmread(filep)\n",
    "    return filep\n",
    "    "
   ]
  },
  {
   "cell_type": "code",
   "execution_count": 13,
   "id": "4cb801b5",
   "metadata": {
    "execution": {
     "iopub.execute_input": "2022-09-04T23:35:47.652016Z",
     "iopub.status.busy": "2022-09-04T23:35:47.651257Z",
     "iopub.status.idle": "2022-09-04T23:35:47.659200Z",
     "shell.execute_reply": "2022-09-04T23:35:47.658382Z"
    },
    "papermill": {
     "duration": 0.016789,
     "end_time": "2022-09-04T23:35:47.661197",
     "exception": false,
     "start_time": "2022-09-04T23:35:47.644408",
     "status": "completed"
    },
    "tags": []
   },
   "outputs": [],
   "source": [
    "def image_selection(train_ds_files):\n",
    "    i=0\n",
    "    files_num=[]\n",
    "    best_flair_images=[]\n",
    "    best_t1w_images=[]\n",
    "    best_t1wce_images=[]\n",
    "    best_t2w_images=[]\n",
    "    for filename in train_ds_files.as_numpy_iterator():\n",
    "        path=bytes_to_str(filename)\n",
    "        FLAIR_PATH=path+'/FLAIR/*'\n",
    "        T1w_PATH=path+'/T1w/*'\n",
    "        T1wCE_PATH=path+'/T1wCE/*'\n",
    "        T2w_PATH=path+'/T2w/*'\n",
    "        ds_files_FLAIR=tf.data.Dataset.list_files(FLAIR_PATH)\n",
    "        ds_files_T1w=tf.data.Dataset.list_files(T1w_PATH)\n",
    "        ds_files_T1wCE=tf.data.Dataset.list_files(T1wCE_PATH)\n",
    "        ds_files_T2w=tf.data.Dataset.list_files(T2w_PATH)\n",
    "        file_num=path.split('/')[-1]\n",
    "        files_num.append(int(file_num))\n",
    "        best_flair_images.append(best_image(ds_files_FLAIR))\n",
    "        best_t1w_images.append(best_image(ds_files_T1w))\n",
    "        best_t1wce_images.append(best_image(ds_files_T1wCE))\n",
    "        best_t2w_images.append(best_image(ds_files_T2w))\n",
    "    return files_num,best_flair_images,best_t1w_images,best_t1wce_images,best_t2w_images"
   ]
  },
  {
   "cell_type": "code",
   "execution_count": 14,
   "id": "0c9e95a3",
   "metadata": {
    "execution": {
     "iopub.execute_input": "2022-09-04T23:35:47.674583Z",
     "iopub.status.busy": "2022-09-04T23:35:47.673839Z",
     "iopub.status.idle": "2022-09-05T00:31:29.538467Z",
     "shell.execute_reply": "2022-09-05T00:31:29.537320Z"
    },
    "papermill": {
     "duration": 3341.884267,
     "end_time": "2022-09-05T00:31:29.551342",
     "exception": false,
     "start_time": "2022-09-04T23:35:47.667075",
     "status": "completed"
    },
    "tags": []
   },
   "outputs": [
    {
     "data": {
      "text/plain": [
       "['../input/rsna-miccai-brain-tumor-radiogenomic-classification/train/00237/FLAIR/Image-32.dcm',\n",
       " '../input/rsna-miccai-brain-tumor-radiogenomic-classification/train/00030/FLAIR/Image-460.dcm',\n",
       " '../input/rsna-miccai-brain-tumor-radiogenomic-classification/train/00686/FLAIR/Image-74.dcm',\n",
       " '../input/rsna-miccai-brain-tumor-radiogenomic-classification/train/00649/FLAIR/Image-72.dcm',\n",
       " '../input/rsna-miccai-brain-tumor-radiogenomic-classification/train/00645/FLAIR/Image-71.dcm',\n",
       " '../input/rsna-miccai-brain-tumor-radiogenomic-classification/train/00298/FLAIR/Image-40.dcm',\n",
       " '../input/rsna-miccai-brain-tumor-radiogenomic-classification/train/00311/FLAIR/Image-36.dcm',\n",
       " '../input/rsna-miccai-brain-tumor-radiogenomic-classification/train/00271/FLAIR/Image-37.dcm',\n",
       " '../input/rsna-miccai-brain-tumor-radiogenomic-classification/train/01008/FLAIR/Image-34.dcm',\n",
       " '../input/rsna-miccai-brain-tumor-radiogenomic-classification/train/00455/FLAIR/Image-17.dcm',\n",
       " '../input/rsna-miccai-brain-tumor-radiogenomic-classification/train/00601/FLAIR/Image-74.dcm',\n",
       " '../input/rsna-miccai-brain-tumor-radiogenomic-classification/train/00571/FLAIR/Image-11.dcm',\n",
       " '../input/rsna-miccai-brain-tumor-radiogenomic-classification/train/00269/FLAIR/Image-37.dcm',\n",
       " '../input/rsna-miccai-brain-tumor-radiogenomic-classification/train/00246/FLAIR/Image-32.dcm',\n",
       " '../input/rsna-miccai-brain-tumor-radiogenomic-classification/train/00800/FLAIR/Image-14.dcm',\n",
       " '../input/rsna-miccai-brain-tumor-radiogenomic-classification/train/00206/FLAIR/Image-20.dcm',\n",
       " '../input/rsna-miccai-brain-tumor-radiogenomic-classification/train/00808/FLAIR/Image-16.dcm',\n",
       " '../input/rsna-miccai-brain-tumor-radiogenomic-classification/train/01002/FLAIR/Image-12.dcm',\n",
       " '../input/rsna-miccai-brain-tumor-radiogenomic-classification/train/00014/FLAIR/Image-110.dcm',\n",
       " '../input/rsna-miccai-brain-tumor-radiogenomic-classification/train/00366/FLAIR/Image-30.dcm',\n",
       " '../input/rsna-miccai-brain-tumor-radiogenomic-classification/train/00570/FLAIR/Image-32.dcm',\n",
       " '../input/rsna-miccai-brain-tumor-radiogenomic-classification/train/00628/FLAIR/Image-71.dcm',\n",
       " '../input/rsna-miccai-brain-tumor-radiogenomic-classification/train/00496/FLAIR/Image-111.dcm',\n",
       " '../input/rsna-miccai-brain-tumor-radiogenomic-classification/train/00192/FLAIR/Image-29.dcm',\n",
       " '../input/rsna-miccai-brain-tumor-radiogenomic-classification/train/00088/FLAIR/Image-460.dcm',\n",
       " '../input/rsna-miccai-brain-tumor-radiogenomic-classification/train/00338/FLAIR/Image-33.dcm',\n",
       " '../input/rsna-miccai-brain-tumor-radiogenomic-classification/train/00294/FLAIR/Image-18.dcm',\n",
       " '../input/rsna-miccai-brain-tumor-radiogenomic-classification/train/00737/FLAIR/Image-73.dcm',\n",
       " '../input/rsna-miccai-brain-tumor-radiogenomic-classification/train/00036/FLAIR/Image-70.dcm',\n",
       " '../input/rsna-miccai-brain-tumor-radiogenomic-classification/train/00281/FLAIR/Image-32.dcm',\n",
       " '../input/rsna-miccai-brain-tumor-radiogenomic-classification/train/00809/FLAIR/Image-14.dcm',\n",
       " '../input/rsna-miccai-brain-tumor-radiogenomic-classification/train/00019/FLAIR/Image-82.dcm',\n",
       " '../input/rsna-miccai-brain-tumor-radiogenomic-classification/train/00789/FLAIR/Image-16.dcm',\n",
       " '../input/rsna-miccai-brain-tumor-radiogenomic-classification/train/00552/FLAIR/Image-437.dcm',\n",
       " '../input/rsna-miccai-brain-tumor-radiogenomic-classification/train/00728/FLAIR/Image-140.dcm',\n",
       " '../input/rsna-miccai-brain-tumor-radiogenomic-classification/train/00172/FLAIR/Image-28.dcm',\n",
       " '../input/rsna-miccai-brain-tumor-radiogenomic-classification/train/00242/FLAIR/Image-35.dcm',\n",
       " '../input/rsna-miccai-brain-tumor-radiogenomic-classification/train/00739/FLAIR/Image-80.dcm',\n",
       " '../input/rsna-miccai-brain-tumor-radiogenomic-classification/train/00540/FLAIR/Image-105.dcm',\n",
       " '../input/rsna-miccai-brain-tumor-radiogenomic-classification/train/01009/FLAIR/Image-13.dcm',\n",
       " '../input/rsna-miccai-brain-tumor-radiogenomic-classification/train/00095/FLAIR/Image-235.dcm',\n",
       " '../input/rsna-miccai-brain-tumor-radiogenomic-classification/train/00210/FLAIR/Image-30.dcm',\n",
       " '../input/rsna-miccai-brain-tumor-radiogenomic-classification/train/00563/FLAIR/Image-327.dcm',\n",
       " '../input/rsna-miccai-brain-tumor-radiogenomic-classification/train/00727/FLAIR/Image-56.dcm',\n",
       " '../input/rsna-miccai-brain-tumor-radiogenomic-classification/train/00426/FLAIR/Image-33.dcm',\n",
       " '../input/rsna-miccai-brain-tumor-radiogenomic-classification/train/00293/FLAIR/Image-30.dcm',\n",
       " '../input/rsna-miccai-brain-tumor-radiogenomic-classification/train/00341/FLAIR/Image-30.dcm',\n",
       " '',\n",
       " '../input/rsna-miccai-brain-tumor-radiogenomic-classification/train/00596/FLAIR/Image-40.dcm',\n",
       " '../input/rsna-miccai-brain-tumor-radiogenomic-classification/train/00466/FLAIR/Image-139.dcm',\n",
       " '../input/rsna-miccai-brain-tumor-radiogenomic-classification/train/00123/FLAIR/Image-13.dcm',\n",
       " '../input/rsna-miccai-brain-tumor-radiogenomic-classification/train/00659/FLAIR/Image-141.dcm',\n",
       " '../input/rsna-miccai-brain-tumor-radiogenomic-classification/train/00519/FLAIR/Image-70.dcm',\n",
       " '../input/rsna-miccai-brain-tumor-radiogenomic-classification/train/00371/FLAIR/Image-38.dcm',\n",
       " '../input/rsna-miccai-brain-tumor-radiogenomic-classification/train/00259/FLAIR/Image-34.dcm',\n",
       " '../input/rsna-miccai-brain-tumor-radiogenomic-classification/train/00742/FLAIR/Image-64.dcm',\n",
       " '../input/rsna-miccai-brain-tumor-radiogenomic-classification/train/00735/FLAIR/Image-63.dcm',\n",
       " '../input/rsna-miccai-brain-tumor-radiogenomic-classification/train/00390/FLAIR/Image-29.dcm',\n",
       " '../input/rsna-miccai-brain-tumor-radiogenomic-classification/train/00130/FLAIR/Image-27.dcm',\n",
       " '../input/rsna-miccai-brain-tumor-radiogenomic-classification/train/00625/FLAIR/Image-72.dcm',\n",
       " '../input/rsna-miccai-brain-tumor-radiogenomic-classification/train/00239/FLAIR/Image-29.dcm',\n",
       " '../input/rsna-miccai-brain-tumor-radiogenomic-classification/train/00576/FLAIR/Image-24.dcm',\n",
       " '../input/rsna-miccai-brain-tumor-radiogenomic-classification/train/00784/FLAIR/Image-19.dcm',\n",
       " '../input/rsna-miccai-brain-tumor-radiogenomic-classification/train/00680/FLAIR/Image-130.dcm',\n",
       " '../input/rsna-miccai-brain-tumor-radiogenomic-classification/train/00304/FLAIR/Image-33.dcm',\n",
       " '../input/rsna-miccai-brain-tumor-radiogenomic-classification/train/00449/FLAIR/Image-13.dcm',\n",
       " '../input/rsna-miccai-brain-tumor-radiogenomic-classification/train/00443/FLAIR/Image-14.dcm',\n",
       " '../input/rsna-miccai-brain-tumor-radiogenomic-classification/train/00395/FLAIR/Image-26.dcm',\n",
       " '../input/rsna-miccai-brain-tumor-radiogenomic-classification/train/00690/FLAIR/Image-79.dcm',\n",
       " '../input/rsna-miccai-brain-tumor-radiogenomic-classification/train/00151/FLAIR/Image-12.dcm',\n",
       " '../input/rsna-miccai-brain-tumor-radiogenomic-classification/train/00796/FLAIR/Image-41.dcm',\n",
       " '../input/rsna-miccai-brain-tumor-radiogenomic-classification/train/00705/FLAIR/Image-121.dcm',\n",
       " '../input/rsna-miccai-brain-tumor-radiogenomic-classification/train/00160/FLAIR/Image-29.dcm',\n",
       " '../input/rsna-miccai-brain-tumor-radiogenomic-classification/train/00316/FLAIR/Image-39.dcm',\n",
       " '../input/rsna-miccai-brain-tumor-radiogenomic-classification/train/00590/FLAIR/Image-15.dcm',\n",
       " '../input/rsna-miccai-brain-tumor-radiogenomic-classification/train/00251/FLAIR/Image-34.dcm',\n",
       " '../input/rsna-miccai-brain-tumor-radiogenomic-classification/train/00128/FLAIR/Image-12.dcm',\n",
       " '../input/rsna-miccai-brain-tumor-radiogenomic-classification/train/00610/FLAIR/Image-72.dcm',\n",
       " '../input/rsna-miccai-brain-tumor-radiogenomic-classification/train/00005/FLAIR/Image-139.dcm',\n",
       " '../input/rsna-miccai-brain-tumor-radiogenomic-classification/train/00538/FLAIR/Image-76.dcm',\n",
       " '../input/rsna-miccai-brain-tumor-radiogenomic-classification/train/01000/FLAIR/Image-28.dcm',\n",
       " '../input/rsna-miccai-brain-tumor-radiogenomic-classification/train/00403/FLAIR/Image-17.dcm',\n",
       " '../input/rsna-miccai-brain-tumor-radiogenomic-classification/train/00652/FLAIR/Image-119.dcm',\n",
       " '../input/rsna-miccai-brain-tumor-radiogenomic-classification/train/00683/FLAIR/Image-56.dcm',\n",
       " '../input/rsna-miccai-brain-tumor-radiogenomic-classification/train/00630/FLAIR/Image-50.dcm',\n",
       " '../input/rsna-miccai-brain-tumor-radiogenomic-classification/train/00322/FLAIR/Image-37.dcm',\n",
       " '../input/rsna-miccai-brain-tumor-radiogenomic-classification/train/00194/FLAIR/Image-24.dcm',\n",
       " '../input/rsna-miccai-brain-tumor-radiogenomic-classification/train/00557/FLAIR/Image-461.dcm',\n",
       " '../input/rsna-miccai-brain-tumor-radiogenomic-classification/train/00510/FLAIR/Image-76.dcm',\n",
       " '../input/rsna-miccai-brain-tumor-radiogenomic-classification/train/00477/FLAIR/Image-58.dcm',\n",
       " '../input/rsna-miccai-brain-tumor-radiogenomic-classification/train/00230/FLAIR/Image-35.dcm',\n",
       " '../input/rsna-miccai-brain-tumor-radiogenomic-classification/train/00433/FLAIR/Image-37.dcm',\n",
       " '../input/rsna-miccai-brain-tumor-radiogenomic-classification/train/00577/FLAIR/Image-28.dcm',\n",
       " '../input/rsna-miccai-brain-tumor-radiogenomic-classification/train/00199/FLAIR/Image-37.dcm',\n",
       " '../input/rsna-miccai-brain-tumor-radiogenomic-classification/train/00162/FLAIR/Image-27.dcm',\n",
       " '../input/rsna-miccai-brain-tumor-radiogenomic-classification/train/00626/FLAIR/Image-62.dcm',\n",
       " '../input/rsna-miccai-brain-tumor-radiogenomic-classification/train/00446/FLAIR/Image-14.dcm',\n",
       " '../input/rsna-miccai-brain-tumor-radiogenomic-classification/train/00061/FLAIR/Image-74.dcm',\n",
       " '../input/rsna-miccai-brain-tumor-radiogenomic-classification/train/00430/FLAIR/Image-28.dcm',\n",
       " '../input/rsna-miccai-brain-tumor-radiogenomic-classification/train/00493/FLAIR/Image-66.dcm',\n",
       " '../input/rsna-miccai-brain-tumor-radiogenomic-classification/train/00324/FLAIR/Image-36.dcm',\n",
       " '../input/rsna-miccai-brain-tumor-radiogenomic-classification/train/00774/FLAIR/Image-78.dcm',\n",
       " '../input/rsna-miccai-brain-tumor-radiogenomic-classification/train/00059/FLAIR/Image-120.dcm',\n",
       " '../input/rsna-miccai-brain-tumor-radiogenomic-classification/train/00687/FLAIR/Image-72.dcm',\n",
       " '../input/rsna-miccai-brain-tumor-radiogenomic-classification/train/01005/FLAIR/Image-14.dcm',\n",
       " '../input/rsna-miccai-brain-tumor-radiogenomic-classification/train/00142/FLAIR/Image-51.dcm',\n",
       " '../input/rsna-miccai-brain-tumor-radiogenomic-classification/train/00724/FLAIR/Image-72.dcm',\n",
       " '../input/rsna-miccai-brain-tumor-radiogenomic-classification/train/00764/FLAIR/Image-68.dcm',\n",
       " '../input/rsna-miccai-brain-tumor-radiogenomic-classification/train/00290/FLAIR/Image-30.dcm',\n",
       " '../input/rsna-miccai-brain-tumor-radiogenomic-classification/train/00828/FLAIR/Image-18.dcm',\n",
       " '../input/rsna-miccai-brain-tumor-radiogenomic-classification/train/00058/FLAIR/Image-159.dcm',\n",
       " '../input/rsna-miccai-brain-tumor-radiogenomic-classification/train/00409/FLAIR/Image-27.dcm',\n",
       " '../input/rsna-miccai-brain-tumor-radiogenomic-classification/train/00399/FLAIR/Image-30.dcm',\n",
       " '../input/rsna-miccai-brain-tumor-radiogenomic-classification/train/00134/FLAIR/Image-9.dcm',\n",
       " '../input/rsna-miccai-brain-tumor-radiogenomic-classification/train/00839/FLAIR/Image-108.dcm',\n",
       " '../input/rsna-miccai-brain-tumor-radiogenomic-classification/train/00332/FLAIR/Image-33.dcm',\n",
       " '../input/rsna-miccai-brain-tumor-radiogenomic-classification/train/00143/FLAIR/Image-48.dcm',\n",
       " '../input/rsna-miccai-brain-tumor-radiogenomic-classification/train/00245/FLAIR/Image-34.dcm',\n",
       " '../input/rsna-miccai-brain-tumor-radiogenomic-classification/train/00183/FLAIR/Image-33.dcm',\n",
       " '../input/rsna-miccai-brain-tumor-radiogenomic-classification/train/00425/FLAIR/Image-31.dcm',\n",
       " '../input/rsna-miccai-brain-tumor-radiogenomic-classification/train/00380/FLAIR/Image-29.dcm',\n",
       " '../input/rsna-miccai-brain-tumor-radiogenomic-classification/train/00756/FLAIR/Image-82.dcm',\n",
       " '../input/rsna-miccai-brain-tumor-radiogenomic-classification/train/00797/FLAIR/Image-12.dcm',\n",
       " '../input/rsna-miccai-brain-tumor-radiogenomic-classification/train/00440/FLAIR/Image-28.dcm',\n",
       " '../input/rsna-miccai-brain-tumor-radiogenomic-classification/train/00823/FLAIR/Image-17.dcm',\n",
       " '../input/rsna-miccai-brain-tumor-radiogenomic-classification/train/00072/FLAIR/Image-100.dcm',\n",
       " '../input/rsna-miccai-brain-tumor-radiogenomic-classification/train/00694/FLAIR/Image-79.dcm',\n",
       " '../input/rsna-miccai-brain-tumor-radiogenomic-classification/train/00203/FLAIR/Image-32.dcm',\n",
       " '../input/rsna-miccai-brain-tumor-radiogenomic-classification/train/00795/FLAIR/Image-13.dcm',\n",
       " '../input/rsna-miccai-brain-tumor-radiogenomic-classification/train/00308/FLAIR/Image-25.dcm',\n",
       " '../input/rsna-miccai-brain-tumor-radiogenomic-classification/train/00376/FLAIR/Image-40.dcm',\n",
       " '../input/rsna-miccai-brain-tumor-radiogenomic-classification/train/00654/FLAIR/Image-116.dcm',\n",
       " '../input/rsna-miccai-brain-tumor-radiogenomic-classification/train/00750/FLAIR/Image-64.dcm',\n",
       " '../input/rsna-miccai-brain-tumor-radiogenomic-classification/train/00137/FLAIR/Image-21.dcm',\n",
       " '../input/rsna-miccai-brain-tumor-radiogenomic-classification/train/00579/FLAIR/Image-35.dcm',\n",
       " '../input/rsna-miccai-brain-tumor-radiogenomic-classification/train/00006/FLAIR/Image-458.dcm',\n",
       " '../input/rsna-miccai-brain-tumor-radiogenomic-classification/train/00838/FLAIR/Image-34.dcm',\n",
       " '../input/rsna-miccai-brain-tumor-radiogenomic-classification/train/00556/FLAIR/Image-77.dcm',\n",
       " '../input/rsna-miccai-brain-tumor-radiogenomic-classification/train/00170/FLAIR/Image-106.dcm',\n",
       " '../input/rsna-miccai-brain-tumor-radiogenomic-classification/train/00549/FLAIR/Image-76.dcm',\n",
       " '../input/rsna-miccai-brain-tumor-radiogenomic-classification/train/00804/FLAIR/Image-14.dcm',\n",
       " '../input/rsna-miccai-brain-tumor-radiogenomic-classification/train/00155/FLAIR/Image-28.dcm',\n",
       " '../input/rsna-miccai-brain-tumor-radiogenomic-classification/train/00185/FLAIR/Image-37.dcm',\n",
       " '../input/rsna-miccai-brain-tumor-radiogenomic-classification/train/00236/FLAIR/Image-37.dcm',\n",
       " '../input/rsna-miccai-brain-tumor-radiogenomic-classification/train/00456/FLAIR/Image-14.dcm',\n",
       " '../input/rsna-miccai-brain-tumor-radiogenomic-classification/train/00688/FLAIR/Image-61.dcm',\n",
       " '../input/rsna-miccai-brain-tumor-radiogenomic-classification/train/00725/FLAIR/Image-61.dcm',\n",
       " '../input/rsna-miccai-brain-tumor-radiogenomic-classification/train/00810/FLAIR/Image-14.dcm',\n",
       " '../input/rsna-miccai-brain-tumor-radiogenomic-classification/train/00002/FLAIR/Image-440.dcm',\n",
       " '../input/rsna-miccai-brain-tumor-radiogenomic-classification/train/00753/FLAIR/Image-121.dcm',\n",
       " '../input/rsna-miccai-brain-tumor-radiogenomic-classification/train/00273/FLAIR/Image-30.dcm',\n",
       " '../input/rsna-miccai-brain-tumor-radiogenomic-classification/train/00518/FLAIR/Image-114.dcm',\n",
       " '../input/rsna-miccai-brain-tumor-radiogenomic-classification/train/00404/FLAIR/Image-33.dcm',\n",
       " '../input/rsna-miccai-brain-tumor-radiogenomic-classification/train/00334/FLAIR/Image-34.dcm',\n",
       " '../input/rsna-miccai-brain-tumor-radiogenomic-classification/train/00525/FLAIR/Image-131.dcm',\n",
       " '../input/rsna-miccai-brain-tumor-radiogenomic-classification/train/00397/FLAIR/Image-33.dcm',\n",
       " '../input/rsna-miccai-brain-tumor-radiogenomic-classification/train/00641/FLAIR/Image-81.dcm',\n",
       " '../input/rsna-miccai-brain-tumor-radiogenomic-classification/train/00402/FLAIR/Image-30.dcm',\n",
       " '../input/rsna-miccai-brain-tumor-radiogenomic-classification/train/00020/FLAIR/Image-64.dcm',\n",
       " '../input/rsna-miccai-brain-tumor-radiogenomic-classification/train/00572/FLAIR/Image-32.dcm',\n",
       " '../input/rsna-miccai-brain-tumor-radiogenomic-classification/train/00204/FLAIR/Image-27.dcm',\n",
       " '../input/rsna-miccai-brain-tumor-radiogenomic-classification/train/00608/FLAIR/Image-120.dcm',\n",
       " '../input/rsna-miccai-brain-tumor-radiogenomic-classification/train/00062/FLAIR/Image-257.dcm',\n",
       " '../input/rsna-miccai-brain-tumor-radiogenomic-classification/train/00285/FLAIR/Image-31.dcm',\n",
       " '../input/rsna-miccai-brain-tumor-radiogenomic-classification/train/00348/FLAIR/Image-31.dcm',\n",
       " '../input/rsna-miccai-brain-tumor-radiogenomic-classification/train/00567/FLAIR/Image-32.dcm',\n",
       " '../input/rsna-miccai-brain-tumor-radiogenomic-classification/train/00400/FLAIR/Image-34.dcm',\n",
       " '../input/rsna-miccai-brain-tumor-radiogenomic-classification/train/00077/FLAIR/Image-468.dcm',\n",
       " '../input/rsna-miccai-brain-tumor-radiogenomic-classification/train/00767/FLAIR/Image-71.dcm',\n",
       " '../input/rsna-miccai-brain-tumor-radiogenomic-classification/train/00156/FLAIR/Image-37.dcm',\n",
       " '../input/rsna-miccai-brain-tumor-radiogenomic-classification/train/00147/FLAIR/Image-38.dcm',\n",
       " '../input/rsna-miccai-brain-tumor-radiogenomic-classification/train/00391/FLAIR/Image-32.dcm',\n",
       " '../input/rsna-miccai-brain-tumor-radiogenomic-classification/train/00504/FLAIR/Image-75.dcm',\n",
       " '../input/rsna-miccai-brain-tumor-radiogenomic-classification/train/00780/FLAIR/Image-10.dcm',\n",
       " '../input/rsna-miccai-brain-tumor-radiogenomic-classification/train/00520/FLAIR/Image-73.dcm',\n",
       " '../input/rsna-miccai-brain-tumor-radiogenomic-classification/train/00195/FLAIR/Image-38.dcm',\n",
       " '../input/rsna-miccai-brain-tumor-radiogenomic-classification/train/00108/FLAIR/Image-50.dcm',\n",
       " '../input/rsna-miccai-brain-tumor-radiogenomic-classification/train/00432/FLAIR/Image-37.dcm',\n",
       " '../input/rsna-miccai-brain-tumor-radiogenomic-classification/train/00451/FLAIR/Image-19.dcm',\n",
       " '../input/rsna-miccai-brain-tumor-radiogenomic-classification/train/00011/FLAIR/Image-468.dcm',\n",
       " '../input/rsna-miccai-brain-tumor-radiogenomic-classification/train/00587/FLAIR/Image-35.dcm',\n",
       " '../input/rsna-miccai-brain-tumor-radiogenomic-classification/train/00310/FLAIR/Image-34.dcm',\n",
       " '../input/rsna-miccai-brain-tumor-radiogenomic-classification/train/00243/FLAIR/Image-14.dcm',\n",
       " '../input/rsna-miccai-brain-tumor-radiogenomic-classification/train/00329/FLAIR/Image-30.dcm',\n",
       " '../input/rsna-miccai-brain-tumor-radiogenomic-classification/train/00299/FLAIR/Image-35.dcm',\n",
       " '../input/rsna-miccai-brain-tumor-radiogenomic-classification/train/00733/FLAIR/Image-66.dcm',\n",
       " '../input/rsna-miccai-brain-tumor-radiogenomic-classification/train/00260/FLAIR/Image-34.dcm',\n",
       " '../input/rsna-miccai-brain-tumor-radiogenomic-classification/train/00593/FLAIR/Image-40.dcm',\n",
       " '../input/rsna-miccai-brain-tumor-radiogenomic-classification/train/00318/FLAIR/Image-30.dcm',\n",
       " '../input/rsna-miccai-brain-tumor-radiogenomic-classification/train/00049/FLAIR/Image-152.dcm',\n",
       " '../input/rsna-miccai-brain-tumor-radiogenomic-classification/train/00078/FLAIR/Image-128.dcm',\n",
       " '../input/rsna-miccai-brain-tumor-radiogenomic-classification/train/00241/FLAIR/Image-30.dcm',\n",
       " '../input/rsna-miccai-brain-tumor-radiogenomic-classification/train/00094/FLAIR/Image-464.dcm',\n",
       " '../input/rsna-miccai-brain-tumor-radiogenomic-classification/train/00781/FLAIR/Image-42.dcm',\n",
       " '../input/rsna-miccai-brain-tumor-radiogenomic-classification/train/00282/FLAIR/Image-35.dcm',\n",
       " '../input/rsna-miccai-brain-tumor-radiogenomic-classification/train/00382/FLAIR/Image-28.dcm',\n",
       " '../input/rsna-miccai-brain-tumor-radiogenomic-classification/train/00778/FLAIR/Image-106.dcm',\n",
       " '../input/rsna-miccai-brain-tumor-radiogenomic-classification/train/00309/FLAIR/Image-37.dcm',\n",
       " '../input/rsna-miccai-brain-tumor-radiogenomic-classification/train/00588/FLAIR/Image-28.dcm',\n",
       " '../input/rsna-miccai-brain-tumor-radiogenomic-classification/train/00233/FLAIR/Image-37.dcm',\n",
       " '../input/rsna-miccai-brain-tumor-radiogenomic-classification/train/00291/FLAIR/Image-35.dcm',\n",
       " '../input/rsna-miccai-brain-tumor-radiogenomic-classification/train/00514/FLAIR/Image-68.dcm',\n",
       " '../input/rsna-miccai-brain-tumor-radiogenomic-classification/train/00479/FLAIR/Image-88.dcm',\n",
       " '../input/rsna-miccai-brain-tumor-radiogenomic-classification/train/00274/FLAIR/Image-34.dcm',\n",
       " '../input/rsna-miccai-brain-tumor-radiogenomic-classification/train/00048/FLAIR/Image-64.dcm',\n",
       " '../input/rsna-miccai-brain-tumor-radiogenomic-classification/train/00513/FLAIR/Image-82.dcm',\n",
       " '../input/rsna-miccai-brain-tumor-radiogenomic-classification/train/00707/FLAIR/Image-214.dcm',\n",
       " '../input/rsna-miccai-brain-tumor-radiogenomic-classification/train/00148/FLAIR/Image-34.dcm',\n",
       " '../input/rsna-miccai-brain-tumor-radiogenomic-classification/train/00240/FLAIR/Image-38.dcm',\n",
       " '../input/rsna-miccai-brain-tumor-radiogenomic-classification/train/00631/FLAIR/Image-72.dcm',\n",
       " '../input/rsna-miccai-brain-tumor-radiogenomic-classification/train/00066/FLAIR/Image-198.dcm',\n",
       " '../input/rsna-miccai-brain-tumor-radiogenomic-classification/train/00582/FLAIR/Image-26.dcm',\n",
       " '../input/rsna-miccai-brain-tumor-radiogenomic-classification/train/00470/FLAIR/Image-68.dcm',\n",
       " '../input/rsna-miccai-brain-tumor-radiogenomic-classification/train/00235/FLAIR/Image-35.dcm',\n",
       " '../input/rsna-miccai-brain-tumor-radiogenomic-classification/train/00392/FLAIR/Image-34.dcm',\n",
       " '../input/rsna-miccai-brain-tumor-radiogenomic-classification/train/00685/FLAIR/Image-65.dcm',\n",
       " '../input/rsna-miccai-brain-tumor-radiogenomic-classification/train/00286/FLAIR/Image-35.dcm',\n",
       " '../input/rsna-miccai-brain-tumor-radiogenomic-classification/train/00604/FLAIR/Image-65.dcm',\n",
       " '../input/rsna-miccai-brain-tumor-radiogenomic-classification/train/00550/FLAIR/Image-66.dcm',\n",
       " '../input/rsna-miccai-brain-tumor-radiogenomic-classification/train/00350/FLAIR/Image-21.dcm',\n",
       " '../input/rsna-miccai-brain-tumor-radiogenomic-classification/train/00794/FLAIR/Image-16.dcm',\n",
       " '../input/rsna-miccai-brain-tumor-radiogenomic-classification/train/00280/FLAIR/Image-34.dcm',\n",
       " '../input/rsna-miccai-brain-tumor-radiogenomic-classification/train/00517/FLAIR/Image-69.dcm',\n",
       " '../input/rsna-miccai-brain-tumor-radiogenomic-classification/train/00325/FLAIR/Image-30.dcm',\n",
       " '../input/rsna-miccai-brain-tumor-radiogenomic-classification/train/00998/FLAIR/Image-18.dcm',\n",
       " '../input/rsna-miccai-brain-tumor-radiogenomic-classification/train/00212/FLAIR/Image-32.dcm',\n",
       " '../input/rsna-miccai-brain-tumor-radiogenomic-classification/train/00736/FLAIR/Image-68.dcm',\n",
       " '../input/rsna-miccai-brain-tumor-radiogenomic-classification/train/00457/FLAIR/Image-12.dcm',\n",
       " '../input/rsna-miccai-brain-tumor-radiogenomic-classification/train/00275/FLAIR/Image-14.dcm',\n",
       " '../input/rsna-miccai-brain-tumor-radiogenomic-classification/train/00611/FLAIR/Image-66.dcm',\n",
       " '../input/rsna-miccai-brain-tumor-radiogenomic-classification/train/00636/FLAIR/Image-69.dcm',\n",
       " '../input/rsna-miccai-brain-tumor-radiogenomic-classification/train/00814/FLAIR/Image-14.dcm',\n",
       " '../input/rsna-miccai-brain-tumor-radiogenomic-classification/train/00188/FLAIR/Image-35.dcm',\n",
       " '../input/rsna-miccai-brain-tumor-radiogenomic-classification/train/00615/FLAIR/Image-83.dcm',\n",
       " '../input/rsna-miccai-brain-tumor-radiogenomic-classification/train/00414/FLAIR/Image-106.dcm',\n",
       " '../input/rsna-miccai-brain-tumor-radiogenomic-classification/train/00532/FLAIR/Image-73.dcm',\n",
       " '../input/rsna-miccai-brain-tumor-radiogenomic-classification/train/00303/FLAIR/Image-26.dcm',\n",
       " '../input/rsna-miccai-brain-tumor-radiogenomic-classification/train/00412/FLAIR/Image-34.dcm',\n",
       " '../input/rsna-miccai-brain-tumor-radiogenomic-classification/train/00340/FLAIR/Image-30.dcm',\n",
       " '../input/rsna-miccai-brain-tumor-radiogenomic-classification/train/00511/FLAIR/Image-97.dcm',\n",
       " '../input/rsna-miccai-brain-tumor-radiogenomic-classification/train/00444/FLAIR/Image-13.dcm',\n",
       " '../input/rsna-miccai-brain-tumor-radiogenomic-classification/train/00247/FLAIR/Image-35.dcm',\n",
       " '../input/rsna-miccai-brain-tumor-radiogenomic-classification/train/00389/FLAIR/Image-33.dcm',\n",
       " '../input/rsna-miccai-brain-tumor-radiogenomic-classification/train/00697/FLAIR/Image-67.dcm',\n",
       " '../input/rsna-miccai-brain-tumor-radiogenomic-classification/train/00383/FLAIR/Image-39.dcm',\n",
       " '../input/rsna-miccai-brain-tumor-radiogenomic-classification/train/00469/FLAIR/Image-67.dcm',\n",
       " '../input/rsna-miccai-brain-tumor-radiogenomic-classification/train/00406/FLAIR/Image-34.dcm',\n",
       " '../input/rsna-miccai-brain-tumor-radiogenomic-classification/train/00459/FLAIR/Image-14.dcm',\n",
       " '../input/rsna-miccai-brain-tumor-radiogenomic-classification/train/00760/FLAIR/Image-69.dcm',\n",
       " '../input/rsna-miccai-brain-tumor-radiogenomic-classification/train/00314/FLAIR/Image-36.dcm',\n",
       " '../input/rsna-miccai-brain-tumor-radiogenomic-classification/train/00364/FLAIR/Image-37.dcm',\n",
       " '../input/rsna-miccai-brain-tumor-radiogenomic-classification/train/00485/FLAIR/Image-62.dcm',\n",
       " '../input/rsna-miccai-brain-tumor-radiogenomic-classification/train/00613/FLAIR/Image-64.dcm',\n",
       " '../input/rsna-miccai-brain-tumor-radiogenomic-classification/train/00559/FLAIR/Image-458.dcm',\n",
       " '../input/rsna-miccai-brain-tumor-radiogenomic-classification/train/00228/FLAIR/Image-20.dcm',\n",
       " '../input/rsna-miccai-brain-tumor-radiogenomic-classification/train/00612/FLAIR/Image-109.dcm',\n",
       " '../input/rsna-miccai-brain-tumor-radiogenomic-classification/train/00445/FLAIR/Image-10.dcm',\n",
       " '../input/rsna-miccai-brain-tumor-radiogenomic-classification/train/00621/FLAIR/Image-68.dcm',\n",
       " '../input/rsna-miccai-brain-tumor-radiogenomic-classification/train/00369/FLAIR/Image-35.dcm',\n",
       " '../input/rsna-miccai-brain-tumor-radiogenomic-classification/train/00464/FLAIR/Image-67.dcm',\n",
       " '../input/rsna-miccai-brain-tumor-radiogenomic-classification/train/00296/FLAIR/Image-39.dcm',\n",
       " '../input/rsna-miccai-brain-tumor-radiogenomic-classification/train/00253/FLAIR/Image-24.dcm',\n",
       " '../input/rsna-miccai-brain-tumor-radiogenomic-classification/train/00238/FLAIR/Image-30.dcm',\n",
       " '../input/rsna-miccai-brain-tumor-radiogenomic-classification/train/00500/FLAIR/Image-138.dcm',\n",
       " '../input/rsna-miccai-brain-tumor-radiogenomic-classification/train/00116/FLAIR/Image-14.dcm',\n",
       " '../input/rsna-miccai-brain-tumor-radiogenomic-classification/train/00096/FLAIR/Image-454.dcm',\n",
       " '../input/rsna-miccai-brain-tumor-radiogenomic-classification/train/00283/FLAIR/Image-38.dcm',\n",
       " '../input/rsna-miccai-brain-tumor-radiogenomic-classification/train/00757/FLAIR/Image-59.dcm',\n",
       " '../input/rsna-miccai-brain-tumor-radiogenomic-classification/train/00999/FLAIR/Image-13.dcm',\n",
       " '../input/rsna-miccai-brain-tumor-radiogenomic-classification/train/00106/FLAIR/Image-10.dcm',\n",
       " '../input/rsna-miccai-brain-tumor-radiogenomic-classification/train/00056/FLAIR/Image-176.dcm',\n",
       " '../input/rsna-miccai-brain-tumor-radiogenomic-classification/train/00012/FLAIR/Image-169.dcm',\n",
       " '../input/rsna-miccai-brain-tumor-radiogenomic-classification/train/00054/FLAIR/Image-336.dcm',\n",
       " '../input/rsna-miccai-brain-tumor-radiogenomic-classification/train/00187/FLAIR/Image-35.dcm',\n",
       " '../input/rsna-miccai-brain-tumor-radiogenomic-classification/train/00312/FLAIR/Image-31.dcm',\n",
       " '../input/rsna-miccai-brain-tumor-radiogenomic-classification/train/00098/FLAIR/Image-331.dcm',\n",
       " '../input/rsna-miccai-brain-tumor-radiogenomic-classification/train/00494/FLAIR/Image-71.dcm',\n",
       " '../input/rsna-miccai-brain-tumor-radiogenomic-classification/train/00483/FLAIR/Image-73.dcm',\n",
       " '../input/rsna-miccai-brain-tumor-radiogenomic-classification/train/00227/FLAIR/Image-34.dcm',\n",
       " '../input/rsna-miccai-brain-tumor-radiogenomic-classification/train/00791/FLAIR/Image-14.dcm',\n",
       " '../input/rsna-miccai-brain-tumor-radiogenomic-classification/train/00136/FLAIR/Image-40.dcm',\n",
       " '../input/rsna-miccai-brain-tumor-radiogenomic-classification/train/00266/FLAIR/Image-28.dcm',\n",
       " '../input/rsna-miccai-brain-tumor-radiogenomic-classification/train/00356/FLAIR/Image-30.dcm',\n",
       " '../input/rsna-miccai-brain-tumor-radiogenomic-classification/train/00533/FLAIR/Image-71.dcm',\n",
       " '../input/rsna-miccai-brain-tumor-radiogenomic-classification/train/00144/FLAIR/Image-33.dcm',\n",
       " '../input/rsna-miccai-brain-tumor-radiogenomic-classification/train/00009/FLAIR/Image-144.dcm',\n",
       " '../input/rsna-miccai-brain-tumor-radiogenomic-classification/train/00140/FLAIR/Image-12.dcm',\n",
       " '../input/rsna-miccai-brain-tumor-radiogenomic-classification/train/00594/FLAIR/Image-34.dcm',\n",
       " '../input/rsna-miccai-brain-tumor-radiogenomic-classification/train/00554/FLAIR/Image-144.dcm',\n",
       " '../input/rsna-miccai-brain-tumor-radiogenomic-classification/train/00734/FLAIR/Image-69.dcm',\n",
       " '../input/rsna-miccai-brain-tumor-radiogenomic-classification/train/00561/FLAIR/Image-334.dcm',\n",
       " '../input/rsna-miccai-brain-tumor-radiogenomic-classification/train/00773/FLAIR/Image-73.dcm',\n",
       " '../input/rsna-miccai-brain-tumor-radiogenomic-classification/train/00801/FLAIR/Image-14.dcm',\n",
       " '../input/rsna-miccai-brain-tumor-radiogenomic-classification/train/00177/FLAIR/Image-29.dcm',\n",
       " '../input/rsna-miccai-brain-tumor-radiogenomic-classification/train/00468/FLAIR/Image-94.dcm',\n",
       " '../input/rsna-miccai-brain-tumor-radiogenomic-classification/train/00658/FLAIR/Image-67.dcm',\n",
       " '../input/rsna-miccai-brain-tumor-radiogenomic-classification/train/00081/FLAIR/Image-438.dcm',\n",
       " '../input/rsna-miccai-brain-tumor-radiogenomic-classification/train/00723/FLAIR/Image-70.dcm',\n",
       " '../input/rsna-miccai-brain-tumor-radiogenomic-classification/train/00568/FLAIR/Image-39.dcm',\n",
       " '../input/rsna-miccai-brain-tumor-radiogenomic-classification/train/00377/FLAIR/Image-37.dcm',\n",
       " '../input/rsna-miccai-brain-tumor-radiogenomic-classification/train/00102/FLAIR/Image-10.dcm',\n",
       " '../input/rsna-miccai-brain-tumor-radiogenomic-classification/train/00087/FLAIR/Image-153.dcm',\n",
       " '../input/rsna-miccai-brain-tumor-radiogenomic-classification/train/00759/FLAIR/Image-62.dcm',\n",
       " '../input/rsna-miccai-brain-tumor-radiogenomic-classification/train/00360/FLAIR/Image-32.dcm',\n",
       " '../input/rsna-miccai-brain-tumor-radiogenomic-classification/train/00558/FLAIR/Image-72.dcm',\n",
       " '../input/rsna-miccai-brain-tumor-radiogenomic-classification/train/00306/FLAIR/Image-30.dcm',\n",
       " '../input/rsna-miccai-brain-tumor-radiogenomic-classification/train/00526/FLAIR/Image-74.dcm',\n",
       " '../input/rsna-miccai-brain-tumor-radiogenomic-classification/train/00491/FLAIR/Image-123.dcm',\n",
       " '../input/rsna-miccai-brain-tumor-radiogenomic-classification/train/00584/FLAIR/Image-15.dcm',\n",
       " '../input/rsna-miccai-brain-tumor-radiogenomic-classification/train/00668/FLAIR/Image-183.dcm',\n",
       " '../input/rsna-miccai-brain-tumor-radiogenomic-classification/train/00715/FLAIR/Image-71.dcm',\n",
       " '../input/rsna-miccai-brain-tumor-radiogenomic-classification/train/00085/FLAIR/Image-161.dcm',\n",
       " '../input/rsna-miccai-brain-tumor-radiogenomic-classification/train/00352/FLAIR/Image-32.dcm',\n",
       " '../input/rsna-miccai-brain-tumor-radiogenomic-classification/train/00149/FLAIR/Image-14.dcm',\n",
       " '../input/rsna-miccai-brain-tumor-radiogenomic-classification/train/00111/FLAIR/Image-13.dcm',\n",
       " '../input/rsna-miccai-brain-tumor-radiogenomic-classification/train/00024/FLAIR/Image-303.dcm',\n",
       " '../input/rsna-miccai-brain-tumor-radiogenomic-classification/train/00837/FLAIR/Image-35.dcm',\n",
       " '../input/rsna-miccai-brain-tumor-radiogenomic-classification/train/00344/FLAIR/Image-26.dcm',\n",
       " '../input/rsna-miccai-brain-tumor-radiogenomic-classification/train/00343/FLAIR/Image-29.dcm',\n",
       " '../input/rsna-miccai-brain-tumor-radiogenomic-classification/train/00677/FLAIR/Image-72.dcm',\n",
       " '../input/rsna-miccai-brain-tumor-radiogenomic-classification/train/00090/FLAIR/Image-77.dcm',\n",
       " '../input/rsna-miccai-brain-tumor-radiogenomic-classification/train/00499/FLAIR/Image-148.dcm',\n",
       " '../input/rsna-miccai-brain-tumor-radiogenomic-classification/train/00802/FLAIR/Image-14.dcm',\n",
       " '../input/rsna-miccai-brain-tumor-radiogenomic-classification/train/00167/FLAIR/Image-34.dcm',\n",
       " '../input/rsna-miccai-brain-tumor-radiogenomic-classification/train/00793/FLAIR/Image-15.dcm',\n",
       " '../input/rsna-miccai-brain-tumor-radiogenomic-classification/train/00787/FLAIR/Image-15.dcm',\n",
       " '../input/rsna-miccai-brain-tumor-radiogenomic-classification/train/00431/FLAIR/Image-29.dcm',\n",
       " '../input/rsna-miccai-brain-tumor-radiogenomic-classification/train/00018/FLAIR/Image-53.dcm',\n",
       " '../input/rsna-miccai-brain-tumor-radiogenomic-classification/train/00758/FLAIR/Image-66.dcm',\n",
       " '../input/rsna-miccai-brain-tumor-radiogenomic-classification/train/00121/FLAIR/Image-29.dcm',\n",
       " '../input/rsna-miccai-brain-tumor-radiogenomic-classification/train/00289/FLAIR/Image-41.dcm',\n",
       " '../input/rsna-miccai-brain-tumor-radiogenomic-classification/train/00646/FLAIR/Image-73.dcm',\n",
       " '../input/rsna-miccai-brain-tumor-radiogenomic-classification/train/00548/FLAIR/Image-466.dcm',\n",
       " '../input/rsna-miccai-brain-tumor-radiogenomic-classification/train/00704/FLAIR/Image-87.dcm',\n",
       " '../input/rsna-miccai-brain-tumor-radiogenomic-classification/train/01007/FLAIR/Image-57.dcm',\n",
       " '../input/rsna-miccai-brain-tumor-radiogenomic-classification/train/00578/FLAIR/Image-14.dcm',\n",
       " '../input/rsna-miccai-brain-tumor-radiogenomic-classification/train/00052/FLAIR/Image-72.dcm',\n",
       " '../input/rsna-miccai-brain-tumor-radiogenomic-classification/train/00317/FLAIR/Image-26.dcm',\n",
       " '../input/rsna-miccai-brain-tumor-radiogenomic-classification/train/00537/FLAIR/Image-68.dcm',\n",
       " '../input/rsna-miccai-brain-tumor-radiogenomic-classification/train/00507/FLAIR/Image-149.dcm',\n",
       " '../input/rsna-miccai-brain-tumor-radiogenomic-classification/train/00502/FLAIR/Image-79.dcm',\n",
       " '../input/rsna-miccai-brain-tumor-radiogenomic-classification/train/00388/FLAIR/Image-20.dcm',\n",
       " '../input/rsna-miccai-brain-tumor-radiogenomic-classification/train/00744/FLAIR/Image-74.dcm',\n",
       " '../input/rsna-miccai-brain-tumor-radiogenomic-classification/train/00331/FLAIR/Image-29.dcm',\n",
       " '../input/rsna-miccai-brain-tumor-radiogenomic-classification/train/00157/FLAIR/Image-87.dcm',\n",
       " '../input/rsna-miccai-brain-tumor-radiogenomic-classification/train/00120/FLAIR/Image-29.dcm',\n",
       " '../input/rsna-miccai-brain-tumor-radiogenomic-classification/train/00297/FLAIR/Image-36.dcm',\n",
       " '../input/rsna-miccai-brain-tumor-radiogenomic-classification/train/00003/FLAIR/Image-444.dcm',\n",
       " '../input/rsna-miccai-brain-tumor-radiogenomic-classification/train/00708/FLAIR/Image-62.dcm',\n",
       " '../input/rsna-miccai-brain-tumor-radiogenomic-classification/train/00158/FLAIR/Image-32.dcm',\n",
       " '../input/rsna-miccai-brain-tumor-radiogenomic-classification/train/00530/FLAIR/Image-392.dcm',\n",
       " '../input/rsna-miccai-brain-tumor-radiogenomic-classification/train/00113/FLAIR/Image-14.dcm',\n",
       " '../input/rsna-miccai-brain-tumor-radiogenomic-classification/train/00481/FLAIR/Image-72.dcm',\n",
       " '../input/rsna-miccai-brain-tumor-radiogenomic-classification/train/00074/FLAIR/Image-124.dcm',\n",
       " '../input/rsna-miccai-brain-tumor-radiogenomic-classification/train/00105/FLAIR/Image-12.dcm',\n",
       " '../input/rsna-miccai-brain-tumor-radiogenomic-classification/train/00663/FLAIR/Image-66.dcm',\n",
       " '../input/rsna-miccai-brain-tumor-radiogenomic-classification/train/00154/FLAIR/Image-22.dcm',\n",
       " '../input/rsna-miccai-brain-tumor-radiogenomic-classification/train/00597/FLAIR/Image-37.dcm',\n",
       " '../input/rsna-miccai-brain-tumor-radiogenomic-classification/train/00146/FLAIR/Image-41.dcm',\n",
       " '../input/rsna-miccai-brain-tumor-radiogenomic-classification/train/00327/FLAIR/Image-28.dcm',\n",
       " '../input/rsna-miccai-brain-tumor-radiogenomic-classification/train/00480/FLAIR/Image-126.dcm',\n",
       " '../input/rsna-miccai-brain-tumor-radiogenomic-classification/train/00583/FLAIR/Image-13.dcm',\n",
       " '../input/rsna-miccai-brain-tumor-radiogenomic-classification/train/00495/FLAIR/Image-81.dcm',\n",
       " '../input/rsna-miccai-brain-tumor-radiogenomic-classification/train/00806/FLAIR/Image-20.dcm',\n",
       " '../input/rsna-miccai-brain-tumor-radiogenomic-classification/train/00638/FLAIR/Image-75.dcm',\n",
       " '../input/rsna-miccai-brain-tumor-radiogenomic-classification/train/00675/FLAIR/Image-60.dcm',\n",
       " '../input/rsna-miccai-brain-tumor-radiogenomic-classification/train/00159/FLAIR/Image-36.dcm',\n",
       " '../input/rsna-miccai-brain-tumor-radiogenomic-classification/train/00222/FLAIR/Image-34.dcm',\n",
       " '../input/rsna-miccai-brain-tumor-radiogenomic-classification/train/00731/FLAIR/Image-73.dcm',\n",
       " '../input/rsna-miccai-brain-tumor-radiogenomic-classification/train/00405/FLAIR/Image-13.dcm',\n",
       " '../input/rsna-miccai-brain-tumor-radiogenomic-classification/train/00021/FLAIR/Image-140.dcm',\n",
       " '../input/rsna-miccai-brain-tumor-radiogenomic-classification/train/00262/FLAIR/Image-33.dcm',\n",
       " '../input/rsna-miccai-brain-tumor-radiogenomic-classification/train/00820/FLAIR/Image-41.dcm',\n",
       " '../input/rsna-miccai-brain-tumor-radiogenomic-classification/train/01003/FLAIR/Image-15.dcm',\n",
       " '../input/rsna-miccai-brain-tumor-radiogenomic-classification/train/00288/FLAIR/Image-34.dcm',\n",
       " '../input/rsna-miccai-brain-tumor-radiogenomic-classification/train/00166/FLAIR/Image-34.dcm',\n",
       " '../input/rsna-miccai-brain-tumor-radiogenomic-classification/train/00150/FLAIR/Image-12.dcm',\n",
       " '../input/rsna-miccai-brain-tumor-radiogenomic-classification/train/00718/FLAIR/Image-70.dcm',\n",
       " '../input/rsna-miccai-brain-tumor-radiogenomic-classification/train/00033/FLAIR/Image-146.dcm',\n",
       " '../input/rsna-miccai-brain-tumor-radiogenomic-classification/train/00565/FLAIR/Image-332.dcm',\n",
       " '../input/rsna-miccai-brain-tumor-radiogenomic-classification/train/00139/FLAIR/Image-15.dcm',\n",
       " '../input/rsna-miccai-brain-tumor-radiogenomic-classification/train/00716/FLAIR/Image-65.dcm',\n",
       " '../input/rsna-miccai-brain-tumor-radiogenomic-classification/train/00025/FLAIR/Image-334.dcm',\n",
       " '../input/rsna-miccai-brain-tumor-radiogenomic-classification/train/00413/FLAIR/Image-34.dcm',\n",
       " '../input/rsna-miccai-brain-tumor-radiogenomic-classification/train/00217/FLAIR/Image-28.dcm',\n",
       " '../input/rsna-miccai-brain-tumor-radiogenomic-classification/train/00351/FLAIR/Image-20.dcm',\n",
       " '../input/rsna-miccai-brain-tumor-radiogenomic-classification/train/00370/FLAIR/Image-29.dcm',\n",
       " '../input/rsna-miccai-brain-tumor-radiogenomic-classification/train/00045/FLAIR/Image-67.dcm',\n",
       " '../input/rsna-miccai-brain-tumor-radiogenomic-classification/train/00124/FLAIR/Image-11.dcm',\n",
       " '../input/rsna-miccai-brain-tumor-radiogenomic-classification/train/00258/FLAIR/Image-30.dcm',\n",
       " '../input/rsna-miccai-brain-tumor-radiogenomic-classification/train/00624/FLAIR/Image-74.dcm',\n",
       " '../input/rsna-miccai-brain-tumor-radiogenomic-classification/train/00591/FLAIR/Image-30.dcm',\n",
       " '../input/rsna-miccai-brain-tumor-radiogenomic-classification/train/00529/FLAIR/Image-67.dcm',\n",
       " '../input/rsna-miccai-brain-tumor-radiogenomic-classification/train/00569/FLAIR/Image-13.dcm',\n",
       " '../input/rsna-miccai-brain-tumor-radiogenomic-classification/train/00104/FLAIR/Image-11.dcm',\n",
       " '../input/rsna-miccai-brain-tumor-radiogenomic-classification/train/00418/FLAIR/Image-41.dcm',\n",
       " '../input/rsna-miccai-brain-tumor-radiogenomic-classification/train/00231/FLAIR/Image-33.dcm',\n",
       " '../input/rsna-miccai-brain-tumor-radiogenomic-classification/train/00616/FLAIR/Image-84.dcm',\n",
       " '../input/rsna-miccai-brain-tumor-radiogenomic-classification/train/00178/FLAIR/Image-30.dcm',\n",
       " '../input/rsna-miccai-brain-tumor-radiogenomic-classification/train/00201/FLAIR/Image-34.dcm',\n",
       " '../input/rsna-miccai-brain-tumor-radiogenomic-classification/train/00100/FLAIR/Image-17.dcm',\n",
       " '../input/rsna-miccai-brain-tumor-radiogenomic-classification/train/00684/FLAIR/Image-65.dcm',\n",
       " '../input/rsna-miccai-brain-tumor-radiogenomic-classification/train/00564/FLAIR/Image-173.dcm',\n",
       " '../input/rsna-miccai-brain-tumor-radiogenomic-classification/train/00679/FLAIR/Image-141.dcm',\n",
       " '../input/rsna-miccai-brain-tumor-radiogenomic-classification/train/00339/FLAIR/Image-35.dcm',\n",
       " '../input/rsna-miccai-brain-tumor-radiogenomic-classification/train/00622/FLAIR/Image-60.dcm',\n",
       " '../input/rsna-miccai-brain-tumor-radiogenomic-classification/train/00221/FLAIR/Image-34.dcm',\n",
       " '../input/rsna-miccai-brain-tumor-radiogenomic-classification/train/00209/FLAIR/Image-31.dcm',\n",
       " '../input/rsna-miccai-brain-tumor-radiogenomic-classification/train/00043/FLAIR/Image-65.dcm',\n",
       " '../input/rsna-miccai-brain-tumor-radiogenomic-classification/train/00216/FLAIR/Image-18.dcm',\n",
       " '../input/rsna-miccai-brain-tumor-radiogenomic-classification/train/00165/FLAIR/Image-36.dcm',\n",
       " '../input/rsna-miccai-brain-tumor-radiogenomic-classification/train/00301/FLAIR/Image-28.dcm',\n",
       " '../input/rsna-miccai-brain-tumor-radiogenomic-classification/train/00300/FLAIR/Image-33.dcm',\n",
       " '../input/rsna-miccai-brain-tumor-radiogenomic-classification/train/00777/FLAIR/Image-133.dcm',\n",
       " '../input/rsna-miccai-brain-tumor-radiogenomic-classification/train/00693/FLAIR/Image-66.dcm',\n",
       " '../input/rsna-miccai-brain-tumor-radiogenomic-classification/train/00811/FLAIR/Image-18.dcm',\n",
       " '../input/rsna-miccai-brain-tumor-radiogenomic-classification/train/00816/FLAIR/Image-12.dcm',\n",
       " '../input/rsna-miccai-brain-tumor-radiogenomic-classification/train/00751/FLAIR/Image-88.dcm',\n",
       " '../input/rsna-miccai-brain-tumor-radiogenomic-classification/train/00373/FLAIR/Image-26.dcm',\n",
       " '../input/rsna-miccai-brain-tumor-radiogenomic-classification/train/00788/FLAIR/Image-14.dcm',\n",
       " '../input/rsna-miccai-brain-tumor-radiogenomic-classification/train/00176/FLAIR/Image-26.dcm',\n",
       " '../input/rsna-miccai-brain-tumor-radiogenomic-classification/train/00353/FLAIR/Image-38.dcm',\n",
       " '../input/rsna-miccai-brain-tumor-radiogenomic-classification/train/00768/FLAIR/Image-63.dcm',\n",
       " '../input/rsna-miccai-brain-tumor-radiogenomic-classification/train/00401/FLAIR/Image-33.dcm',\n",
       " '../input/rsna-miccai-brain-tumor-radiogenomic-classification/train/00084/FLAIR/Image-184.dcm',\n",
       " '../input/rsna-miccai-brain-tumor-radiogenomic-classification/train/00321/FLAIR/Image-27.dcm',\n",
       " '../input/rsna-miccai-brain-tumor-radiogenomic-classification/train/00219/FLAIR/Image-35.dcm',\n",
       " '../input/rsna-miccai-brain-tumor-radiogenomic-classification/train/00132/FLAIR/Image-29.dcm',\n",
       " '../input/rsna-miccai-brain-tumor-radiogenomic-classification/train/00706/FLAIR/Image-64.dcm',\n",
       " '../input/rsna-miccai-brain-tumor-radiogenomic-classification/train/00661/FLAIR/Image-76.dcm',\n",
       " '../input/rsna-miccai-brain-tumor-radiogenomic-classification/train/00551/FLAIR/Image-68.dcm',\n",
       " '../input/rsna-miccai-brain-tumor-radiogenomic-classification/train/00060/FLAIR/Image-72.dcm',\n",
       " '../input/rsna-miccai-brain-tumor-radiogenomic-classification/train/00421/FLAIR/Image-40.dcm',\n",
       " '../input/rsna-miccai-brain-tumor-radiogenomic-classification/train/00234/FLAIR/Image-33.dcm',\n",
       " '../input/rsna-miccai-brain-tumor-radiogenomic-classification/train/00000/FLAIR/Image-140.dcm',\n",
       " '../input/rsna-miccai-brain-tumor-radiogenomic-classification/train/00452/FLAIR/Image-16.dcm',\n",
       " '../input/rsna-miccai-brain-tumor-radiogenomic-classification/train/00026/FLAIR/Image-59.dcm',\n",
       " '../input/rsna-miccai-brain-tumor-radiogenomic-classification/train/00732/FLAIR/Image-72.dcm',\n",
       " '../input/rsna-miccai-brain-tumor-radiogenomic-classification/train/00543/FLAIR/Image-77.dcm',\n",
       " '../input/rsna-miccai-brain-tumor-radiogenomic-classification/train/00505/FLAIR/Image-70.dcm',\n",
       " '../input/rsna-miccai-brain-tumor-radiogenomic-classification/train/00191/FLAIR/Image-31.dcm',\n",
       " '../input/rsna-miccai-brain-tumor-radiogenomic-classification/train/00349/FLAIR/Image-30.dcm',\n",
       " '../input/rsna-miccai-brain-tumor-radiogenomic-classification/train/00035/FLAIR/Image-144.dcm',\n",
       " '../input/rsna-miccai-brain-tumor-radiogenomic-classification/train/00313/FLAIR/Image-36.dcm',\n",
       " '../input/rsna-miccai-brain-tumor-radiogenomic-classification/train/00729/FLAIR/Image-58.dcm',\n",
       " '../input/rsna-miccai-brain-tumor-radiogenomic-classification/train/00528/FLAIR/Image-73.dcm',\n",
       " '../input/rsna-miccai-brain-tumor-radiogenomic-classification/train/00263/FLAIR/Image-36.dcm',\n",
       " '../input/rsna-miccai-brain-tumor-radiogenomic-classification/train/00747/FLAIR/Image-136.dcm',\n",
       " '../input/rsna-miccai-brain-tumor-radiogenomic-classification/train/00819/FLAIR/Image-16.dcm',\n",
       " '../input/rsna-miccai-brain-tumor-radiogenomic-classification/train/00623/FLAIR/Image-72.dcm',\n",
       " '../input/rsna-miccai-brain-tumor-radiogenomic-classification/train/00454/FLAIR/Image-17.dcm',\n",
       " '../input/rsna-miccai-brain-tumor-radiogenomic-classification/train/00714/FLAIR/Image-106.dcm',\n",
       " '../input/rsna-miccai-brain-tumor-radiogenomic-classification/train/00799/FLAIR/Image-15.dcm',\n",
       " '../input/rsna-miccai-brain-tumor-radiogenomic-classification/train/00008/FLAIR/Image-66.dcm',\n",
       " '../input/rsna-miccai-brain-tumor-radiogenomic-classification/train/00218/FLAIR/Image-38.dcm',\n",
       " '../input/rsna-miccai-brain-tumor-radiogenomic-classification/train/00586/FLAIR/Image-27.dcm',\n",
       " '../input/rsna-miccai-brain-tumor-radiogenomic-classification/train/00674/FLAIR/Image-67.dcm',\n",
       " '../input/rsna-miccai-brain-tumor-radiogenomic-classification/train/01010/FLAIR/Image-26.dcm',\n",
       " '../input/rsna-miccai-brain-tumor-radiogenomic-classification/train/00031/FLAIR/Image-66.dcm',\n",
       " '../input/rsna-miccai-brain-tumor-radiogenomic-classification/train/00775/FLAIR/Image-66.dcm',\n",
       " '../input/rsna-miccai-brain-tumor-radiogenomic-classification/train/00539/FLAIR/Image-74.dcm',\n",
       " '../input/rsna-miccai-brain-tumor-radiogenomic-classification/train/00046/FLAIR/Image-63.dcm',\n",
       " '../input/rsna-miccai-brain-tumor-radiogenomic-classification/train/00691/FLAIR/Image-63.dcm',\n",
       " '../input/rsna-miccai-brain-tumor-radiogenomic-classification/train/00211/FLAIR/Image-32.dcm',\n",
       " '../input/rsna-miccai-brain-tumor-radiogenomic-classification/train/00547/FLAIR/Image-60.dcm',\n",
       " '../input/rsna-miccai-brain-tumor-radiogenomic-classification/train/00346/FLAIR/Image-39.dcm',\n",
       " '../input/rsna-miccai-brain-tumor-radiogenomic-classification/train/00618/FLAIR/Image-78.dcm',\n",
       " '../input/rsna-miccai-brain-tumor-radiogenomic-classification/train/00602/FLAIR/Image-122.dcm',\n",
       " '../input/rsna-miccai-brain-tumor-radiogenomic-classification/train/00698/FLAIR/Image-72.dcm',\n",
       " '../input/rsna-miccai-brain-tumor-radiogenomic-classification/train/00305/FLAIR/Image-34.dcm',\n",
       " '../input/rsna-miccai-brain-tumor-radiogenomic-classification/train/00429/FLAIR/Image-16.dcm',\n",
       " '../input/rsna-miccai-brain-tumor-radiogenomic-classification/train/00407/FLAIR/Image-36.dcm',\n",
       " '../input/rsna-miccai-brain-tumor-radiogenomic-classification/train/00089/FLAIR/Image-281.dcm',\n",
       " '../input/rsna-miccai-brain-tumor-radiogenomic-classification/train/00254/FLAIR/Image-28.dcm',\n",
       " '../input/rsna-miccai-brain-tumor-radiogenomic-classification/train/00772/FLAIR/Image-128.dcm',\n",
       " '../input/rsna-miccai-brain-tumor-radiogenomic-classification/train/00099/FLAIR/Image-69.dcm',\n",
       " '../input/rsna-miccai-brain-tumor-radiogenomic-classification/train/01004/FLAIR/Image-36.dcm',\n",
       " '../input/rsna-miccai-brain-tumor-radiogenomic-classification/train/00506/FLAIR/Image-141.dcm',\n",
       " '../input/rsna-miccai-brain-tumor-radiogenomic-classification/train/00836/FLAIR/Image-35.dcm',\n",
       " '../input/rsna-miccai-brain-tumor-radiogenomic-classification/train/00070/FLAIR/Image-104.dcm',\n",
       " '../input/rsna-miccai-brain-tumor-radiogenomic-classification/train/00436/FLAIR/Image-14.dcm',\n",
       " '../input/rsna-miccai-brain-tumor-radiogenomic-classification/train/00639/FLAIR/Image-144.dcm',\n",
       " '../input/rsna-miccai-brain-tumor-radiogenomic-classification/train/00107/FLAIR/Image-18.dcm',\n",
       " '../input/rsna-miccai-brain-tumor-radiogenomic-classification/train/00336/FLAIR/Image-36.dcm',\n",
       " '../input/rsna-miccai-brain-tumor-radiogenomic-classification/train/00488/FLAIR/Image-64.dcm',\n",
       " '../input/rsna-miccai-brain-tumor-radiogenomic-classification/train/00416/FLAIR/Image-27.dcm',\n",
       " '../input/rsna-miccai-brain-tumor-radiogenomic-classification/train/00607/FLAIR/Image-72.dcm',\n",
       " '../input/rsna-miccai-brain-tumor-radiogenomic-classification/train/00834/FLAIR/Image-89.dcm',\n",
       " '../input/rsna-miccai-brain-tumor-radiogenomic-classification/train/00512/FLAIR/Image-77.dcm',\n",
       " '../input/rsna-miccai-brain-tumor-radiogenomic-classification/train/00267/FLAIR/Image-28.dcm',\n",
       " '../input/rsna-miccai-brain-tumor-radiogenomic-classification/train/00068/FLAIR/Image-199.dcm',\n",
       " '../input/rsna-miccai-brain-tumor-radiogenomic-classification/train/00249/FLAIR/Image-28.dcm',\n",
       " '../input/rsna-miccai-brain-tumor-radiogenomic-classification/train/00657/FLAIR/Image-102.dcm',\n",
       " '../input/rsna-miccai-brain-tumor-radiogenomic-classification/train/00555/FLAIR/Image-68.dcm',\n",
       " '../input/rsna-miccai-brain-tumor-radiogenomic-classification/train/00410/FLAIR/Image-28.dcm',\n",
       " '../input/rsna-miccai-brain-tumor-radiogenomic-classification/train/00651/FLAIR/Image-76.dcm',\n",
       " '../input/rsna-miccai-brain-tumor-radiogenomic-classification/train/00214/FLAIR/Image-19.dcm',\n",
       " '../input/rsna-miccai-brain-tumor-radiogenomic-classification/train/00620/FLAIR/Image-143.dcm',\n",
       " '../input/rsna-miccai-brain-tumor-radiogenomic-classification/train/00408/FLAIR/Image-32.dcm',\n",
       " '../input/rsna-miccai-brain-tumor-radiogenomic-classification/train/00574/FLAIR/Image-28.dcm',\n",
       " '../input/rsna-miccai-brain-tumor-radiogenomic-classification/train/00112/FLAIR/Image-13.dcm',\n",
       " '../input/rsna-miccai-brain-tumor-radiogenomic-classification/train/00599/FLAIR/Image-28.dcm',\n",
       " '../input/rsna-miccai-brain-tumor-radiogenomic-classification/train/00284/FLAIR/Image-34.dcm',\n",
       " '../input/rsna-miccai-brain-tumor-radiogenomic-classification/train/00347/FLAIR/Image-31.dcm',\n",
       " '../input/rsna-miccai-brain-tumor-radiogenomic-classification/train/00765/FLAIR/Image-75.dcm',\n",
       " '../input/rsna-miccai-brain-tumor-radiogenomic-classification/train/00423/FLAIR/Image-38.dcm',\n",
       " '../input/rsna-miccai-brain-tumor-radiogenomic-classification/train/00830/FLAIR/Image-17.dcm',\n",
       " '../input/rsna-miccai-brain-tumor-radiogenomic-classification/train/00692/FLAIR/Image-67.dcm',\n",
       " '../input/rsna-miccai-brain-tumor-radiogenomic-classification/train/00656/FLAIR/Image-116.dcm',\n",
       " '../input/rsna-miccai-brain-tumor-radiogenomic-classification/train/00184/FLAIR/Image-27.dcm',\n",
       " '../input/rsna-miccai-brain-tumor-radiogenomic-classification/train/00378/FLAIR/Image-32.dcm',\n",
       " '../input/rsna-miccai-brain-tumor-radiogenomic-classification/train/00193/FLAIR/Image-28.dcm',\n",
       " '../input/rsna-miccai-brain-tumor-radiogenomic-classification/train/00740/FLAIR/Image-74.dcm',\n",
       " '../input/rsna-miccai-brain-tumor-radiogenomic-classification/train/00523/FLAIR/Image-83.dcm',\n",
       " '../input/rsna-miccai-brain-tumor-radiogenomic-classification/train/00581/FLAIR/Image-45.dcm',\n",
       " '../input/rsna-miccai-brain-tumor-radiogenomic-classification/train/00386/FLAIR/Image-28.dcm',\n",
       " '../input/rsna-miccai-brain-tumor-radiogenomic-classification/train/00667/FLAIR/Image-71.dcm',\n",
       " '../input/rsna-miccai-brain-tumor-radiogenomic-classification/train/00367/FLAIR/Image-31.dcm',\n",
       " '../input/rsna-miccai-brain-tumor-radiogenomic-classification/train/00805/FLAIR/Image-16.dcm',\n",
       " '../input/rsna-miccai-brain-tumor-radiogenomic-classification/train/00250/FLAIR/Image-35.dcm',\n",
       " '../input/rsna-miccai-brain-tumor-radiogenomic-classification/train/00824/FLAIR/Image-16.dcm',\n",
       " '../input/rsna-miccai-brain-tumor-radiogenomic-classification/train/00703/FLAIR/Image-70.dcm',\n",
       " '../input/rsna-miccai-brain-tumor-radiogenomic-classification/train/00441/FLAIR/Image-14.dcm',\n",
       " '../input/rsna-miccai-brain-tumor-radiogenomic-classification/train/00605/FLAIR/Image-70.dcm',\n",
       " '',\n",
       " '../input/rsna-miccai-brain-tumor-radiogenomic-classification/train/00589/FLAIR/Image-17.dcm',\n",
       " '../input/rsna-miccai-brain-tumor-radiogenomic-classification/train/00840/FLAIR/Image-37.dcm',\n",
       " '../input/rsna-miccai-brain-tumor-radiogenomic-classification/train/00498/FLAIR/Image-464.dcm',\n",
       " '../input/rsna-miccai-brain-tumor-radiogenomic-classification/train/00320/FLAIR/Image-27.dcm',\n",
       " '../input/rsna-miccai-brain-tumor-radiogenomic-classification/train/00110/FLAIR/Image-13.dcm',\n",
       " '../input/rsna-miccai-brain-tumor-radiogenomic-classification/train/00542/FLAIR/Image-64.dcm',\n",
       " '../input/rsna-miccai-brain-tumor-radiogenomic-classification/train/00417/FLAIR/Image-31.dcm',\n",
       " '../input/rsna-miccai-brain-tumor-radiogenomic-classification/train/00122/FLAIR/Image-52.dcm',\n",
       " '../input/rsna-miccai-brain-tumor-radiogenomic-classification/train/00071/FLAIR/Image-145.dcm',\n",
       " '../input/rsna-miccai-brain-tumor-radiogenomic-classification/train/00097/FLAIR/Image-179.dcm',\n",
       " '../input/rsna-miccai-brain-tumor-radiogenomic-classification/train/00328/FLAIR/Image-30.dcm',\n",
       " '../input/rsna-miccai-brain-tumor-radiogenomic-classification/train/00792/FLAIR/Image-16.dcm',\n",
       " '../input/rsna-miccai-brain-tumor-radiogenomic-classification/train/00655/FLAIR/Image-101.dcm',\n",
       " '../input/rsna-miccai-brain-tumor-radiogenomic-classification/train/00063/FLAIR/Image-143.dcm',\n",
       " '../input/rsna-miccai-brain-tumor-radiogenomic-classification/train/00133/FLAIR/Image-39.dcm',\n",
       " '../input/rsna-miccai-brain-tumor-radiogenomic-classification/train/00169/FLAIR/Image-28.dcm',\n",
       " '../input/rsna-miccai-brain-tumor-radiogenomic-classification/train/00818/FLAIR/Image-19.dcm',\n",
       " '../input/rsna-miccai-brain-tumor-radiogenomic-classification/train/00017/FLAIR/Image-434.dcm',\n",
       " '../input/rsna-miccai-brain-tumor-radiogenomic-classification/train/00501/FLAIR/Image-79.dcm',\n",
       " '../input/rsna-miccai-brain-tumor-radiogenomic-classification/train/00442/FLAIR/Image-20.dcm',\n",
       " '../input/rsna-miccai-brain-tumor-radiogenomic-classification/train/00650/FLAIR/Image-72.dcm',\n",
       " '../input/rsna-miccai-brain-tumor-radiogenomic-classification/train/00619/FLAIR/Image-63.dcm',\n",
       " '../input/rsna-miccai-brain-tumor-radiogenomic-classification/train/00782/FLAIR/Image-14.dcm',\n",
       " '../input/rsna-miccai-brain-tumor-radiogenomic-classification/train/00270/FLAIR/Image-13.dcm',\n",
       " '../input/rsna-miccai-brain-tumor-radiogenomic-classification/train/00575/FLAIR/Image-14.dcm',\n",
       " '../input/rsna-miccai-brain-tumor-radiogenomic-classification/train/00053/FLAIR/Image-458.dcm',\n",
       " '../input/rsna-miccai-brain-tumor-radiogenomic-classification/train/00064/FLAIR/Image-436.dcm',\n",
       " '../input/rsna-miccai-brain-tumor-radiogenomic-classification/train/00516/FLAIR/Image-71.dcm',\n",
       " '../input/rsna-miccai-brain-tumor-radiogenomic-classification/train/00524/FLAIR/Image-72.dcm',\n",
       " '../input/rsna-miccai-brain-tumor-radiogenomic-classification/train/00545/FLAIR/Image-79.dcm',\n",
       " '../input/rsna-miccai-brain-tumor-radiogenomic-classification/train/00730/FLAIR/Image-150.dcm',\n",
       " '../input/rsna-miccai-brain-tumor-radiogenomic-classification/train/00478/FLAIR/Image-92.dcm',\n",
       " '../input/rsna-miccai-brain-tumor-radiogenomic-classification/train/01001/FLAIR/Image-27.dcm',\n",
       " '../input/rsna-miccai-brain-tumor-radiogenomic-classification/train/00419/FLAIR/Image-25.dcm',\n",
       " '../input/rsna-miccai-brain-tumor-radiogenomic-classification/train/00261/FLAIR/Image-33.dcm',\n",
       " '../input/rsna-miccai-brain-tumor-radiogenomic-classification/train/00544/FLAIR/Image-62.dcm',\n",
       " '../input/rsna-miccai-brain-tumor-radiogenomic-classification/train/00028/FLAIR/Image-289.dcm',\n",
       " '../input/rsna-miccai-brain-tumor-radiogenomic-classification/train/00640/FLAIR/Image-66.dcm',\n",
       " '../input/rsna-miccai-brain-tumor-radiogenomic-classification/train/00642/FLAIR/Image-70.dcm',\n",
       " '../input/rsna-miccai-brain-tumor-radiogenomic-classification/train/00359/FLAIR/Image-35.dcm',\n",
       " '../input/rsna-miccai-brain-tumor-radiogenomic-classification/train/00220/FLAIR/Image-31.dcm',\n",
       " '../input/rsna-miccai-brain-tumor-radiogenomic-classification/train/00598/FLAIR/Image-32.dcm',\n",
       " '../input/rsna-miccai-brain-tumor-radiogenomic-classification/train/00746/FLAIR/Image-77.dcm',\n",
       " '../input/rsna-miccai-brain-tumor-radiogenomic-classification/train/00472/FLAIR/Image-78.dcm',\n",
       " '../input/rsna-miccai-brain-tumor-radiogenomic-classification/train/00682/FLAIR/Image-78.dcm',\n",
       " '../input/rsna-miccai-brain-tumor-radiogenomic-classification/train/00803/FLAIR/Image-18.dcm',\n",
       " '../input/rsna-miccai-brain-tumor-radiogenomic-classification/train/00138/FLAIR/Image-31.dcm',\n",
       " '../input/rsna-miccai-brain-tumor-radiogenomic-classification/train/00676/FLAIR/Image-68.dcm',\n",
       " '../input/rsna-miccai-brain-tumor-radiogenomic-classification/train/00022/FLAIR/Image-165.dcm',\n",
       " '../input/rsna-miccai-brain-tumor-radiogenomic-classification/train/00117/FLAIR/Image-28.dcm',\n",
       " '../input/rsna-miccai-brain-tumor-radiogenomic-classification/train/00606/FLAIR/Image-62.dcm',\n",
       " '../input/rsna-miccai-brain-tumor-radiogenomic-classification/train/00171/FLAIR/Image-24.dcm',\n",
       " '../input/rsna-miccai-brain-tumor-radiogenomic-classification/train/00807/FLAIR/Image-14.dcm',\n",
       " '../input/rsna-miccai-brain-tumor-radiogenomic-classification/train/00044/FLAIR/Image-298.dcm',\n",
       " '../input/rsna-miccai-brain-tumor-radiogenomic-classification/train/00197/FLAIR/Image-26.dcm',\n",
       " '../input/rsna-miccai-brain-tumor-radiogenomic-classification/train/00196/FLAIR/Image-39.dcm',\n",
       " '../input/rsna-miccai-brain-tumor-radiogenomic-classification/train/00186/FLAIR/Image-114.dcm',\n",
       " '../input/rsna-miccai-brain-tumor-radiogenomic-classification/train/00387/FLAIR/Image-36.dcm',\n",
       " '../input/rsna-miccai-brain-tumor-radiogenomic-classification/train/00032/FLAIR/Image-161.dcm',\n",
       " '../input/rsna-miccai-brain-tumor-radiogenomic-classification/train/00379/FLAIR/Image-32.dcm']"
      ]
     },
     "execution_count": 14,
     "metadata": {},
     "output_type": "execute_result"
    }
   ],
   "source": [
    "ds_train_files=tf.data.Dataset.list_files('../input/rsna-miccai-brain-tumor-radiogenomic-classification/train/*')\n",
    "files_num,best_flair_images,best_t1w_images,best_t1wce_images,best_t2w_images=image_selection(ds_train_files.batch(1))\n",
    "best_flair_images"
   ]
  },
  {
   "cell_type": "code",
   "execution_count": 15,
   "id": "c5432bc0",
   "metadata": {
    "execution": {
     "iopub.execute_input": "2022-09-05T00:31:29.580517Z",
     "iopub.status.busy": "2022-09-05T00:31:29.580037Z",
     "iopub.status.idle": "2022-09-05T00:31:29.589420Z",
     "shell.execute_reply": "2022-09-05T00:31:29.588590Z"
    },
    "papermill": {
     "duration": 0.027099,
     "end_time": "2022-09-05T00:31:29.593484",
     "exception": false,
     "start_time": "2022-09-05T00:31:29.566385",
     "status": "completed"
    },
    "tags": []
   },
   "outputs": [
    {
     "data": {
      "text/plain": [
       "585"
      ]
     },
     "execution_count": 15,
     "metadata": {},
     "output_type": "execute_result"
    }
   ],
   "source": [
    "len(files_num)"
   ]
  },
  {
   "cell_type": "code",
   "execution_count": 16,
   "id": "48eca834",
   "metadata": {
    "execution": {
     "iopub.execute_input": "2022-09-05T00:31:29.616092Z",
     "iopub.status.busy": "2022-09-05T00:31:29.615765Z",
     "iopub.status.idle": "2022-09-05T00:31:29.639308Z",
     "shell.execute_reply": "2022-09-05T00:31:29.638368Z"
    },
    "papermill": {
     "duration": 0.037869,
     "end_time": "2022-09-05T00:31:29.641973",
     "exception": false,
     "start_time": "2022-09-05T00:31:29.604104",
     "status": "completed"
    },
    "tags": []
   },
   "outputs": [],
   "source": [
    "dict={\n",
    "    'files_num':files_num,\n",
    "    'best_flair_images':best_flair_images,\n",
    "    'best_t1w_images':best_t1w_images,\n",
    "    'best_t1wce_images':best_t1wce_images,\n",
    "    'best_t2w_images':best_t2w_images\n",
    "}\n",
    "df=pd.DataFrame(dict)\n",
    "df.head()\n",
    "df.to_csv('best_images_paths.csv',index=False)"
   ]
  },
  {
   "cell_type": "code",
   "execution_count": 17,
   "id": "c2775836",
   "metadata": {
    "execution": {
     "iopub.execute_input": "2022-09-05T00:31:29.665597Z",
     "iopub.status.busy": "2022-09-05T00:31:29.665276Z",
     "iopub.status.idle": "2022-09-05T00:31:29.669565Z",
     "shell.execute_reply": "2022-09-05T00:31:29.668744Z"
    },
    "papermill": {
     "duration": 0.019395,
     "end_time": "2022-09-05T00:31:29.673387",
     "exception": false,
     "start_time": "2022-09-05T00:31:29.653992",
     "status": "completed"
    },
    "tags": []
   },
   "outputs": [],
   "source": [
    "#train, test = tf.keras.datasets.fashion_mnist.load_data()\n",
    "\n",
    "#images, labels = train\n",
    "#images = images/255.0\n",
    "#labels = labels.astype(np.int32)\n",
    "#fmnist_train_ds = tf.data.Dataset.from_tensor_slices((images, labels))\n",
    "#fmnist_train_ds = fmnist_train_ds.shuffle(5000).batch(32)\n",
    "\n",
    "#model = tf.keras.Sequential([\n",
    "#  tf.keras.layers.Flatten(),\n",
    "#  tf.keras.layers.Dense(10)\n",
    "#])\n",
    "\n",
    "#model.compile(optimizer='adam',\n",
    "#              loss=tf.keras.losses.SparseCategoricalCrossentropy(from_logits=True), \n",
    "#              metrics=['accuracy'])\n",
    "#model.fit(fmnist_train_ds, epochs=2)"
   ]
  },
  {
   "cell_type": "code",
   "execution_count": 18,
   "id": "5a38435b",
   "metadata": {
    "execution": {
     "iopub.execute_input": "2022-09-05T00:31:29.694958Z",
     "iopub.status.busy": "2022-09-05T00:31:29.694653Z",
     "iopub.status.idle": "2022-09-05T00:31:39.266377Z",
     "shell.execute_reply": "2022-09-05T00:31:39.265523Z"
    },
    "papermill": {
     "duration": 9.584885,
     "end_time": "2022-09-05T00:31:39.268406",
     "exception": false,
     "start_time": "2022-09-05T00:31:29.683521",
     "status": "completed"
    },
    "tags": []
   },
   "outputs": [
    {
     "name": "stdout",
     "output_type": "stream",
     "text": [
      "73780317\n"
     ]
    },
    {
     "data": {
      "text/plain": [
       "<matplotlib.image.AxesImage at 0x7efbf00d7510>"
      ]
     },
     "execution_count": 18,
     "metadata": {},
     "output_type": "execute_result"
    },
    {
     "data": {
      "image/png": "[encoded data removed]",
      "text/plain": [
       "<Figure size 432x288 with 1 Axes>"
      ]
     },
     "metadata": {
      "needs_background": "light"
     },
     "output_type": "display_data"
    }
   ],
   "source": [
    "ds_train_files=tf.data.Dataset.list_files('../input/rsna-miccai-brain-tumor-radiogenomic-classification/train/*')\n",
    "files_num,best_flair_images,best_t1w_images,best_t1wce_images,best_t2w_images=image_selection(ds_train_files.take(2))\n",
    "best_flair_images\n",
    "ds = pydicom.dcmread(best_flair_images[0])\n",
    "print(np.array(ds.pixel_array).sum())\n",
    "plt.imshow(ds.pixel_array, cmap=plt.cm.bone) "
   ]
  },
  {
   "cell_type": "code",
   "execution_count": 19,
   "id": "d4520f34",
   "metadata": {
    "execution": {
     "iopub.execute_input": "2022-09-05T00:31:39.285151Z",
     "iopub.status.busy": "2022-09-05T00:31:39.284865Z",
     "iopub.status.idle": "2022-09-05T00:31:39.495095Z",
     "shell.execute_reply": "2022-09-05T00:31:39.494223Z"
    },
    "papermill": {
     "duration": 0.220968,
     "end_time": "2022-09-05T00:31:39.497277",
     "exception": false,
     "start_time": "2022-09-05T00:31:39.276309",
     "status": "completed"
    },
    "tags": []
   },
   "outputs": [
    {
     "name": "stdout",
     "output_type": "stream",
     "text": [
      "61858253\n"
     ]
    },
    {
     "data": {
      "text/plain": [
       "<matplotlib.image.AxesImage at 0x7efb9320d6d0>"
      ]
     },
     "execution_count": 19,
     "metadata": {},
     "output_type": "execute_result"
    },
    {
     "data": {
      "image/png": "[encoded data removed]",
      "text/plain": [
       "<Figure size 432x288 with 1 Axes>"
      ]
     },
     "metadata": {
      "needs_background": "light"
     },
     "output_type": "display_data"
    }
   ],
   "source": [
    "ds = pydicom.dcmread(best_t1wce_images[0])\n",
    "print(np.array(ds.pixel_array).sum())\n",
    "plt.imshow(ds.pixel_array, cmap=plt.cm.bone) "
   ]
  },
  {
   "cell_type": "code",
   "execution_count": 20,
   "id": "3fb625d9",
   "metadata": {
    "execution": {
     "iopub.execute_input": "2022-09-05T00:31:39.515171Z",
     "iopub.status.busy": "2022-09-05T00:31:39.514894Z",
     "iopub.status.idle": "2022-09-05T00:31:39.751775Z",
     "shell.execute_reply": "2022-09-05T00:31:39.750585Z"
    },
    "papermill": {
     "duration": 0.248584,
     "end_time": "2022-09-05T00:31:39.754414",
     "exception": false,
     "start_time": "2022-09-05T00:31:39.505830",
     "status": "completed"
    },
    "tags": []
   },
   "outputs": [
    {
     "name": "stdout",
     "output_type": "stream",
     "text": [
      "85820453\n"
     ]
    },
    {
     "data": {
      "text/plain": [
       "<matplotlib.image.AxesImage at 0x7efb931978d0>"
      ]
     },
     "execution_count": 20,
     "metadata": {},
     "output_type": "execute_result"
    },
    {
     "data": {
      "image/png": "[encoded data removed]",
      "text/plain": [
       "<Figure size 432x288 with 1 Axes>"
      ]
     },
     "metadata": {
      "needs_background": "light"
     },
     "output_type": "display_data"
    }
   ],
   "source": [
    "ds = pydicom.dcmread(best_t1w_images[0])\n",
    "print(np.array(ds.pixel_array).sum())\n",
    "plt.imshow(ds.pixel_array, cmap=plt.cm.bone) "
   ]
  },
  {
   "cell_type": "code",
   "execution_count": 21,
   "id": "a28d5cd8",
   "metadata": {
    "execution": {
     "iopub.execute_input": "2022-09-05T00:31:39.773730Z",
     "iopub.status.busy": "2022-09-05T00:31:39.773420Z",
     "iopub.status.idle": "2022-09-05T00:31:40.005438Z",
     "shell.execute_reply": "2022-09-05T00:31:40.004510Z"
    },
    "papermill": {
     "duration": 0.244049,
     "end_time": "2022-09-05T00:31:40.007697",
     "exception": false,
     "start_time": "2022-09-05T00:31:39.763648",
     "status": "completed"
    },
    "tags": []
   },
   "outputs": [
    {
     "name": "stdout",
     "output_type": "stream",
     "text": [
      "52510383\n"
     ]
    },
    {
     "data": {
      "text/plain": [
       "<matplotlib.image.AxesImage at 0x7efb93114650>"
      ]
     },
     "execution_count": 21,
     "metadata": {},
     "output_type": "execute_result"
    },
    {
     "data": {
      "image/png": "[encoded data removed]",
      "text/plain": [
       "<Figure size 432x288 with 1 Axes>"
      ]
     },
     "metadata": {
      "needs_background": "light"
     },
     "output_type": "display_data"
    }
   ],
   "source": [
    "ds = pydicom.dcmread(best_t2w_images[0])\n",
    "print(np.array(ds.pixel_array).sum())\n",
    "plt.imshow(ds.pixel_array, cmap=plt.cm.bone)"
   ]
  },
  {
   "cell_type": "code",
   "execution_count": 22,
   "id": "8f867e23",
   "metadata": {
    "execution": {
     "iopub.execute_input": "2022-09-05T00:31:40.029187Z",
     "iopub.status.busy": "2022-09-05T00:31:40.028288Z",
     "iopub.status.idle": "2022-09-05T00:31:40.034551Z",
     "shell.execute_reply": "2022-09-05T00:31:40.033679Z"
    },
    "papermill": {
     "duration": 0.019375,
     "end_time": "2022-09-05T00:31:40.036714",
     "exception": false,
     "start_time": "2022-09-05T00:31:40.017339",
     "status": "completed"
    },
    "tags": []
   },
   "outputs": [
    {
     "name": "stdout",
     "output_type": "stream",
     "text": [
      "764\n"
     ]
    }
   ],
   "source": [
    "print(files_num[0])"
   ]
  },
  {
   "cell_type": "code",
   "execution_count": 23,
   "id": "9ea77e18",
   "metadata": {
    "execution": {
     "iopub.execute_input": "2022-09-05T00:31:40.056657Z",
     "iopub.status.busy": "2022-09-05T00:31:40.056359Z",
     "iopub.status.idle": "2022-09-05T00:31:40.067895Z",
     "shell.execute_reply": "2022-09-05T00:31:40.066917Z"
    },
    "papermill": {
     "duration": 0.02393,
     "end_time": "2022-09-05T00:31:40.070007",
     "exception": false,
     "start_time": "2022-09-05T00:31:40.046077",
     "status": "completed"
    },
    "tags": []
   },
   "outputs": [
    {
     "data": {
      "text/html": [
       "<div>\n",
       "<style scoped>\n",
       "    .dataframe tbody tr th:only-of-type {\n",
       "        vertical-align: middle;\n",
       "    }\n",
       "\n",
       "    .dataframe tbody tr th {\n",
       "        vertical-align: top;\n",
       "    }\n",
       "\n",
       "    .dataframe thead th {\n",
       "        text-align: right;\n",
       "    }\n",
       "</style>\n",
       "<table border=\"1\" class=\"dataframe\">\n",
       "  <thead>\n",
       "    <tr style=\"text-align: right;\">\n",
       "      <th></th>\n",
       "      <th>BraTS21ID</th>\n",
       "      <th>MGMT_value</th>\n",
       "    </tr>\n",
       "  </thead>\n",
       "  <tbody>\n",
       "    <tr>\n",
       "      <th>258</th>\n",
       "      <td>378</td>\n",
       "      <td>0</td>\n",
       "    </tr>\n",
       "  </tbody>\n",
       "</table>\n",
       "</div>"
      ],
      "text/plain": [
       "     BraTS21ID  MGMT_value\n",
       "258        378           0"
      ]
     },
     "execution_count": 23,
     "metadata": {},
     "output_type": "execute_result"
    }
   ],
   "source": [
    "train_labels_ds[train_labels_ds['BraTS21ID']==378]"
   ]
  },
  {
   "cell_type": "code",
   "execution_count": 24,
   "id": "394d698c",
   "metadata": {
    "execution": {
     "iopub.execute_input": "2022-09-05T00:31:40.090876Z",
     "iopub.status.busy": "2022-09-05T00:31:40.090587Z",
     "iopub.status.idle": "2022-09-05T00:31:40.320526Z",
     "shell.execute_reply": "2022-09-05T00:31:40.319687Z"
    },
    "papermill": {
     "duration": 0.242357,
     "end_time": "2022-09-05T00:31:40.322514",
     "exception": false,
     "start_time": "2022-09-05T00:31:40.080157",
     "status": "completed"
    },
    "tags": []
   },
   "outputs": [
    {
     "name": "stdout",
     "output_type": "stream",
     "text": [
      "71451770\n"
     ]
    },
    {
     "data": {
      "text/plain": [
       "<matplotlib.image.AxesImage at 0x7efb930a6710>"
      ]
     },
     "execution_count": 24,
     "metadata": {},
     "output_type": "execute_result"
    },
    {
     "data": {
      "image/png": "[encoded data removed]",
      "text/plain": [
       "<Figure size 432x288 with 1 Axes>"
      ]
     },
     "metadata": {
      "needs_background": "light"
     },
     "output_type": "display_data"
    }
   ],
   "source": [
    "ds = pydicom.dcmread(best_t2w_images[1])\n",
    "print(np.array(ds.pixel_array).sum())\n",
    "plt.imshow(ds.pixel_array, cmap=plt.cm.bone)"
   ]
  },
  {
   "cell_type": "code",
   "execution_count": 25,
   "id": "eb9dc118",
   "metadata": {
    "execution": {
     "iopub.execute_input": "2022-09-05T00:31:40.345959Z",
     "iopub.status.busy": "2022-09-05T00:31:40.344366Z",
     "iopub.status.idle": "2022-09-05T00:31:40.351496Z",
     "shell.execute_reply": "2022-09-05T00:31:40.350483Z"
    },
    "papermill": {
     "duration": 0.020491,
     "end_time": "2022-09-05T00:31:40.353605",
     "exception": false,
     "start_time": "2022-09-05T00:31:40.333114",
     "status": "completed"
    },
    "tags": []
   },
   "outputs": [
    {
     "data": {
      "text/plain": [
       "146"
      ]
     },
     "execution_count": 25,
     "metadata": {},
     "output_type": "execute_result"
    }
   ],
   "source": [
    "files_num[1]"
   ]
  },
  {
   "cell_type": "code",
   "execution_count": 26,
   "id": "35025c46",
   "metadata": {
    "execution": {
     "iopub.execute_input": "2022-09-05T00:31:40.386117Z",
     "iopub.status.busy": "2022-09-05T00:31:40.385840Z",
     "iopub.status.idle": "2022-09-05T00:31:40.397521Z",
     "shell.execute_reply": "2022-09-05T00:31:40.396393Z"
    },
    "papermill": {
     "duration": 0.034491,
     "end_time": "2022-09-05T00:31:40.399875",
     "exception": false,
     "start_time": "2022-09-05T00:31:40.365384",
     "status": "completed"
    },
    "tags": []
   },
   "outputs": [
    {
     "data": {
      "text/html": [
       "<div>\n",
       "<style scoped>\n",
       "    .dataframe tbody tr th:only-of-type {\n",
       "        vertical-align: middle;\n",
       "    }\n",
       "\n",
       "    .dataframe tbody tr th {\n",
       "        vertical-align: top;\n",
       "    }\n",
       "\n",
       "    .dataframe thead th {\n",
       "        text-align: right;\n",
       "    }\n",
       "</style>\n",
       "<table border=\"1\" class=\"dataframe\">\n",
       "  <thead>\n",
       "    <tr style=\"text-align: right;\">\n",
       "      <th></th>\n",
       "      <th>BraTS21ID</th>\n",
       "      <th>MGMT_value</th>\n",
       "    </tr>\n",
       "  </thead>\n",
       "  <tbody>\n",
       "    <tr>\n",
       "      <th>281</th>\n",
       "      <td>408</td>\n",
       "      <td>1</td>\n",
       "    </tr>\n",
       "  </tbody>\n",
       "</table>\n",
       "</div>"
      ],
      "text/plain": [
       "     BraTS21ID  MGMT_value\n",
       "281        408           1"
      ]
     },
     "execution_count": 26,
     "metadata": {},
     "output_type": "execute_result"
    }
   ],
   "source": [
    "train_labels_ds[train_labels_ds['BraTS21ID']==408]"
   ]
  }
 ],
 "metadata": {
  "kernelspec": {
   "display_name": "Python 3",
   "language": "python",
   "name": "python3"
  },
  "language_info": {
   "codemirror_mode": {
    "name": "ipython",
    "version": 3
   },
   "file_extension": ".py",
   "mimetype": "text/x-python",
   "name": "python",
   "nbconvert_exporter": "python",
   "pygments_lexer": "ipython3",
   "version": "3.7.12"
  },
  "papermill": {
   "default_parameters": {},
   "duration": 3371.617764,
   "end_time": "2022-09-05T00:31:43.311990",
   "environment_variables": {},
   "exception": null,
   "input_path": "__notebook__.ipynb",
   "output_path": "__notebook__.ipynb",
   "parameters": {},
   "start_time": "2022-09-04T23:35:31.694226",
   "version": "2.3.4"
  }
 },
 "nbformat": 4,
 "nbformat_minor": 5
}
