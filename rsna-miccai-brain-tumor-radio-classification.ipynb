{
 "cells": [
  {
   "cell_type": "code",
   "execution_count": 1,
   "id": "44e91d6b",
   "metadata": {
    "execution": {
     "iopub.execute_input": "2022-09-03T04:29:13.055218Z",
     "iopub.status.busy": "2022-09-03T04:29:13.054528Z",
     "iopub.status.idle": "2022-09-03T04:29:19.280759Z",
     "shell.execute_reply": "2022-09-03T04:29:19.279467Z"
    },
    "papermill": {
     "duration": 6.236398,
     "end_time": "2022-09-03T04:29:19.283744",
     "exception": false,
     "start_time": "2022-09-03T04:29:13.047346",
     "status": "completed"
    },
    "tags": []
   },
   "outputs": [],
   "source": [
    "import pandas as pd\n",
    "import numpy as np\n",
    "import tensorflow as tf\n",
    "import matplotlib.pyplot as plt\n",
    "import pydicom\n",
    "from pydicom.data import get_testdata_files"
   ]
  },
  {
   "cell_type": "code",
   "execution_count": 2,
   "id": "01302ae7",
   "metadata": {
    "execution": {
     "iopub.execute_input": "2022-09-03T04:29:19.293508Z",
     "iopub.status.busy": "2022-09-03T04:29:19.292856Z",
     "iopub.status.idle": "2022-09-03T04:29:19.463019Z",
     "shell.execute_reply": "2022-09-03T04:29:19.461493Z"
    },
    "papermill": {
     "duration": 0.17854,
     "end_time": "2022-09-03T04:29:19.466479",
     "exception": false,
     "start_time": "2022-09-03T04:29:19.287939",
     "status": "completed"
    },
    "tags": []
   },
   "outputs": [
    {
     "name": "stderr",
     "output_type": "stream",
     "text": [
      "2022-09-03 04:29:19.309977: I tensorflow/core/common_runtime/process_util.cc:146] Creating new thread pool with default inter op setting: 2. Tune using inter_op_parallelism_threads for best performance.\n"
     ]
    }
   ],
   "source": [
    "train_ds_files=tf.data.Dataset.list_files('../input/rsna-miccai-brain-tumor-radiogenomic-classification/train/*')"
   ]
  },
  {
   "cell_type": "code",
   "execution_count": 3,
   "id": "998bb832",
   "metadata": {
    "execution": {
     "iopub.execute_input": "2022-09-03T04:29:19.476656Z",
     "iopub.status.busy": "2022-09-03T04:29:19.475560Z",
     "iopub.status.idle": "2022-09-03T04:29:19.488261Z",
     "shell.execute_reply": "2022-09-03T04:29:19.486874Z"
    },
    "papermill": {
     "duration": 0.020309,
     "end_time": "2022-09-03T04:29:19.490828",
     "exception": false,
     "start_time": "2022-09-03T04:29:19.470519",
     "status": "completed"
    },
    "tags": []
   },
   "outputs": [
    {
     "data": {
      "text/plain": [
       "585"
      ]
     },
     "execution_count": 3,
     "metadata": {},
     "output_type": "execute_result"
    }
   ],
   "source": [
    "len(train_ds_files)"
   ]
  },
  {
   "cell_type": "code",
   "execution_count": 4,
   "id": "c65adb1d",
   "metadata": {
    "execution": {
     "iopub.execute_input": "2022-09-03T04:29:19.501031Z",
     "iopub.status.busy": "2022-09-03T04:29:19.500621Z",
     "iopub.status.idle": "2022-09-03T04:29:19.519531Z",
     "shell.execute_reply": "2022-09-03T04:29:19.518011Z"
    },
    "papermill": {
     "duration": 0.026769,
     "end_time": "2022-09-03T04:29:19.521938",
     "exception": false,
     "start_time": "2022-09-03T04:29:19.495169",
     "status": "completed"
    },
    "tags": []
   },
   "outputs": [
    {
     "data": {
      "text/plain": [
       "(585, 2)"
      ]
     },
     "execution_count": 4,
     "metadata": {},
     "output_type": "execute_result"
    }
   ],
   "source": [
    "train_labels_ds=pd.read_csv('../input/rsna-miccai-brain-tumor-radiogenomic-classification/train_labels.csv')\n",
    "train_labels_ds.shape"
   ]
  },
  {
   "cell_type": "code",
   "execution_count": 5,
   "id": "a000b2b9",
   "metadata": {
    "execution": {
     "iopub.execute_input": "2022-09-03T04:29:19.531992Z",
     "iopub.status.busy": "2022-09-03T04:29:19.531589Z",
     "iopub.status.idle": "2022-09-03T04:29:19.548036Z",
     "shell.execute_reply": "2022-09-03T04:29:19.546782Z"
    },
    "papermill": {
     "duration": 0.024331,
     "end_time": "2022-09-03T04:29:19.550537",
     "exception": false,
     "start_time": "2022-09-03T04:29:19.526206",
     "status": "completed"
    },
    "tags": []
   },
   "outputs": [
    {
     "data": {
      "text/html": [
       "<div>\n",
       "<style scoped>\n",
       "    .dataframe tbody tr th:only-of-type {\n",
       "        vertical-align: middle;\n",
       "    }\n",
       "\n",
       "    .dataframe tbody tr th {\n",
       "        vertical-align: top;\n",
       "    }\n",
       "\n",
       "    .dataframe thead th {\n",
       "        text-align: right;\n",
       "    }\n",
       "</style>\n",
       "<table border=\"1\" class=\"dataframe\">\n",
       "  <thead>\n",
       "    <tr style=\"text-align: right;\">\n",
       "      <th></th>\n",
       "      <th>BraTS21ID</th>\n",
       "      <th>MGMT_value</th>\n",
       "    </tr>\n",
       "  </thead>\n",
       "  <tbody>\n",
       "    <tr>\n",
       "      <th>0</th>\n",
       "      <td>0</td>\n",
       "      <td>1</td>\n",
       "    </tr>\n",
       "    <tr>\n",
       "      <th>1</th>\n",
       "      <td>2</td>\n",
       "      <td>1</td>\n",
       "    </tr>\n",
       "    <tr>\n",
       "      <th>2</th>\n",
       "      <td>3</td>\n",
       "      <td>0</td>\n",
       "    </tr>\n",
       "    <tr>\n",
       "      <th>3</th>\n",
       "      <td>5</td>\n",
       "      <td>1</td>\n",
       "    </tr>\n",
       "    <tr>\n",
       "      <th>4</th>\n",
       "      <td>6</td>\n",
       "      <td>1</td>\n",
       "    </tr>\n",
       "  </tbody>\n",
       "</table>\n",
       "</div>"
      ],
      "text/plain": [
       "   BraTS21ID  MGMT_value\n",
       "0          0           1\n",
       "1          2           1\n",
       "2          3           0\n",
       "3          5           1\n",
       "4          6           1"
      ]
     },
     "execution_count": 5,
     "metadata": {},
     "output_type": "execute_result"
    }
   ],
   "source": [
    "train_labels_ds.head()"
   ]
  },
  {
   "cell_type": "code",
   "execution_count": 6,
   "id": "63e59c33",
   "metadata": {
    "execution": {
     "iopub.execute_input": "2022-09-03T04:29:19.561004Z",
     "iopub.status.busy": "2022-09-03T04:29:19.560613Z",
     "iopub.status.idle": "2022-09-03T04:29:19.571933Z",
     "shell.execute_reply": "2022-09-03T04:29:19.570936Z"
    },
    "papermill": {
     "duration": 0.019094,
     "end_time": "2022-09-03T04:29:19.574112",
     "exception": false,
     "start_time": "2022-09-03T04:29:19.555018",
     "status": "completed"
    },
    "tags": []
   },
   "outputs": [
    {
     "data": {
      "text/plain": [
       "<bound method Series.unique of 0         0\n",
       "1         2\n",
       "2         3\n",
       "3         5\n",
       "4         6\n",
       "       ... \n",
       "580    1005\n",
       "581    1007\n",
       "582    1008\n",
       "583    1009\n",
       "584    1010\n",
       "Name: BraTS21ID, Length: 585, dtype: int64>"
      ]
     },
     "execution_count": 6,
     "metadata": {},
     "output_type": "execute_result"
    }
   ],
   "source": [
    "train_labels_ds['BraTS21ID'].unique"
   ]
  },
  {
   "cell_type": "code",
   "execution_count": 7,
   "id": "e79323ed",
   "metadata": {
    "execution": {
     "iopub.execute_input": "2022-09-03T04:29:19.584818Z",
     "iopub.status.busy": "2022-09-03T04:29:19.584110Z",
     "iopub.status.idle": "2022-09-03T04:29:19.626483Z",
     "shell.execute_reply": "2022-09-03T04:29:19.625480Z"
    },
    "papermill": {
     "duration": 0.050549,
     "end_time": "2022-09-03T04:29:19.629132",
     "exception": false,
     "start_time": "2022-09-03T04:29:19.578583",
     "status": "completed"
    },
    "tags": []
   },
   "outputs": [],
   "source": [
    "train_ds_files_00000_FLAIR=tf.data.Dataset.list_files('../input/rsna-miccai-brain-tumor-radiogenomic-classification/train/00000/FLAIR')\n",
    "filename=train_ds_files_00000_FLAIR.as_numpy_iterator().next()"
   ]
  },
  {
   "cell_type": "code",
   "execution_count": null,
   "id": "8daebe55",
   "metadata": {
    "execution": {
     "iopub.execute_input": "2022-09-03T02:41:00.952053Z",
     "iopub.status.busy": "2022-09-03T02:41:00.951472Z",
     "iopub.status.idle": "2022-09-03T02:41:01.285188Z",
     "shell.execute_reply": "2022-09-03T02:41:01.284008Z",
     "shell.execute_reply.started": "2022-09-03T02:41:00.951983Z"
    },
    "papermill": {
     "duration": 0.004017,
     "end_time": "2022-09-03T04:29:19.637819",
     "exception": false,
     "start_time": "2022-09-03T04:29:19.633802",
     "status": "completed"
    },
    "tags": []
   },
   "outputs": [],
   "source": []
  },
  {
   "cell_type": "code",
   "execution_count": 8,
   "id": "ad799b2b",
   "metadata": {
    "execution": {
     "iopub.execute_input": "2022-09-03T04:29:19.648774Z",
     "iopub.status.busy": "2022-09-03T04:29:19.648220Z",
     "iopub.status.idle": "2022-09-03T04:29:20.090894Z",
     "shell.execute_reply": "2022-09-03T04:29:20.089662Z"
    },
    "papermill": {
     "duration": 0.451517,
     "end_time": "2022-09-03T04:29:20.093837",
     "exception": false,
     "start_time": "2022-09-03T04:29:19.642320",
     "status": "completed"
    },
    "tags": []
   },
   "outputs": [],
   "source": [
    "ds_flair_000=tf.data.Dataset.list_files('../input/rsna-miccai-brain-tumor-radiogenomic-classification/train/00000/FLAIR/*')\n",
    "def best_image(ds_paths):\n",
    "    \n",
    "    s=0\n",
    "    filep=''\n",
    "    for filename in ds_paths.as_numpy_iterator():\n",
    "        img=pydicom.dcmread(str(filename).split('\\'')[1])\n",
    "        sp=np.array(img.pixel_array).sum()\n",
    "        if(sp>s):\n",
    "            s=sp\n",
    "            filep=str(filename).split('\\'')[1]\n",
    "    #best_img=pydicom.dcmread(filep)\n",
    "    return filep\n",
    "    "
   ]
  },
  {
   "cell_type": "code",
   "execution_count": 9,
   "id": "0cb3e71c",
   "metadata": {
    "execution": {
     "iopub.execute_input": "2022-09-03T04:29:20.104732Z",
     "iopub.status.busy": "2022-09-03T04:29:20.104311Z",
     "iopub.status.idle": "2022-09-03T04:29:20.114264Z",
     "shell.execute_reply": "2022-09-03T04:29:20.113197Z"
    },
    "papermill": {
     "duration": 0.018236,
     "end_time": "2022-09-03T04:29:20.116737",
     "exception": false,
     "start_time": "2022-09-03T04:29:20.098501",
     "status": "completed"
    },
    "tags": []
   },
   "outputs": [],
   "source": [
    "def image_selection(train_ds_files):\n",
    "    files_num=[]\n",
    "    best_flair_images=[]\n",
    "    best_t1w_images=[]\n",
    "    best_t1wce_images=[]\n",
    "    best_t2w_images=[]\n",
    "    for filename in train_ds_files.as_numpy_iterator():\n",
    "        path=str(filename).split('\\'')[1]\n",
    "        FLAIR_PATH=path+'/FLAIR/*'\n",
    "        T1w_PATH=path+'/T1w/*'\n",
    "        T1wCE_PATH=path+'/T1wCE/*'\n",
    "        T2w_PATH=path+'/T2w/*'\n",
    "        ds_files_FLAIR=tf.data.Dataset.list_files(FLAIR_PATH)\n",
    "        ds_files_T1w=tf.data.Dataset.list_files(T1w_PATH)\n",
    "        ds_files_T1wCE=tf.data.Dataset.list_files(T1wCE_PATH)\n",
    "        ds_files_T2w=tf.data.Dataset.list_files(T2w_PATH)\n",
    "        file_num=path.split('/')[-1]\n",
    "        files_num.append(file_num)\n",
    "        best_flair_images.append(best_image(ds_files_FLAIR))\n",
    "        best_t1w_images.append(best_image(ds_files_T1w))\n",
    "        best_t1wce_images.append(best_image(ds_files_T1wCE))\n",
    "        best_t2w_images.append(best_image(ds_files_T2w))\n",
    "    return files_num,best_flair_images,best_t1w_images,best_t1wce_images,best_t2w_images"
   ]
  },
  {
   "cell_type": "code",
   "execution_count": 10,
   "id": "851c4046",
   "metadata": {
    "execution": {
     "iopub.execute_input": "2022-09-03T04:29:20.127562Z",
     "iopub.status.busy": "2022-09-03T04:29:20.127143Z",
     "iopub.status.idle": "2022-09-03T04:30:01.093620Z",
     "shell.execute_reply": "2022-09-03T04:30:01.092185Z"
    },
    "papermill": {
     "duration": 40.976285,
     "end_time": "2022-09-03T04:30:01.097472",
     "exception": false,
     "start_time": "2022-09-03T04:29:20.121187",
     "status": "completed"
    },
    "tags": []
   },
   "outputs": [
    {
     "data": {
      "text/plain": [
       "['../input/rsna-miccai-brain-tumor-radiogenomic-classification/train/00601/FLAIR/Image-74.dcm',\n",
       " '../input/rsna-miccai-brain-tumor-radiogenomic-classification/train/00494/FLAIR/Image-71.dcm']"
      ]
     },
     "execution_count": 10,
     "metadata": {},
     "output_type": "execute_result"
    }
   ],
   "source": [
    "ds_train_files=tf.data.Dataset.list_files('../input/rsna-miccai-brain-tumor-radiogenomic-classification/train/*')\n",
    "files_num,best_flair_images,best_t1w_images,best_t1wce_images,best_t2w_images=image_selection(ds_train_files.take(2))\n",
    "best_flair_images"
   ]
  },
  {
   "cell_type": "code",
   "execution_count": 11,
   "id": "107a47c7",
   "metadata": {
    "execution": {
     "iopub.execute_input": "2022-09-03T04:30:01.108333Z",
     "iopub.status.busy": "2022-09-03T04:30:01.107924Z",
     "iopub.status.idle": "2022-09-03T04:30:01.491172Z",
     "shell.execute_reply": "2022-09-03T04:30:01.489685Z"
    },
    "papermill": {
     "duration": 0.391887,
     "end_time": "2022-09-03T04:30:01.493825",
     "exception": false,
     "start_time": "2022-09-03T04:30:01.101938",
     "status": "completed"
    },
    "tags": []
   },
   "outputs": [
    {
     "name": "stdout",
     "output_type": "stream",
     "text": [
      "46026545\n"
     ]
    },
    {
     "data": {
      "text/plain": [
       "<matplotlib.image.AxesImage at 0x7f0d285bb9d0>"
      ]
     },
     "execution_count": 11,
     "metadata": {},
     "output_type": "execute_result"
    },
    {
     "data": {
      "image/png": "[encoded data removed]",
      "text/plain": [
       "<Figure size 432x288 with 1 Axes>"
      ]
     },
     "metadata": {
      "needs_background": "light"
     },
     "output_type": "display_data"
    }
   ],
   "source": [
    "\n",
    "ds = pydicom.dcmread('../input/rsna-miccai-brain-tumor-radiogenomic-classification/train/00000/FLAIR/Image-108.dcm')\n",
    "print(np.array(ds.pixel_array).sum())\n",
    "plt.imshow(ds.pixel_array, cmap=plt.cm.bone) "
   ]
  },
  {
   "cell_type": "code",
   "execution_count": null,
   "id": "ef104aad",
   "metadata": {
    "papermill": {
     "duration": 0.005274,
     "end_time": "2022-09-03T04:30:01.504612",
     "exception": false,
     "start_time": "2022-09-03T04:30:01.499338",
     "status": "completed"
    },
    "tags": []
   },
   "outputs": [],
   "source": []
  }
 ],
 "metadata": {
  "kernelspec": {
   "display_name": "Python 3",
   "language": "python",
   "name": "python3"
  },
  "language_info": {
   "codemirror_mode": {
    "name": "ipython",
    "version": 3
   },
   "file_extension": ".py",
   "mimetype": "text/x-python",
   "name": "python",
   "nbconvert_exporter": "python",
   "pygments_lexer": "ipython3",
   "version": "3.7.12"
  },
  "papermill": {
   "default_parameters": {},
   "duration": 61.463932,
   "end_time": "2022-09-03T04:30:04.692978",
   "environment_variables": {},
   "exception": null,
   "input_path": "__notebook__.ipynb",
   "output_path": "__notebook__.ipynb",
   "parameters": {},
   "start_time": "2022-09-03T04:29:03.229046",
   "version": "2.3.4"
  }
 },
 "nbformat": 4,
 "nbformat_minor": 5
}
