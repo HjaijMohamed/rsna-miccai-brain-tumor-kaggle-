{
 "cells": [
  {
   "cell_type": "code",
   "execution_count": 1,
   "id": "fb39120d",
   "metadata": {
    "execution": {
     "iopub.execute_input": "2022-09-07T01:54:23.816013Z",
     "iopub.status.busy": "2022-09-07T01:54:23.815203Z",
     "iopub.status.idle": "2022-09-07T01:54:30.662730Z",
     "shell.execute_reply": "2022-09-07T01:54:30.661753Z"
    },
    "papermill": {
     "duration": 6.86143,
     "end_time": "2022-09-07T01:54:30.665406",
     "exception": false,
     "start_time": "2022-09-07T01:54:23.803976",
     "status": "completed"
    },
    "tags": []
   },
   "outputs": [],
   "source": [
    "import tensorflow as tf\n",
    "import numpy as np\n",
    "import matplotlib.pyplot as plt\n",
    "import pandas as pd\n",
    "import pydicom\n",
    "from tensorflow.keras.preprocessing.image import load_img,img_to_array\n",
    "from sklearn.metrics import f1_score\n",
    "from tensorflow.keras.layers import Conv2D,MaxPooling2D,Dense,Flatten\n",
    "from tensorflow.keras.models import Sequential,save_model"
   ]
  },
  {
   "cell_type": "code",
   "execution_count": 2,
   "id": "35da81a5",
   "metadata": {
    "execution": {
     "iopub.execute_input": "2022-09-07T01:54:30.684192Z",
     "iopub.status.busy": "2022-09-07T01:54:30.682912Z",
     "iopub.status.idle": "2022-09-07T01:54:30.688037Z",
     "shell.execute_reply": "2022-09-07T01:54:30.687206Z"
    },
    "papermill": {
     "duration": 0.016236,
     "end_time": "2022-09-07T01:54:30.689991",
     "exception": false,
     "start_time": "2022-09-07T01:54:30.673755",
     "status": "completed"
    },
    "tags": []
   },
   "outputs": [],
   "source": [
    "import warnings\n",
    "warnings.filterwarnings('ignore')"
   ]
  },
  {
   "cell_type": "code",
   "execution_count": 3,
   "id": "6256ba4b",
   "metadata": {
    "execution": {
     "iopub.execute_input": "2022-09-07T01:54:30.707736Z",
     "iopub.status.busy": "2022-09-07T01:54:30.706880Z",
     "iopub.status.idle": "2022-09-07T01:54:30.751127Z",
     "shell.execute_reply": "2022-09-07T01:54:30.750161Z"
    },
    "papermill": {
     "duration": 0.055565,
     "end_time": "2022-09-07T01:54:30.753535",
     "exception": false,
     "start_time": "2022-09-07T01:54:30.697970",
     "status": "completed"
    },
    "tags": []
   },
   "outputs": [
    {
     "data": {
      "text/html": [
       "<div>\n",
       "<style scoped>\n",
       "    .dataframe tbody tr th:only-of-type {\n",
       "        vertical-align: middle;\n",
       "    }\n",
       "\n",
       "    .dataframe tbody tr th {\n",
       "        vertical-align: top;\n",
       "    }\n",
       "\n",
       "    .dataframe thead th {\n",
       "        text-align: right;\n",
       "    }\n",
       "</style>\n",
       "<table border=\"1\" class=\"dataframe\">\n",
       "  <thead>\n",
       "    <tr style=\"text-align: right;\">\n",
       "      <th></th>\n",
       "      <th>BraTS21ID</th>\n",
       "      <th>MGMT_value</th>\n",
       "      <th>best_flair_images</th>\n",
       "      <th>best_t1w_images</th>\n",
       "      <th>best_t1wce_images</th>\n",
       "      <th>best_t2w_images</th>\n",
       "    </tr>\n",
       "  </thead>\n",
       "  <tbody>\n",
       "    <tr>\n",
       "      <th>0</th>\n",
       "      <td>0</td>\n",
       "      <td>1</td>\n",
       "      <td>../input/rsna-miccai-brain-tumor-radiogenomic-...</td>\n",
       "      <td>../input/rsna-miccai-brain-tumor-radiogenomic-...</td>\n",
       "      <td>../input/rsna-miccai-brain-tumor-radiogenomic-...</td>\n",
       "      <td>../input/rsna-miccai-brain-tumor-radiogenomic-...</td>\n",
       "    </tr>\n",
       "    <tr>\n",
       "      <th>1</th>\n",
       "      <td>2</td>\n",
       "      <td>1</td>\n",
       "      <td>../input/rsna-miccai-brain-tumor-radiogenomic-...</td>\n",
       "      <td>../input/rsna-miccai-brain-tumor-radiogenomic-...</td>\n",
       "      <td>../input/rsna-miccai-brain-tumor-radiogenomic-...</td>\n",
       "      <td>../input/rsna-miccai-brain-tumor-radiogenomic-...</td>\n",
       "    </tr>\n",
       "    <tr>\n",
       "      <th>2</th>\n",
       "      <td>3</td>\n",
       "      <td>0</td>\n",
       "      <td>../input/rsna-miccai-brain-tumor-radiogenomic-...</td>\n",
       "      <td>../input/rsna-miccai-brain-tumor-radiogenomic-...</td>\n",
       "      <td>../input/rsna-miccai-brain-tumor-radiogenomic-...</td>\n",
       "      <td>../input/rsna-miccai-brain-tumor-radiogenomic-...</td>\n",
       "    </tr>\n",
       "    <tr>\n",
       "      <th>3</th>\n",
       "      <td>5</td>\n",
       "      <td>1</td>\n",
       "      <td>../input/rsna-miccai-brain-tumor-radiogenomic-...</td>\n",
       "      <td>../input/rsna-miccai-brain-tumor-radiogenomic-...</td>\n",
       "      <td>../input/rsna-miccai-brain-tumor-radiogenomic-...</td>\n",
       "      <td>../input/rsna-miccai-brain-tumor-radiogenomic-...</td>\n",
       "    </tr>\n",
       "    <tr>\n",
       "      <th>4</th>\n",
       "      <td>6</td>\n",
       "      <td>1</td>\n",
       "      <td>../input/rsna-miccai-brain-tumor-radiogenomic-...</td>\n",
       "      <td>../input/rsna-miccai-brain-tumor-radiogenomic-...</td>\n",
       "      <td>../input/rsna-miccai-brain-tumor-radiogenomic-...</td>\n",
       "      <td>../input/rsna-miccai-brain-tumor-radiogenomic-...</td>\n",
       "    </tr>\n",
       "  </tbody>\n",
       "</table>\n",
       "</div>"
      ],
      "text/plain": [
       "   BraTS21ID  MGMT_value                                  best_flair_images  \\\n",
       "0          0           1  ../input/rsna-miccai-brain-tumor-radiogenomic-...   \n",
       "1          2           1  ../input/rsna-miccai-brain-tumor-radiogenomic-...   \n",
       "2          3           0  ../input/rsna-miccai-brain-tumor-radiogenomic-...   \n",
       "3          5           1  ../input/rsna-miccai-brain-tumor-radiogenomic-...   \n",
       "4          6           1  ../input/rsna-miccai-brain-tumor-radiogenomic-...   \n",
       "\n",
       "                                     best_t1w_images  \\\n",
       "0  ../input/rsna-miccai-brain-tumor-radiogenomic-...   \n",
       "1  ../input/rsna-miccai-brain-tumor-radiogenomic-...   \n",
       "2  ../input/rsna-miccai-brain-tumor-radiogenomic-...   \n",
       "3  ../input/rsna-miccai-brain-tumor-radiogenomic-...   \n",
       "4  ../input/rsna-miccai-brain-tumor-radiogenomic-...   \n",
       "\n",
       "                                   best_t1wce_images  \\\n",
       "0  ../input/rsna-miccai-brain-tumor-radiogenomic-...   \n",
       "1  ../input/rsna-miccai-brain-tumor-radiogenomic-...   \n",
       "2  ../input/rsna-miccai-brain-tumor-radiogenomic-...   \n",
       "3  ../input/rsna-miccai-brain-tumor-radiogenomic-...   \n",
       "4  ../input/rsna-miccai-brain-tumor-radiogenomic-...   \n",
       "\n",
       "                                     best_t2w_images  \n",
       "0  ../input/rsna-miccai-brain-tumor-radiogenomic-...  \n",
       "1  ../input/rsna-miccai-brain-tumor-radiogenomic-...  \n",
       "2  ../input/rsna-miccai-brain-tumor-radiogenomic-...  \n",
       "3  ../input/rsna-miccai-brain-tumor-radiogenomic-...  \n",
       "4  ../input/rsna-miccai-brain-tumor-radiogenomic-...  "
      ]
     },
     "execution_count": 3,
     "metadata": {},
     "output_type": "execute_result"
    }
   ],
   "source": [
    "df=pd.read_csv('../input/merge-labels-and-paths/merge_labels_and_paths.csv')\n",
    "df.drop(['files_num'],axis=1,inplace=True)\n",
    "df.head()"
   ]
  },
  {
   "cell_type": "code",
   "execution_count": 4,
   "id": "e33a7737",
   "metadata": {
    "execution": {
     "iopub.execute_input": "2022-09-07T01:54:30.773057Z",
     "iopub.status.busy": "2022-09-07T01:54:30.772202Z",
     "iopub.status.idle": "2022-09-07T01:54:30.778955Z",
     "shell.execute_reply": "2022-09-07T01:54:30.777952Z"
    },
    "papermill": {
     "duration": 0.017789,
     "end_time": "2022-09-07T01:54:30.780945",
     "exception": false,
     "start_time": "2022-09-07T01:54:30.763156",
     "status": "completed"
    },
    "tags": []
   },
   "outputs": [
    {
     "data": {
      "text/plain": [
       "(582, 6)"
      ]
     },
     "execution_count": 4,
     "metadata": {},
     "output_type": "execute_result"
    }
   ],
   "source": [
    "df.shape"
   ]
  },
  {
   "cell_type": "code",
   "execution_count": 5,
   "id": "b83c9958",
   "metadata": {
    "execution": {
     "iopub.execute_input": "2022-09-07T01:54:30.798803Z",
     "iopub.status.busy": "2022-09-07T01:54:30.798240Z",
     "iopub.status.idle": "2022-09-07T01:54:30.806359Z",
     "shell.execute_reply": "2022-09-07T01:54:30.805391Z"
    },
    "papermill": {
     "duration": 0.019256,
     "end_time": "2022-09-07T01:54:30.808398",
     "exception": false,
     "start_time": "2022-09-07T01:54:30.789142",
     "status": "completed"
    },
    "tags": []
   },
   "outputs": [
    {
     "data": {
      "text/plain": [
       "'../input/rsna-miccai-brain-tumor-radiogenomic-classification/train/00000/FLAIR/Image-140.dcm'"
      ]
     },
     "execution_count": 5,
     "metadata": {},
     "output_type": "execute_result"
    }
   ],
   "source": [
    "df['best_flair_images'][0]"
   ]
  },
  {
   "cell_type": "code",
   "execution_count": 6,
   "id": "92022aee",
   "metadata": {
    "execution": {
     "iopub.execute_input": "2022-09-07T01:54:30.827080Z",
     "iopub.status.busy": "2022-09-07T01:54:30.826387Z",
     "iopub.status.idle": "2022-09-07T01:54:30.831588Z",
     "shell.execute_reply": "2022-09-07T01:54:30.830681Z"
    },
    "papermill": {
     "duration": 0.016434,
     "end_time": "2022-09-07T01:54:30.833581",
     "exception": false,
     "start_time": "2022-09-07T01:54:30.817147",
     "status": "completed"
    },
    "tags": []
   },
   "outputs": [],
   "source": [
    "def load_images(list_paths):\n",
    "    images=[]\n",
    "    for path in list_paths:\n",
    "        img=pydicom.dcmread(path)\n",
    "        img=img_to_array(img.pixel_array)\n",
    "        img=tf.image.resize(img,(256,256))\n",
    "        images.append(img)\n",
    "    return np.array(images)"
   ]
  },
  {
   "cell_type": "code",
   "execution_count": 7,
   "id": "4ec2323a",
   "metadata": {
    "execution": {
     "iopub.execute_input": "2022-09-07T01:54:30.852205Z",
     "iopub.status.busy": "2022-09-07T01:54:30.851312Z",
     "iopub.status.idle": "2022-09-07T01:54:57.716901Z",
     "shell.execute_reply": "2022-09-07T01:54:57.715750Z"
    },
    "papermill": {
     "duration": 26.877931,
     "end_time": "2022-09-07T01:54:57.719799",
     "exception": false,
     "start_time": "2022-09-07T01:54:30.841868",
     "status": "completed"
    },
    "tags": []
   },
   "outputs": [
    {
     "name": "stderr",
     "output_type": "stream",
     "text": [
      "2022-09-07 01:54:30.935011: I tensorflow/stream_executor/cuda/cuda_gpu_executor.cc:937] successful NUMA node read from SysFS had negative value (-1), but there must be at least one NUMA node, so returning NUMA node zero\n",
      "2022-09-07 01:54:31.075286: I tensorflow/stream_executor/cuda/cuda_gpu_executor.cc:937] successful NUMA node read from SysFS had negative value (-1), but there must be at least one NUMA node, so returning NUMA node zero\n",
      "2022-09-07 01:54:31.076252: I tensorflow/stream_executor/cuda/cuda_gpu_executor.cc:937] successful NUMA node read from SysFS had negative value (-1), but there must be at least one NUMA node, so returning NUMA node zero\n",
      "2022-09-07 01:54:31.085680: I tensorflow/core/platform/cpu_feature_guard.cc:142] This TensorFlow binary is optimized with oneAPI Deep Neural Network Library (oneDNN) to use the following CPU instructions in performance-critical operations:  AVX2 AVX512F FMA\n",
      "To enable them in other operations, rebuild TensorFlow with the appropriate compiler flags.\n",
      "2022-09-07 01:54:31.086088: I tensorflow/stream_executor/cuda/cuda_gpu_executor.cc:937] successful NUMA node read from SysFS had negative value (-1), but there must be at least one NUMA node, so returning NUMA node zero\n",
      "2022-09-07 01:54:31.086906: I tensorflow/stream_executor/cuda/cuda_gpu_executor.cc:937] successful NUMA node read from SysFS had negative value (-1), but there must be at least one NUMA node, so returning NUMA node zero\n",
      "2022-09-07 01:54:31.087584: I tensorflow/stream_executor/cuda/cuda_gpu_executor.cc:937] successful NUMA node read from SysFS had negative value (-1), but there must be at least one NUMA node, so returning NUMA node zero\n",
      "2022-09-07 01:54:33.460423: I tensorflow/stream_executor/cuda/cuda_gpu_executor.cc:937] successful NUMA node read from SysFS had negative value (-1), but there must be at least one NUMA node, so returning NUMA node zero\n",
      "2022-09-07 01:54:33.461313: I tensorflow/stream_executor/cuda/cuda_gpu_executor.cc:937] successful NUMA node read from SysFS had negative value (-1), but there must be at least one NUMA node, so returning NUMA node zero\n",
      "2022-09-07 01:54:33.462016: I tensorflow/stream_executor/cuda/cuda_gpu_executor.cc:937] successful NUMA node read from SysFS had negative value (-1), but there must be at least one NUMA node, so returning NUMA node zero\n",
      "2022-09-07 01:54:33.462668: I tensorflow/core/common_runtime/gpu/gpu_device.cc:1510] Created device /job:localhost/replica:0/task:0/device:GPU:0 with 15401 MB memory:  -> device: 0, name: Tesla P100-PCIE-16GB, pci bus id: 0000:00:04.0, compute capability: 6.0\n"
     ]
    }
   ],
   "source": [
    "flair_images=load_images(df['best_flair_images'])\n",
    "t1w_images=load_images(df['best_t1w_images'])\n",
    "t1wce_images=load_images(df['best_t1wce_images'])\n",
    "t2w_images=load_images(df['best_t2w_images'])"
   ]
  },
  {
   "cell_type": "code",
   "execution_count": 8,
   "id": "7e980054",
   "metadata": {
    "execution": {
     "iopub.execute_input": "2022-09-07T01:54:57.739062Z",
     "iopub.status.busy": "2022-09-07T01:54:57.738738Z",
     "iopub.status.idle": "2022-09-07T01:54:57.744555Z",
     "shell.execute_reply": "2022-09-07T01:54:57.743421Z"
    },
    "papermill": {
     "duration": 0.017917,
     "end_time": "2022-09-07T01:54:57.746758",
     "exception": false,
     "start_time": "2022-09-07T01:54:57.728841",
     "status": "completed"
    },
    "tags": []
   },
   "outputs": [
    {
     "name": "stdout",
     "output_type": "stream",
     "text": [
      "(582, 256, 256, 1) <class 'numpy.ndarray'>\n"
     ]
    }
   ],
   "source": [
    "print(flair_images.shape,type(flair_images))"
   ]
  },
  {
   "cell_type": "code",
   "execution_count": 9,
   "id": "0f02cced",
   "metadata": {
    "execution": {
     "iopub.execute_input": "2022-09-07T01:54:57.765099Z",
     "iopub.status.busy": "2022-09-07T01:54:57.764818Z",
     "iopub.status.idle": "2022-09-07T01:54:57.773537Z",
     "shell.execute_reply": "2022-09-07T01:54:57.772293Z"
    },
    "papermill": {
     "duration": 0.021456,
     "end_time": "2022-09-07T01:54:57.776687",
     "exception": false,
     "start_time": "2022-09-07T01:54:57.755231",
     "status": "completed"
    },
    "tags": []
   },
   "outputs": [
    {
     "name": "stdout",
     "output_type": "stream",
     "text": [
      "(582,)\n"
     ]
    },
    {
     "data": {
      "text/plain": [
       "0    1\n",
       "1    1\n",
       "2    0\n",
       "3    1\n",
       "4    1\n",
       "Name: MGMT_value, dtype: int32"
      ]
     },
     "execution_count": 9,
     "metadata": {},
     "output_type": "execute_result"
    }
   ],
   "source": [
    "labels=df['MGMT_value']\n",
    "labels = labels.astype(np.int32)\n",
    "print(labels.shape)\n",
    "labels.head()"
   ]
  },
  {
   "cell_type": "code",
   "execution_count": 10,
   "id": "832609b8",
   "metadata": {
    "execution": {
     "iopub.execute_input": "2022-09-07T01:54:57.797644Z",
     "iopub.status.busy": "2022-09-07T01:54:57.796012Z",
     "iopub.status.idle": "2022-09-07T01:54:58.039394Z",
     "shell.execute_reply": "2022-09-07T01:54:58.038475Z"
    },
    "papermill": {
     "duration": 0.255839,
     "end_time": "2022-09-07T01:54:58.041806",
     "exception": false,
     "start_time": "2022-09-07T01:54:57.785967",
     "status": "completed"
    },
    "tags": []
   },
   "outputs": [
    {
     "data": {
      "text/plain": [
       "<matplotlib.image.AxesImage at 0x7f68bcbeb4d0>"
      ]
     },
     "execution_count": 10,
     "metadata": {},
     "output_type": "execute_result"
    },
    {
     "data": {
      "image/png": "[encoded data removed]",
      "text/plain": [
       "<Figure size 432x288 with 1 Axes>"
      ]
     },
     "metadata": {
      "needs_background": "light"
     },
     "output_type": "display_data"
    }
   ],
   "source": [
    "plt.imshow(flair_images[200])"
   ]
  },
  {
   "cell_type": "code",
   "execution_count": 11,
   "id": "8116bb5a",
   "metadata": {
    "execution": {
     "iopub.execute_input": "2022-09-07T01:54:58.062533Z",
     "iopub.status.busy": "2022-09-07T01:54:58.062220Z",
     "iopub.status.idle": "2022-09-07T01:54:58.367106Z",
     "shell.execute_reply": "2022-09-07T01:54:58.366059Z"
    },
    "papermill": {
     "duration": 0.317938,
     "end_time": "2022-09-07T01:54:58.369736",
     "exception": false,
     "start_time": "2022-09-07T01:54:58.051798",
     "status": "completed"
    },
    "tags": []
   },
   "outputs": [],
   "source": [
    "flairs_ds=tf.data.Dataset.from_tensor_slices((flair_images,labels))"
   ]
  },
  {
   "cell_type": "code",
   "execution_count": 12,
   "id": "20cfa44e",
   "metadata": {
    "execution": {
     "iopub.execute_input": "2022-09-07T01:54:58.391613Z",
     "iopub.status.busy": "2022-09-07T01:54:58.390118Z",
     "iopub.status.idle": "2022-09-07T01:54:59.076214Z",
     "shell.execute_reply": "2022-09-07T01:54:59.075350Z"
    },
    "papermill": {
     "duration": 0.699389,
     "end_time": "2022-09-07T01:54:59.079073",
     "exception": false,
     "start_time": "2022-09-07T01:54:58.379684",
     "status": "completed"
    },
    "tags": []
   },
   "outputs": [
    {
     "data": {
      "image/png": "[encoded data removed]",
      "text/plain": [
       "<Figure size 432x288 with 1 Axes>"
      ]
     },
     "metadata": {
      "needs_background": "light"
     },
     "output_type": "display_data"
    },
    {
     "data": {
      "image/png": "[encoded data removed]",
      "text/plain": [
       "<Figure size 432x288 with 1 Axes>"
      ]
     },
     "metadata": {
      "needs_background": "light"
     },
     "output_type": "display_data"
    }
   ],
   "source": [
    "for im,label in flairs_ds.take(2):\n",
    "    plt.figure()\n",
    "    plt.imshow(im)"
   ]
  },
  {
   "cell_type": "code",
   "execution_count": 13,
   "id": "5a45eb87",
   "metadata": {
    "execution": {
     "iopub.execute_input": "2022-09-07T01:54:59.113146Z",
     "iopub.status.busy": "2022-09-07T01:54:59.112231Z",
     "iopub.status.idle": "2022-09-07T01:54:59.128290Z",
     "shell.execute_reply": "2022-09-07T01:54:59.127473Z"
    },
    "papermill": {
     "duration": 0.035217,
     "end_time": "2022-09-07T01:54:59.130729",
     "exception": false,
     "start_time": "2022-09-07T01:54:59.095512",
     "status": "completed"
    },
    "tags": []
   },
   "outputs": [],
   "source": [
    "def prepare_train_val_test_input_pipelines(images,labels):\n",
    "    AUTOTUNE=tf.data.AUTOTUNE\n",
    "    ds=tf.data.Dataset.from_tensor_slices((images,labels)).shuffle(580)\n",
    "    size=len(ds)\n",
    "    #train_set\n",
    "    train_ds=ds.take(int(size*0.7))\n",
    "    test_val_ds=ds.skip(int(size*0.7))\n",
    "    #validation_set\n",
    "    val_ds=test_val_ds.take(int(0.5*len(test_val_ds)))\n",
    "    #test_set\n",
    "    test_ds=test_val_ds.skip(int(0.5*len(test_val_ds)))\n",
    "    #input_pipelines\n",
    "    train_ds=train_ds.map(lambda x,y:(x/256,y)).shuffle(200).batch(1).cache().prefetch(AUTOTUNE)\n",
    "    val_ds=val_ds.map(lambda x,y:(x/256,y)).batch(1).cache().prefetch(AUTOTUNE)\n",
    "    test_ds=test_ds.map(lambda x,y:(x/256,y)).batch(1).cache().prefetch(AUTOTUNE)\n",
    "    \n",
    "    return train_ds,val_ds,test_ds"
   ]
  },
  {
   "cell_type": "code",
   "execution_count": 14,
   "id": "f39c4678",
   "metadata": {
    "execution": {
     "iopub.execute_input": "2022-09-07T01:54:59.172005Z",
     "iopub.status.busy": "2022-09-07T01:54:59.171642Z",
     "iopub.status.idle": "2022-09-07T01:54:59.185746Z",
     "shell.execute_reply": "2022-09-07T01:54:59.184841Z"
    },
    "papermill": {
     "duration": 0.036527,
     "end_time": "2022-09-07T01:54:59.188598",
     "exception": false,
     "start_time": "2022-09-07T01:54:59.152071",
     "status": "completed"
    },
    "tags": []
   },
   "outputs": [],
   "source": [
    "def train(train_ds,val_ds,epochs=20):\n",
    "    print('preparing...')\n",
    "    cnn=Sequential([\n",
    "        Conv2D(64,kernel_size=(3,3),activation='relu',padding='same',input_shape=(256,256,1)),\n",
    "        MaxPooling2D(pool_size=(2,2),strides=(1,1),padding='valid'),\n",
    "        Conv2D(64,kernel_size=(3,3),activation='relu',padding='same'),\n",
    "        MaxPooling2D(pool_size=(2,2),strides=(1,1),padding='valid'),\n",
    "        Conv2D(64,kernel_size=(3,3),activation='relu',padding='same'),\n",
    "        MaxPooling2D(pool_size=(2,2),strides=(1,1),padding='valid'),\n",
    "        Conv2D(64,kernel_size=(3,3),activation='relu',padding='same'),\n",
    "        MaxPooling2D(pool_size=(2,2),strides=(1,1),padding='valid'),\n",
    "        Flatten(),\n",
    "        Dense(1,activation='sigmoid')\n",
    "    ])\n",
    "    print('compiling...')\n",
    "    cnn.compile(optimizer='adam',loss='binary_crossentropy',metrics=['accuracy'])\n",
    "    print('training...')\n",
    "    cnn.fit(train_ds,validation_data=val_ds,epochs=epochs,verbose=2)\n",
    "    print('end training...')\n",
    "    return cnn"
   ]
  },
  {
   "cell_type": "code",
   "execution_count": 15,
   "id": "97f16c16",
   "metadata": {
    "execution": {
     "iopub.execute_input": "2022-09-07T01:54:59.223638Z",
     "iopub.status.busy": "2022-09-07T01:54:59.223259Z",
     "iopub.status.idle": "2022-09-07T01:54:59.230333Z",
     "shell.execute_reply": "2022-09-07T01:54:59.229493Z"
    },
    "papermill": {
     "duration": 0.028643,
     "end_time": "2022-09-07T01:54:59.234224",
     "exception": false,
     "start_time": "2022-09-07T01:54:59.205581",
     "status": "completed"
    },
    "tags": []
   },
   "outputs": [],
   "source": [
    "def score(model,test_ds):\n",
    "    y_pred=[np.int(np.round(i)) for i in model.predict(test_ds)]\n",
    "    y_true=[]\n",
    "    for im,y in test_ds:\n",
    "        y_true.append(y)\n",
    "    y_true=np.array(y_true)\n",
    "    score=f1_score(y_true,y_pred)\n",
    "    return score"
   ]
  },
  {
   "cell_type": "code",
   "execution_count": 16,
   "id": "5bca5fbe",
   "metadata": {
    "execution": {
     "iopub.execute_input": "2022-09-07T01:54:59.268507Z",
     "iopub.status.busy": "2022-09-07T01:54:59.268110Z",
     "iopub.status.idle": "2022-09-07T01:55:00.016744Z",
     "shell.execute_reply": "2022-09-07T01:55:00.015527Z"
    },
    "papermill": {
     "duration": 0.770154,
     "end_time": "2022-09-07T01:55:00.021080",
     "exception": false,
     "start_time": "2022-09-07T01:54:59.250926",
     "status": "completed"
    },
    "tags": []
   },
   "outputs": [],
   "source": [
    "train_flair_ds,val_flair_ds,test_flair_ds=prepare_train_val_test_input_pipelines(flair_images,labels)"
   ]
  },
  {
   "cell_type": "code",
   "execution_count": 17,
   "id": "f8c317af",
   "metadata": {
    "execution": {
     "iopub.execute_input": "2022-09-07T01:55:00.129097Z",
     "iopub.status.busy": "2022-09-07T01:55:00.128649Z",
     "iopub.status.idle": "2022-09-07T01:57:48.561329Z",
     "shell.execute_reply": "2022-09-07T01:57:48.559959Z"
    },
    "papermill": {
     "duration": 168.479713,
     "end_time": "2022-09-07T01:57:48.564694",
     "exception": false,
     "start_time": "2022-09-07T01:55:00.084981",
     "status": "completed"
    },
    "tags": []
   },
   "outputs": [
    {
     "name": "stdout",
     "output_type": "stream",
     "text": [
      "preparing...\n",
      "compiling...\n",
      "training...\n",
      "Epoch 1/30\n"
     ]
    },
    {
     "name": "stderr",
     "output_type": "stream",
     "text": [
      "2022-09-07 01:55:01.158989: I tensorflow/compiler/mlir/mlir_graph_optimization_pass.cc:185] None of the MLIR Optimization Passes are enabled (registered 2)\n",
      "2022-09-07 01:55:02.208979: I tensorflow/stream_executor/cuda/cuda_dnn.cc:369] Loaded cuDNN version 8005\n"
     ]
    },
    {
     "name": "stdout",
     "output_type": "stream",
     "text": [
      "407/407 - 13s - loss: 1.8265 - accuracy: 0.5332 - val_loss: 0.6839 - val_accuracy: 0.5747\n",
      "Epoch 2/30\n",
      "407/407 - 5s - loss: 0.7145 - accuracy: 0.5135 - val_loss: 0.6928 - val_accuracy: 0.4483\n",
      "Epoch 3/30\n",
      "407/407 - 5s - loss: 0.7066 - accuracy: 0.4939 - val_loss: 0.6932 - val_accuracy: 0.4713\n",
      "Epoch 4/30\n",
      "407/407 - 5s - loss: 0.9832 - accuracy: 0.5430 - val_loss: 0.6933 - val_accuracy: 0.4598\n",
      "Epoch 5/30\n",
      "407/407 - 5s - loss: 0.8443 - accuracy: 0.5037 - val_loss: 0.6932 - val_accuracy: 0.4713\n",
      "Epoch 6/30\n",
      "407/407 - 5s - loss: 0.6999 - accuracy: 0.5037 - val_loss: 0.6934 - val_accuracy: 0.4713\n",
      "Epoch 7/30\n",
      "407/407 - 5s - loss: 0.6934 - accuracy: 0.5135 - val_loss: 0.6937 - val_accuracy: 0.4713\n",
      "Epoch 8/30\n",
      "407/407 - 5s - loss: 0.6931 - accuracy: 0.5135 - val_loss: 0.6939 - val_accuracy: 0.4713\n",
      "Epoch 9/30\n",
      "407/407 - 5s - loss: 0.6931 - accuracy: 0.5135 - val_loss: 0.6942 - val_accuracy: 0.4713\n",
      "Epoch 10/30\n",
      "407/407 - 5s - loss: 0.6930 - accuracy: 0.5135 - val_loss: 0.6943 - val_accuracy: 0.4713\n",
      "Epoch 11/30\n",
      "407/407 - 5s - loss: 0.6930 - accuracy: 0.5135 - val_loss: 0.6945 - val_accuracy: 0.4713\n",
      "Epoch 12/30\n",
      "407/407 - 5s - loss: 0.6930 - accuracy: 0.5135 - val_loss: 0.6946 - val_accuracy: 0.4713\n",
      "Epoch 13/30\n",
      "407/407 - 5s - loss: 0.6930 - accuracy: 0.5135 - val_loss: 0.6947 - val_accuracy: 0.4713\n",
      "Epoch 14/30\n",
      "407/407 - 5s - loss: 0.6930 - accuracy: 0.5135 - val_loss: 0.6948 - val_accuracy: 0.4713\n",
      "Epoch 15/30\n",
      "407/407 - 5s - loss: 0.6930 - accuracy: 0.5135 - val_loss: 0.6948 - val_accuracy: 0.4713\n",
      "Epoch 16/30\n",
      "407/407 - 5s - loss: 0.6930 - accuracy: 0.5135 - val_loss: 0.6949 - val_accuracy: 0.4713\n",
      "Epoch 17/30\n",
      "407/407 - 5s - loss: 0.6930 - accuracy: 0.5135 - val_loss: 0.6949 - val_accuracy: 0.4713\n",
      "Epoch 18/30\n",
      "407/407 - 5s - loss: 0.6930 - accuracy: 0.5135 - val_loss: 0.6950 - val_accuracy: 0.4713\n",
      "Epoch 19/30\n",
      "407/407 - 5s - loss: 0.6930 - accuracy: 0.5135 - val_loss: 0.6950 - val_accuracy: 0.4713\n",
      "Epoch 20/30\n",
      "407/407 - 5s - loss: 0.6930 - accuracy: 0.5135 - val_loss: 0.6950 - val_accuracy: 0.4713\n",
      "Epoch 21/30\n",
      "407/407 - 5s - loss: 0.6930 - accuracy: 0.5135 - val_loss: 0.6950 - val_accuracy: 0.4713\n",
      "Epoch 22/30\n",
      "407/407 - 5s - loss: 0.6930 - accuracy: 0.5135 - val_loss: 0.6951 - val_accuracy: 0.4713\n",
      "Epoch 23/30\n",
      "407/407 - 5s - loss: 0.6930 - accuracy: 0.5135 - val_loss: 0.6951 - val_accuracy: 0.4713\n",
      "Epoch 24/30\n",
      "407/407 - 5s - loss: 0.6930 - accuracy: 0.5135 - val_loss: 0.6951 - val_accuracy: 0.4713\n",
      "Epoch 25/30\n",
      "407/407 - 5s - loss: 0.6930 - accuracy: 0.5135 - val_loss: 0.6951 - val_accuracy: 0.4713\n",
      "Epoch 26/30\n",
      "407/407 - 5s - loss: 0.6930 - accuracy: 0.5135 - val_loss: 0.6951 - val_accuracy: 0.4713\n",
      "Epoch 27/30\n",
      "407/407 - 5s - loss: 0.6930 - accuracy: 0.5135 - val_loss: 0.6951 - val_accuracy: 0.4713\n",
      "Epoch 28/30\n",
      "407/407 - 5s - loss: 0.6930 - accuracy: 0.5135 - val_loss: 0.6951 - val_accuracy: 0.4713\n",
      "Epoch 29/30\n",
      "407/407 - 5s - loss: 0.6930 - accuracy: 0.5135 - val_loss: 0.6951 - val_accuracy: 0.4713\n",
      "Epoch 30/30\n",
      "407/407 - 5s - loss: 0.6930 - accuracy: 0.5135 - val_loss: 0.6951 - val_accuracy: 0.4713\n",
      "end training...\n"
     ]
    }
   ],
   "source": [
    "flair_cnn=train(train_flair_ds,val_flair_ds,30)"
   ]
  },
  {
   "cell_type": "code",
   "execution_count": 18,
   "id": "00cdaa5d",
   "metadata": {
    "execution": {
     "iopub.execute_input": "2022-09-07T01:57:48.594617Z",
     "iopub.status.busy": "2022-09-07T01:57:48.594274Z",
     "iopub.status.idle": "2022-09-07T01:57:49.473011Z",
     "shell.execute_reply": "2022-09-07T01:57:49.471859Z"
    },
    "papermill": {
     "duration": 0.896378,
     "end_time": "2022-09-07T01:57:49.475564",
     "exception": false,
     "start_time": "2022-09-07T01:57:48.579186",
     "status": "completed"
    },
    "tags": []
   },
   "outputs": [
    {
     "data": {
      "text/plain": [
       "0.6564885496183206"
      ]
     },
     "execution_count": 18,
     "metadata": {},
     "output_type": "execute_result"
    }
   ],
   "source": [
    "score(flair_cnn,test_flair_ds)"
   ]
  },
  {
   "cell_type": "code",
   "execution_count": 19,
   "id": "546cf324",
   "metadata": {
    "execution": {
     "iopub.execute_input": "2022-09-07T01:57:49.505999Z",
     "iopub.status.busy": "2022-09-07T01:57:49.505682Z",
     "iopub.status.idle": "2022-09-07T02:00:33.802854Z",
     "shell.execute_reply": "2022-09-07T02:00:33.801742Z"
    },
    "papermill": {
     "duration": 164.31507,
     "end_time": "2022-09-07T02:00:33.805861",
     "exception": false,
     "start_time": "2022-09-07T01:57:49.490791",
     "status": "completed"
    },
    "tags": []
   },
   "outputs": [
    {
     "name": "stdout",
     "output_type": "stream",
     "text": [
      "preparing...\n",
      "compiling...\n",
      "training...\n",
      "Epoch 1/30\n",
      "407/407 - 6s - loss: 2.5069 - accuracy: 0.4693 - val_loss: 0.6934 - val_accuracy: 0.5057\n",
      "Epoch 2/30\n",
      "407/407 - 5s - loss: 0.8444 - accuracy: 0.5258 - val_loss: 0.6942 - val_accuracy: 0.5057\n",
      "Epoch 3/30\n",
      "407/407 - 5s - loss: 0.7663 - accuracy: 0.5233 - val_loss: 0.6925 - val_accuracy: 0.5287\n",
      "Epoch 4/30\n",
      "407/407 - 5s - loss: 1.2631 - accuracy: 0.5455 - val_loss: 0.6905 - val_accuracy: 0.5287\n",
      "Epoch 5/30\n",
      "407/407 - 5s - loss: 0.8878 - accuracy: 0.5307 - val_loss: 0.6932 - val_accuracy: 0.4828\n",
      "Epoch 6/30\n",
      "407/407 - 5s - loss: 0.6923 - accuracy: 0.5283 - val_loss: 0.6944 - val_accuracy: 0.4828\n",
      "Epoch 7/30\n",
      "407/407 - 5s - loss: 0.6896 - accuracy: 0.5430 - val_loss: 0.6947 - val_accuracy: 0.4828\n",
      "Epoch 8/30\n",
      "407/407 - 5s - loss: 0.6916 - accuracy: 0.5332 - val_loss: 0.6894 - val_accuracy: 0.5172\n",
      "Epoch 9/30\n",
      "407/407 - 5s - loss: 0.7452 - accuracy: 0.5577 - val_loss: 0.6914 - val_accuracy: 0.5172\n",
      "Epoch 10/30\n",
      "407/407 - 5s - loss: 0.7693 - accuracy: 0.5307 - val_loss: 0.6944 - val_accuracy: 0.4828\n",
      "Epoch 11/30\n",
      "407/407 - 5s - loss: 0.8531 - accuracy: 0.5504 - val_loss: 0.7255 - val_accuracy: 0.5057\n",
      "Epoch 12/30\n",
      "407/407 - 5s - loss: 0.6929 - accuracy: 0.5553 - val_loss: 0.7451 - val_accuracy: 0.5287\n",
      "Epoch 13/30\n",
      "407/407 - 5s - loss: 0.6572 - accuracy: 0.5504 - val_loss: 0.6905 - val_accuracy: 0.4943\n",
      "Epoch 14/30\n",
      "407/407 - 5s - loss: 0.6912 - accuracy: 0.5528 - val_loss: 0.6966 - val_accuracy: 0.4943\n",
      "Epoch 15/30\n",
      "407/407 - 5s - loss: 0.7601 - accuracy: 0.5553 - val_loss: 0.6886 - val_accuracy: 0.4943\n",
      "Epoch 16/30\n",
      "407/407 - 5s - loss: 0.6463 - accuracy: 0.5725 - val_loss: 0.6835 - val_accuracy: 0.5057\n",
      "Epoch 17/30\n",
      "407/407 - 5s - loss: 0.6515 - accuracy: 0.5676 - val_loss: 0.6839 - val_accuracy: 0.5057\n",
      "Epoch 18/30\n",
      "407/407 - 5s - loss: 0.6720 - accuracy: 0.5627 - val_loss: 0.6898 - val_accuracy: 0.4943\n",
      "Epoch 19/30\n",
      "407/407 - 5s - loss: 0.6747 - accuracy: 0.5774 - val_loss: 0.6882 - val_accuracy: 0.4943\n",
      "Epoch 20/30\n",
      "407/407 - 5s - loss: 0.6542 - accuracy: 0.5799 - val_loss: 0.6865 - val_accuracy: 0.5057\n",
      "Epoch 21/30\n",
      "407/407 - 5s - loss: 0.6359 - accuracy: 0.5774 - val_loss: 0.6873 - val_accuracy: 0.5057\n",
      "Epoch 22/30\n",
      "407/407 - 5s - loss: 4.2174 - accuracy: 0.5848 - val_loss: 0.6957 - val_accuracy: 0.4828\n",
      "Epoch 23/30\n",
      "407/407 - 5s - loss: 0.6919 - accuracy: 0.5283 - val_loss: 0.6958 - val_accuracy: 0.4828\n",
      "Epoch 24/30\n",
      "407/407 - 5s - loss: 0.6918 - accuracy: 0.5283 - val_loss: 0.6959 - val_accuracy: 0.4828\n",
      "Epoch 25/30\n",
      "407/407 - 5s - loss: 0.6918 - accuracy: 0.5283 - val_loss: 0.6960 - val_accuracy: 0.4828\n",
      "Epoch 26/30\n",
      "407/407 - 5s - loss: 0.6918 - accuracy: 0.5283 - val_loss: 0.6961 - val_accuracy: 0.4828\n",
      "Epoch 27/30\n",
      "407/407 - 5s - loss: 0.6918 - accuracy: 0.5283 - val_loss: 0.6962 - val_accuracy: 0.4828\n",
      "Epoch 28/30\n",
      "407/407 - 5s - loss: 0.6918 - accuracy: 0.5283 - val_loss: 0.6962 - val_accuracy: 0.4828\n",
      "Epoch 29/30\n",
      "407/407 - 5s - loss: 0.6918 - accuracy: 0.5283 - val_loss: 0.6963 - val_accuracy: 0.4828\n",
      "Epoch 30/30\n",
      "407/407 - 5s - loss: 0.6918 - accuracy: 0.5283 - val_loss: 0.6963 - val_accuracy: 0.4828\n",
      "end training...\n"
     ]
    },
    {
     "data": {
      "text/plain": [
       "0.6666666666666666"
      ]
     },
     "execution_count": 19,
     "metadata": {},
     "output_type": "execute_result"
    }
   ],
   "source": [
    "train_t1w_ds,val_t1w_ds,test_t1w_ds=prepare_train_val_test_input_pipelines(t1w_images,labels)\n",
    "t1w_cnn=train(train_t1w_ds,val_t1w_ds,30)\n",
    "score(t1w_cnn,test_t1w_ds)"
   ]
  },
  {
   "cell_type": "code",
   "execution_count": 20,
   "id": "8766df00",
   "metadata": {
    "execution": {
     "iopub.execute_input": "2022-09-07T02:00:33.842929Z",
     "iopub.status.busy": "2022-09-07T02:00:33.842603Z",
     "iopub.status.idle": "2022-09-07T02:03:18.739210Z",
     "shell.execute_reply": "2022-09-07T02:03:18.737968Z"
    },
    "papermill": {
     "duration": 164.917578,
     "end_time": "2022-09-07T02:03:18.742218",
     "exception": false,
     "start_time": "2022-09-07T02:00:33.824640",
     "status": "completed"
    },
    "tags": []
   },
   "outputs": [
    {
     "name": "stdout",
     "output_type": "stream",
     "text": [
      "preparing...\n",
      "compiling...\n",
      "training...\n",
      "Epoch 1/30\n",
      "407/407 - 6s - loss: 2.7432 - accuracy: 0.5037 - val_loss: 0.7816 - val_accuracy: 0.4943\n",
      "Epoch 2/30\n",
      "407/407 - 5s - loss: 0.7228 - accuracy: 0.5528 - val_loss: 0.6735 - val_accuracy: 0.5517\n",
      "Epoch 3/30\n",
      "407/407 - 5s - loss: 0.6834 - accuracy: 0.5995 - val_loss: 0.6360 - val_accuracy: 0.6322\n",
      "Epoch 4/30\n",
      "407/407 - 5s - loss: 1.2610 - accuracy: 0.6486 - val_loss: 0.6100 - val_accuracy: 0.6782\n",
      "Epoch 5/30\n",
      "407/407 - 5s - loss: 0.6350 - accuracy: 0.7052 - val_loss: 0.5995 - val_accuracy: 0.6897\n",
      "Epoch 6/30\n",
      "407/407 - 5s - loss: 0.4565 - accuracy: 0.7838 - val_loss: 0.6177 - val_accuracy: 0.6782\n",
      "Epoch 7/30\n",
      "407/407 - 5s - loss: 0.3613 - accuracy: 0.8108 - val_loss: 0.7139 - val_accuracy: 0.7356\n",
      "Epoch 8/30\n",
      "407/407 - 5s - loss: 0.3011 - accuracy: 0.8600 - val_loss: 1.0156 - val_accuracy: 0.7011\n",
      "Epoch 9/30\n",
      "407/407 - 5s - loss: 0.2646 - accuracy: 0.8919 - val_loss: 1.4721 - val_accuracy: 0.6782\n",
      "Epoch 10/30\n",
      "407/407 - 5s - loss: 0.4765 - accuracy: 0.8943 - val_loss: 2.0275 - val_accuracy: 0.7356\n",
      "Epoch 11/30\n",
      "407/407 - 5s - loss: 0.3328 - accuracy: 0.8771 - val_loss: 1.5426 - val_accuracy: 0.7471\n",
      "Epoch 12/30\n",
      "407/407 - 5s - loss: 0.1609 - accuracy: 0.9263 - val_loss: 1.8859 - val_accuracy: 0.7586\n",
      "Epoch 13/30\n",
      "407/407 - 5s - loss: 0.0790 - accuracy: 0.9730 - val_loss: 2.9351 - val_accuracy: 0.7816\n",
      "Epoch 14/30\n",
      "407/407 - 5s - loss: 0.0417 - accuracy: 0.9853 - val_loss: 4.0853 - val_accuracy: 0.7816\n",
      "Epoch 15/30\n",
      "407/407 - 5s - loss: 0.0235 - accuracy: 0.9926 - val_loss: 4.9771 - val_accuracy: 0.7816\n",
      "Epoch 16/30\n",
      "407/407 - 5s - loss: 0.1654 - accuracy: 0.9877 - val_loss: 5.4629 - val_accuracy: 0.7701\n",
      "Epoch 17/30\n",
      "407/407 - 5s - loss: 0.5310 - accuracy: 0.9091 - val_loss: 3.5973 - val_accuracy: 0.7931\n",
      "Epoch 18/30\n",
      "407/407 - 5s - loss: 0.3157 - accuracy: 0.9558 - val_loss: 3.6357 - val_accuracy: 0.8161\n",
      "Epoch 19/30\n",
      "407/407 - 5s - loss: 0.4496 - accuracy: 0.9558 - val_loss: 2.7896 - val_accuracy: 0.7816\n",
      "Epoch 20/30\n",
      "407/407 - 5s - loss: 1.0278 - accuracy: 0.9361 - val_loss: 3.7963 - val_accuracy: 0.8046\n",
      "Epoch 21/30\n",
      "407/407 - 5s - loss: 0.1944 - accuracy: 0.9705 - val_loss: 6.0332 - val_accuracy: 0.7931\n",
      "Epoch 22/30\n",
      "407/407 - 5s - loss: 0.0335 - accuracy: 0.9803 - val_loss: 5.4706 - val_accuracy: 0.7931\n",
      "Epoch 23/30\n",
      "407/407 - 5s - loss: 0.0244 - accuracy: 0.9902 - val_loss: 6.7417 - val_accuracy: 0.8046\n",
      "Epoch 24/30\n",
      "407/407 - 5s - loss: 0.0228 - accuracy: 0.9853 - val_loss: 7.4487 - val_accuracy: 0.8276\n",
      "Epoch 25/30\n",
      "407/407 - 5s - loss: 0.0101 - accuracy: 0.9975 - val_loss: 8.2844 - val_accuracy: 0.8276\n",
      "Epoch 26/30\n",
      "407/407 - 5s - loss: 0.0038 - accuracy: 1.0000 - val_loss: 8.8560 - val_accuracy: 0.8276\n",
      "Epoch 27/30\n",
      "407/407 - 5s - loss: 0.0020 - accuracy: 1.0000 - val_loss: 9.4689 - val_accuracy: 0.8276\n",
      "Epoch 28/30\n",
      "407/407 - 5s - loss: 0.0012 - accuracy: 1.0000 - val_loss: 9.8388 - val_accuracy: 0.8276\n",
      "Epoch 29/30\n",
      "407/407 - 5s - loss: 7.2867e-04 - accuracy: 1.0000 - val_loss: 10.0966 - val_accuracy: 0.8276\n",
      "Epoch 30/30\n",
      "407/407 - 5s - loss: 4.0868e-04 - accuracy: 1.0000 - val_loss: 10.4266 - val_accuracy: 0.8276\n",
      "end training...\n",
      "score test : 0.9183673469387754\n"
     ]
    }
   ],
   "source": [
    "train_t1wce_ds,val_t1wce_ds,test_t1wce_ds=prepare_train_val_test_input_pipelines(t1wce_images,labels)\n",
    "t1wce_cnn=train(train_t1wce_ds,val_t1wce_ds,30)\n",
    "\n",
    "print('score test :',score(t1wce_cnn,test_t1wce_ds))"
   ]
  },
  {
   "cell_type": "code",
   "execution_count": 21,
   "id": "cbcd73d7",
   "metadata": {
    "execution": {
     "iopub.execute_input": "2022-09-07T02:03:18.786219Z",
     "iopub.status.busy": "2022-09-07T02:03:18.785895Z",
     "iopub.status.idle": "2022-09-07T02:05:52.422164Z",
     "shell.execute_reply": "2022-09-07T02:05:52.420860Z"
    },
    "papermill": {
     "duration": 153.661961,
     "end_time": "2022-09-07T02:05:52.426643",
     "exception": false,
     "start_time": "2022-09-07T02:03:18.764682",
     "status": "completed"
    },
    "tags": []
   },
   "outputs": [
    {
     "name": "stdout",
     "output_type": "stream",
     "text": [
      "preparing...\n",
      "compiling...\n",
      "training...\n",
      "Epoch 1/30\n",
      "407/407 - 6s - loss: 4.6051 - accuracy: 0.5012 - val_loss: 0.6913 - val_accuracy: 0.4598\n",
      "Epoch 2/30\n",
      "407/407 - 5s - loss: 0.7662 - accuracy: 0.5725 - val_loss: 0.6828 - val_accuracy: 0.5172\n",
      "Epoch 3/30\n",
      "407/407 - 5s - loss: 0.6855 - accuracy: 0.5577 - val_loss: 0.6518 - val_accuracy: 0.5632\n",
      "Epoch 4/30\n",
      "407/407 - 5s - loss: 0.7236 - accuracy: 0.5872 - val_loss: 0.8188 - val_accuracy: 0.4713\n",
      "Epoch 5/30\n",
      "407/407 - 5s - loss: 0.7088 - accuracy: 0.5897 - val_loss: 0.6889 - val_accuracy: 0.4253\n",
      "Epoch 6/30\n",
      "407/407 - 5s - loss: 0.8868 - accuracy: 0.6388 - val_loss: 0.6537 - val_accuracy: 0.5172\n",
      "Epoch 7/30\n",
      "407/407 - 5s - loss: 0.6362 - accuracy: 0.6364 - val_loss: 0.6642 - val_accuracy: 0.5057\n",
      "Epoch 8/30\n",
      "407/407 - 5s - loss: 0.5953 - accuracy: 0.6732 - val_loss: 0.6757 - val_accuracy: 0.6207\n",
      "Epoch 9/30\n",
      "407/407 - 5s - loss: 0.4332 - accuracy: 0.7371 - val_loss: 0.7607 - val_accuracy: 0.5747\n",
      "Epoch 10/30\n",
      "407/407 - 5s - loss: 0.4630 - accuracy: 0.7912 - val_loss: 0.7977 - val_accuracy: 0.5862\n",
      "Epoch 11/30\n",
      "407/407 - 5s - loss: 0.4938 - accuracy: 0.7838 - val_loss: 0.6088 - val_accuracy: 0.7011\n",
      "Epoch 12/30\n",
      "407/407 - 5s - loss: 0.6159 - accuracy: 0.7862 - val_loss: 0.7586 - val_accuracy: 0.6782\n",
      "Epoch 13/30\n",
      "407/407 - 5s - loss: 0.4382 - accuracy: 0.8157 - val_loss: 0.9703 - val_accuracy: 0.6897\n",
      "Epoch 14/30\n",
      "407/407 - 5s - loss: 0.2528 - accuracy: 0.8698 - val_loss: 1.3793 - val_accuracy: 0.7471\n",
      "Epoch 15/30\n",
      "407/407 - 5s - loss: 0.1825 - accuracy: 0.9165 - val_loss: 1.7995 - val_accuracy: 0.7586\n",
      "Epoch 16/30\n",
      "407/407 - 5s - loss: 0.1411 - accuracy: 0.9459 - val_loss: 2.0978 - val_accuracy: 0.7816\n",
      "Epoch 17/30\n",
      "407/407 - 5s - loss: 0.1074 - accuracy: 0.9509 - val_loss: 1.6063 - val_accuracy: 0.7931\n",
      "Epoch 18/30\n",
      "407/407 - 5s - loss: 0.2415 - accuracy: 0.9386 - val_loss: 1.1649 - val_accuracy: 0.8276\n",
      "Epoch 19/30\n",
      "407/407 - 5s - loss: 0.1052 - accuracy: 0.9509 - val_loss: 2.5688 - val_accuracy: 0.7701\n",
      "Epoch 20/30\n",
      "407/407 - 5s - loss: 0.1786 - accuracy: 0.9337 - val_loss: 2.0704 - val_accuracy: 0.8046\n",
      "Epoch 21/30\n",
      "407/407 - 5s - loss: 0.0732 - accuracy: 0.9631 - val_loss: 2.7430 - val_accuracy: 0.8046\n",
      "Epoch 22/30\n",
      "407/407 - 5s - loss: 0.0754 - accuracy: 0.9681 - val_loss: 2.7676 - val_accuracy: 0.7931\n",
      "Epoch 23/30\n",
      "407/407 - 5s - loss: 0.0555 - accuracy: 0.9754 - val_loss: 3.6958 - val_accuracy: 0.8161\n",
      "Epoch 24/30\n",
      "407/407 - 5s - loss: 0.0454 - accuracy: 0.9828 - val_loss: 4.1321 - val_accuracy: 0.8161\n",
      "Epoch 25/30\n",
      "407/407 - 5s - loss: 0.0423 - accuracy: 0.9853 - val_loss: 3.9514 - val_accuracy: 0.8161\n",
      "Epoch 26/30\n",
      "407/407 - 5s - loss: 0.0244 - accuracy: 0.9926 - val_loss: 5.0270 - val_accuracy: 0.8046\n",
      "Epoch 27/30\n",
      "407/407 - 5s - loss: 0.0595 - accuracy: 0.9779 - val_loss: 4.7275 - val_accuracy: 0.8276\n",
      "Epoch 28/30\n",
      "407/407 - 5s - loss: 0.2501 - accuracy: 0.9656 - val_loss: 4.1262 - val_accuracy: 0.7701\n",
      "Epoch 29/30\n",
      "407/407 - 5s - loss: 0.1152 - accuracy: 0.9631 - val_loss: 4.5530 - val_accuracy: 0.8046\n",
      "Epoch 30/30\n",
      "407/407 - 5s - loss: 0.0620 - accuracy: 0.9926 - val_loss: 6.2787 - val_accuracy: 0.7931\n",
      "end training...\n",
      "test score 0.8571428571428572\n"
     ]
    }
   ],
   "source": [
    "train_t2w_ds,val_t2w_ds,test_t2w_ds=prepare_train_val_test_input_pipelines(t2w_images,labels)\n",
    "t2w_cnn=train(train_t2w_ds,val_t2w_ds,30)\n",
    "print('test score',score(t2w_cnn,test_t2w_ds))"
   ]
  },
  {
   "cell_type": "code",
   "execution_count": 22,
   "id": "fae8f217",
   "metadata": {
    "execution": {
     "iopub.execute_input": "2022-09-07T02:05:52.477450Z",
     "iopub.status.busy": "2022-09-07T02:05:52.477046Z",
     "iopub.status.idle": "2022-09-07T02:05:52.484918Z",
     "shell.execute_reply": "2022-09-07T02:05:52.483848Z"
    },
    "papermill": {
     "duration": 0.034903,
     "end_time": "2022-09-07T02:05:52.487724",
     "exception": false,
     "start_time": "2022-09-07T02:05:52.452821",
     "status": "completed"
    },
    "tags": []
   },
   "outputs": [],
   "source": [
    "def final_prediction(test_flair,test_t1w,test_t1wce,test_t2w):\n",
    "    y_flair_pred=[np.int(np.round(i)) for i in flair_cnn.predict(test_flair)]\n",
    "    y_t1w_pred=[np.int(np.round(i)) for i in t1w_cnn.predict(test_t1w)]\n",
    "    y_t1wce_pred=[np.int(np.round(i)) for i in t1wce_cnn.predict(test_t1wce)]\n",
    "    y_t2w_pred=[np.int(np.round(i)) for i in t2w_cnn.predict(test_t1w)]\n",
    "    sum_y=[y_flair_pred[i] + y_t1w_pred[i] + y_t1wce_pred[i] + y_t2w_pred[i] for i in range(len(y_flair_pred)) ]\n",
    "    y_pred=[np.int(np.round(i/4)) for i in sum_y]\n",
    "    return y_pred"
   ]
  },
  {
   "cell_type": "code",
   "execution_count": 23,
   "id": "8a5ff6fa",
   "metadata": {
    "execution": {
     "iopub.execute_input": "2022-09-07T02:05:52.535030Z",
     "iopub.status.busy": "2022-09-07T02:05:52.534731Z",
     "iopub.status.idle": "2022-09-07T02:05:54.818846Z",
     "shell.execute_reply": "2022-09-07T02:05:54.817586Z"
    },
    "papermill": {
     "duration": 2.311038,
     "end_time": "2022-09-07T02:05:54.821722",
     "exception": false,
     "start_time": "2022-09-07T02:05:52.510684",
     "status": "completed"
    },
    "tags": []
   },
   "outputs": [],
   "source": [
    "y_pred=final_prediction(test_flair_ds,test_t1w_ds,test_t1wce_ds,test_t2w_ds)"
   ]
  },
  {
   "cell_type": "code",
   "execution_count": 24,
   "id": "420c42b1",
   "metadata": {
    "execution": {
     "iopub.execute_input": "2022-09-07T02:05:54.869548Z",
     "iopub.status.busy": "2022-09-07T02:05:54.868669Z",
     "iopub.status.idle": "2022-09-07T02:05:55.066793Z",
     "shell.execute_reply": "2022-09-07T02:05:55.065788Z"
    },
    "papermill": {
     "duration": 0.224833,
     "end_time": "2022-09-07T02:05:55.069726",
     "exception": false,
     "start_time": "2022-09-07T02:05:54.844893",
     "status": "completed"
    },
    "tags": []
   },
   "outputs": [
    {
     "data": {
      "text/plain": [
       "0.5892857142857143"
      ]
     },
     "execution_count": 24,
     "metadata": {},
     "output_type": "execute_result"
    }
   ],
   "source": [
    "y_true=[]\n",
    "for im,y in test_flair_ds:\n",
    "    y_true.append(y)\n",
    "y_true=np.array(y_true)\n",
    "score=f1_score(y_true,y_pred)\n",
    "score"
   ]
  },
  {
   "cell_type": "code",
   "execution_count": 25,
   "id": "bedaed39",
   "metadata": {
    "execution": {
     "iopub.execute_input": "2022-09-07T02:05:55.118458Z",
     "iopub.status.busy": "2022-09-07T02:05:55.118115Z",
     "iopub.status.idle": "2022-09-07T02:05:55.142431Z",
     "shell.execute_reply": "2022-09-07T02:05:55.141457Z"
    },
    "papermill": {
     "duration": 0.05074,
     "end_time": "2022-09-07T02:05:55.144679",
     "exception": false,
     "start_time": "2022-09-07T02:05:55.093939",
     "status": "completed"
    },
    "tags": []
   },
   "outputs": [
    {
     "data": {
      "text/html": [
       "<div>\n",
       "<style scoped>\n",
       "    .dataframe tbody tr th:only-of-type {\n",
       "        vertical-align: middle;\n",
       "    }\n",
       "\n",
       "    .dataframe tbody tr th {\n",
       "        vertical-align: top;\n",
       "    }\n",
       "\n",
       "    .dataframe thead th {\n",
       "        text-align: right;\n",
       "    }\n",
       "</style>\n",
       "<table border=\"1\" class=\"dataframe\">\n",
       "  <thead>\n",
       "    <tr style=\"text-align: right;\">\n",
       "      <th></th>\n",
       "      <th>BraTS21ID</th>\n",
       "      <th>MGMT_value</th>\n",
       "    </tr>\n",
       "  </thead>\n",
       "  <tbody>\n",
       "    <tr>\n",
       "      <th>0</th>\n",
       "      <td>1</td>\n",
       "      <td>0.5</td>\n",
       "    </tr>\n",
       "    <tr>\n",
       "      <th>1</th>\n",
       "      <td>13</td>\n",
       "      <td>0.5</td>\n",
       "    </tr>\n",
       "    <tr>\n",
       "      <th>2</th>\n",
       "      <td>15</td>\n",
       "      <td>0.5</td>\n",
       "    </tr>\n",
       "    <tr>\n",
       "      <th>3</th>\n",
       "      <td>27</td>\n",
       "      <td>0.5</td>\n",
       "    </tr>\n",
       "    <tr>\n",
       "      <th>4</th>\n",
       "      <td>37</td>\n",
       "      <td>0.5</td>\n",
       "    </tr>\n",
       "  </tbody>\n",
       "</table>\n",
       "</div>"
      ],
      "text/plain": [
       "   BraTS21ID  MGMT_value\n",
       "0          1         0.5\n",
       "1         13         0.5\n",
       "2         15         0.5\n",
       "3         27         0.5\n",
       "4         37         0.5"
      ]
     },
     "execution_count": 25,
     "metadata": {},
     "output_type": "execute_result"
    }
   ],
   "source": [
    "sample_submission_df=pd.read_csv('../input/rsna-miccai-brain-tumor-radiogenomic-classification/sample_submission.csv')\n",
    "sample_submission_df.head()"
   ]
  },
  {
   "cell_type": "code",
   "execution_count": 26,
   "id": "03a516e9",
   "metadata": {
    "execution": {
     "iopub.execute_input": "2022-09-07T02:05:55.195583Z",
     "iopub.status.busy": "2022-09-07T02:05:55.194730Z",
     "iopub.status.idle": "2022-09-07T02:05:55.199870Z",
     "shell.execute_reply": "2022-09-07T02:05:55.198917Z"
    },
    "papermill": {
     "duration": 0.032168,
     "end_time": "2022-09-07T02:05:55.201821",
     "exception": false,
     "start_time": "2022-09-07T02:05:55.169653",
     "status": "completed"
    },
    "tags": []
   },
   "outputs": [],
   "source": [
    "def bytes_to_str(byte_filename):\n",
    "    return str(byte_filename).split('\\'')[1]"
   ]
  },
  {
   "cell_type": "code",
   "execution_count": 27,
   "id": "100458fc",
   "metadata": {
    "execution": {
     "iopub.execute_input": "2022-09-07T02:05:55.250005Z",
     "iopub.status.busy": "2022-09-07T02:05:55.249711Z",
     "iopub.status.idle": "2022-09-07T02:05:55.255948Z",
     "shell.execute_reply": "2022-09-07T02:05:55.255069Z"
    },
    "papermill": {
     "duration": 0.032832,
     "end_time": "2022-09-07T02:05:55.258120",
     "exception": false,
     "start_time": "2022-09-07T02:05:55.225288",
     "status": "completed"
    },
    "tags": []
   },
   "outputs": [],
   "source": [
    "def best_image(ds_paths):\n",
    "    \n",
    "    s=0\n",
    "    filep=''\n",
    "    for filename in ds_paths.as_numpy_iterator():\n",
    "        img=pydicom.dcmread(bytes_to_str(filename))\n",
    "        sp=np.array(img.pixel_array).sum()\n",
    "        if(sp>s):\n",
    "            s=sp\n",
    "            filep=bytes_to_str(filename)\n",
    "    #best_img=pydicom.dcmread(filep)\n",
    "    return filep"
   ]
  },
  {
   "cell_type": "code",
   "execution_count": 28,
   "id": "adebd7e7",
   "metadata": {
    "execution": {
     "iopub.execute_input": "2022-09-07T02:05:55.305528Z",
     "iopub.status.busy": "2022-09-07T02:05:55.305227Z",
     "iopub.status.idle": "2022-09-07T02:05:55.313035Z",
     "shell.execute_reply": "2022-09-07T02:05:55.312121Z"
    },
    "papermill": {
     "duration": 0.033809,
     "end_time": "2022-09-07T02:05:55.315067",
     "exception": false,
     "start_time": "2022-09-07T02:05:55.281258",
     "status": "completed"
    },
    "tags": []
   },
   "outputs": [],
   "source": [
    "def image_selection(test_ds_files):\n",
    "    i=0\n",
    "    files_num=[]\n",
    "    best_flair_images=[]\n",
    "    best_t1w_images=[]\n",
    "    best_t1wce_images=[]\n",
    "    best_t2w_images=[]\n",
    "    for filename in test_ds_files.as_numpy_iterator():\n",
    "        path=bytes_to_str(filename)\n",
    "        FLAIR_PATH=path+'/FLAIR/*'\n",
    "        T1w_PATH=path+'/T1w/*'\n",
    "        T1wCE_PATH=path+'/T1wCE/*'\n",
    "        T2w_PATH=path+'/T2w/*'\n",
    "        ds_files_FLAIR=tf.data.Dataset.list_files(FLAIR_PATH)\n",
    "        ds_files_T1w=tf.data.Dataset.list_files(T1w_PATH)\n",
    "        ds_files_T1wCE=tf.data.Dataset.list_files(T1wCE_PATH)\n",
    "        ds_files_T2w=tf.data.Dataset.list_files(T2w_PATH)\n",
    "        file_num=path.split('/')[-1]\n",
    "        files_num.append(int(file_num))\n",
    "        best_flair_images.append(best_image(ds_files_FLAIR))\n",
    "        best_t1w_images.append(best_image(ds_files_T1w))\n",
    "        best_t1wce_images.append(best_image(ds_files_T1wCE))\n",
    "        best_t2w_images.append(best_image(ds_files_T2w))\n",
    "    return files_num,best_flair_images,best_t1w_images,best_t1wce_images,best_t2w_images"
   ]
  },
  {
   "cell_type": "code",
   "execution_count": 29,
   "id": "bf2fdbf8",
   "metadata": {
    "execution": {
     "iopub.execute_input": "2022-09-07T02:05:55.363316Z",
     "iopub.status.busy": "2022-09-07T02:05:55.363030Z",
     "iopub.status.idle": "2022-09-07T02:16:35.853891Z",
     "shell.execute_reply": "2022-09-07T02:16:35.852840Z"
    },
    "papermill": {
     "duration": 640.518065,
     "end_time": "2022-09-07T02:16:35.856681",
     "exception": false,
     "start_time": "2022-09-07T02:05:55.338616",
     "status": "completed"
    },
    "tags": []
   },
   "outputs": [],
   "source": [
    "ds_test_files=tf.data.Dataset.list_files('../input/rsna-miccai-brain-tumor-radiogenomic-classification/test/*')\n",
    "files_num,best_flair_images,best_t1w_images,best_t1wce_images,best_t2w_images=image_selection(ds_test_files.batch(1))"
   ]
  },
  {
   "cell_type": "code",
   "execution_count": 30,
   "id": "19ad420b",
   "metadata": {
    "execution": {
     "iopub.execute_input": "2022-09-07T02:16:35.924427Z",
     "iopub.status.busy": "2022-09-07T02:16:35.924069Z",
     "iopub.status.idle": "2022-09-07T02:16:35.940946Z",
     "shell.execute_reply": "2022-09-07T02:16:35.940050Z"
    },
    "papermill": {
     "duration": 0.043353,
     "end_time": "2022-09-07T02:16:35.942989",
     "exception": false,
     "start_time": "2022-09-07T02:16:35.899636",
     "status": "completed"
    },
    "tags": []
   },
   "outputs": [],
   "source": [
    "dict={\n",
    "    'files_num':files_num,\n",
    "    'best_flair_images':best_flair_images,\n",
    "    'best_t1w_images':best_t1w_images,\n",
    "    'best_t1wce_images':best_t1wce_images,\n",
    "    'best_t2w_images':best_t2w_images\n",
    "}\n",
    "df=pd.DataFrame(dict)\n",
    "df.head()\n",
    "df.to_csv('test_best_images_paths.csv',index=False)"
   ]
  },
  {
   "cell_type": "code",
   "execution_count": 31,
   "id": "319c571f",
   "metadata": {
    "execution": {
     "iopub.execute_input": "2022-09-07T02:16:35.991371Z",
     "iopub.status.busy": "2022-09-07T02:16:35.991079Z",
     "iopub.status.idle": "2022-09-07T02:16:36.008166Z",
     "shell.execute_reply": "2022-09-07T02:16:36.007266Z"
    },
    "papermill": {
     "duration": 0.042949,
     "end_time": "2022-09-07T02:16:36.010208",
     "exception": false,
     "start_time": "2022-09-07T02:16:35.967259",
     "status": "completed"
    },
    "tags": []
   },
   "outputs": [
    {
     "data": {
      "text/html": [
       "<div>\n",
       "<style scoped>\n",
       "    .dataframe tbody tr th:only-of-type {\n",
       "        vertical-align: middle;\n",
       "    }\n",
       "\n",
       "    .dataframe tbody tr th {\n",
       "        vertical-align: top;\n",
       "    }\n",
       "\n",
       "    .dataframe thead th {\n",
       "        text-align: right;\n",
       "    }\n",
       "</style>\n",
       "<table border=\"1\" class=\"dataframe\">\n",
       "  <thead>\n",
       "    <tr style=\"text-align: right;\">\n",
       "      <th></th>\n",
       "      <th>files_num</th>\n",
       "      <th>best_flair_images</th>\n",
       "      <th>best_t1w_images</th>\n",
       "      <th>best_t1wce_images</th>\n",
       "      <th>best_t2w_images</th>\n",
       "    </tr>\n",
       "  </thead>\n",
       "  <tbody>\n",
       "    <tr>\n",
       "      <th>0</th>\n",
       "      <td>307</td>\n",
       "      <td>../input/rsna-miccai-brain-tumor-radiogenomic-...</td>\n",
       "      <td>../input/rsna-miccai-brain-tumor-radiogenomic-...</td>\n",
       "      <td>../input/rsna-miccai-brain-tumor-radiogenomic-...</td>\n",
       "      <td>../input/rsna-miccai-brain-tumor-radiogenomic-...</td>\n",
       "    </tr>\n",
       "    <tr>\n",
       "      <th>1</th>\n",
       "      <td>47</td>\n",
       "      <td>../input/rsna-miccai-brain-tumor-radiogenomic-...</td>\n",
       "      <td>../input/rsna-miccai-brain-tumor-radiogenomic-...</td>\n",
       "      <td>../input/rsna-miccai-brain-tumor-radiogenomic-...</td>\n",
       "      <td>../input/rsna-miccai-brain-tumor-radiogenomic-...</td>\n",
       "    </tr>\n",
       "    <tr>\n",
       "      <th>2</th>\n",
       "      <td>229</td>\n",
       "      <td>../input/rsna-miccai-brain-tumor-radiogenomic-...</td>\n",
       "      <td>../input/rsna-miccai-brain-tumor-radiogenomic-...</td>\n",
       "      <td>../input/rsna-miccai-brain-tumor-radiogenomic-...</td>\n",
       "      <td>../input/rsna-miccai-brain-tumor-radiogenomic-...</td>\n",
       "    </tr>\n",
       "    <tr>\n",
       "      <th>3</th>\n",
       "      <td>458</td>\n",
       "      <td>../input/rsna-miccai-brain-tumor-radiogenomic-...</td>\n",
       "      <td>../input/rsna-miccai-brain-tumor-radiogenomic-...</td>\n",
       "      <td>../input/rsna-miccai-brain-tumor-radiogenomic-...</td>\n",
       "      <td>../input/rsna-miccai-brain-tumor-radiogenomic-...</td>\n",
       "    </tr>\n",
       "    <tr>\n",
       "      <th>4</th>\n",
       "      <td>393</td>\n",
       "      <td>../input/rsna-miccai-brain-tumor-radiogenomic-...</td>\n",
       "      <td>../input/rsna-miccai-brain-tumor-radiogenomic-...</td>\n",
       "      <td>../input/rsna-miccai-brain-tumor-radiogenomic-...</td>\n",
       "      <td>../input/rsna-miccai-brain-tumor-radiogenomic-...</td>\n",
       "    </tr>\n",
       "  </tbody>\n",
       "</table>\n",
       "</div>"
      ],
      "text/plain": [
       "   files_num                                  best_flair_images  \\\n",
       "0        307  ../input/rsna-miccai-brain-tumor-radiogenomic-...   \n",
       "1         47  ../input/rsna-miccai-brain-tumor-radiogenomic-...   \n",
       "2        229  ../input/rsna-miccai-brain-tumor-radiogenomic-...   \n",
       "3        458  ../input/rsna-miccai-brain-tumor-radiogenomic-...   \n",
       "4        393  ../input/rsna-miccai-brain-tumor-radiogenomic-...   \n",
       "\n",
       "                                     best_t1w_images  \\\n",
       "0  ../input/rsna-miccai-brain-tumor-radiogenomic-...   \n",
       "1  ../input/rsna-miccai-brain-tumor-radiogenomic-...   \n",
       "2  ../input/rsna-miccai-brain-tumor-radiogenomic-...   \n",
       "3  ../input/rsna-miccai-brain-tumor-radiogenomic-...   \n",
       "4  ../input/rsna-miccai-brain-tumor-radiogenomic-...   \n",
       "\n",
       "                                   best_t1wce_images  \\\n",
       "0  ../input/rsna-miccai-brain-tumor-radiogenomic-...   \n",
       "1  ../input/rsna-miccai-brain-tumor-radiogenomic-...   \n",
       "2  ../input/rsna-miccai-brain-tumor-radiogenomic-...   \n",
       "3  ../input/rsna-miccai-brain-tumor-radiogenomic-...   \n",
       "4  ../input/rsna-miccai-brain-tumor-radiogenomic-...   \n",
       "\n",
       "                                     best_t2w_images  \n",
       "0  ../input/rsna-miccai-brain-tumor-radiogenomic-...  \n",
       "1  ../input/rsna-miccai-brain-tumor-radiogenomic-...  \n",
       "2  ../input/rsna-miccai-brain-tumor-radiogenomic-...  \n",
       "3  ../input/rsna-miccai-brain-tumor-radiogenomic-...  \n",
       "4  ../input/rsna-miccai-brain-tumor-radiogenomic-...  "
      ]
     },
     "execution_count": 31,
     "metadata": {},
     "output_type": "execute_result"
    }
   ],
   "source": [
    "test_best_images_paths=pd.read_csv('./test_best_images_paths.csv')\n",
    "test_best_images_paths.head()"
   ]
  },
  {
   "cell_type": "code",
   "execution_count": 32,
   "id": "ff847b29",
   "metadata": {
    "execution": {
     "iopub.execute_input": "2022-09-07T02:16:36.058184Z",
     "iopub.status.busy": "2022-09-07T02:16:36.057905Z",
     "iopub.status.idle": "2022-09-07T02:16:36.278233Z",
     "shell.execute_reply": "2022-09-07T02:16:36.277315Z"
    },
    "papermill": {
     "duration": 0.247117,
     "end_time": "2022-09-07T02:16:36.280487",
     "exception": false,
     "start_time": "2022-09-07T02:16:36.033370",
     "status": "completed"
    },
    "tags": []
   },
   "outputs": [
    {
     "data": {
      "text/plain": [
       "<matplotlib.image.AxesImage at 0x7f689c33e0d0>"
      ]
     },
     "execution_count": 32,
     "metadata": {},
     "output_type": "execute_result"
    },
    {
     "data": {
      "image/png": "[encoded data removed]",
      "text/plain": [
       "<Figure size 432x288 with 1 Axes>"
      ]
     },
     "metadata": {
      "needs_background": "light"
     },
     "output_type": "display_data"
    }
   ],
   "source": [
    "ds = pydicom.dcmread(test_best_images_paths['best_flair_images'][0])\n",
    "plt.imshow(ds.pixel_array, cmap=plt.cm.bone) "
   ]
  },
  {
   "cell_type": "code",
   "execution_count": 33,
   "id": "6d069654",
   "metadata": {
    "execution": {
     "iopub.execute_input": "2022-09-07T02:16:36.331460Z",
     "iopub.status.busy": "2022-09-07T02:16:36.330474Z",
     "iopub.status.idle": "2022-09-07T02:16:36.356535Z",
     "shell.execute_reply": "2022-09-07T02:16:36.355295Z"
    },
    "papermill": {
     "duration": 0.053989,
     "end_time": "2022-09-07T02:16:36.358941",
     "exception": false,
     "start_time": "2022-09-07T02:16:36.304952",
     "status": "completed"
    },
    "tags": []
   },
   "outputs": [
    {
     "data": {
      "text/html": [
       "<div>\n",
       "<style scoped>\n",
       "    .dataframe tbody tr th:only-of-type {\n",
       "        vertical-align: middle;\n",
       "    }\n",
       "\n",
       "    .dataframe tbody tr th {\n",
       "        vertical-align: top;\n",
       "    }\n",
       "\n",
       "    .dataframe thead th {\n",
       "        text-align: right;\n",
       "    }\n",
       "</style>\n",
       "<table border=\"1\" class=\"dataframe\">\n",
       "  <thead>\n",
       "    <tr style=\"text-align: right;\">\n",
       "      <th></th>\n",
       "      <th>BraTS21ID</th>\n",
       "      <th>MGMT_value</th>\n",
       "      <th>files_num</th>\n",
       "      <th>best_flair_images</th>\n",
       "      <th>best_t1w_images</th>\n",
       "      <th>best_t1wce_images</th>\n",
       "      <th>best_t2w_images</th>\n",
       "    </tr>\n",
       "  </thead>\n",
       "  <tbody>\n",
       "    <tr>\n",
       "      <th>0</th>\n",
       "      <td>1</td>\n",
       "      <td>0.5</td>\n",
       "      <td>1</td>\n",
       "      <td>../input/rsna-miccai-brain-tumor-radiogenomic-...</td>\n",
       "      <td>../input/rsna-miccai-brain-tumor-radiogenomic-...</td>\n",
       "      <td>../input/rsna-miccai-brain-tumor-radiogenomic-...</td>\n",
       "      <td>../input/rsna-miccai-brain-tumor-radiogenomic-...</td>\n",
       "    </tr>\n",
       "    <tr>\n",
       "      <th>1</th>\n",
       "      <td>13</td>\n",
       "      <td>0.5</td>\n",
       "      <td>13</td>\n",
       "      <td>../input/rsna-miccai-brain-tumor-radiogenomic-...</td>\n",
       "      <td>../input/rsna-miccai-brain-tumor-radiogenomic-...</td>\n",
       "      <td>../input/rsna-miccai-brain-tumor-radiogenomic-...</td>\n",
       "      <td>../input/rsna-miccai-brain-tumor-radiogenomic-...</td>\n",
       "    </tr>\n",
       "    <tr>\n",
       "      <th>2</th>\n",
       "      <td>15</td>\n",
       "      <td>0.5</td>\n",
       "      <td>15</td>\n",
       "      <td>../input/rsna-miccai-brain-tumor-radiogenomic-...</td>\n",
       "      <td>../input/rsna-miccai-brain-tumor-radiogenomic-...</td>\n",
       "      <td>../input/rsna-miccai-brain-tumor-radiogenomic-...</td>\n",
       "      <td>../input/rsna-miccai-brain-tumor-radiogenomic-...</td>\n",
       "    </tr>\n",
       "    <tr>\n",
       "      <th>3</th>\n",
       "      <td>27</td>\n",
       "      <td>0.5</td>\n",
       "      <td>27</td>\n",
       "      <td>../input/rsna-miccai-brain-tumor-radiogenomic-...</td>\n",
       "      <td>../input/rsna-miccai-brain-tumor-radiogenomic-...</td>\n",
       "      <td>../input/rsna-miccai-brain-tumor-radiogenomic-...</td>\n",
       "      <td>../input/rsna-miccai-brain-tumor-radiogenomic-...</td>\n",
       "    </tr>\n",
       "    <tr>\n",
       "      <th>4</th>\n",
       "      <td>37</td>\n",
       "      <td>0.5</td>\n",
       "      <td>37</td>\n",
       "      <td>../input/rsna-miccai-brain-tumor-radiogenomic-...</td>\n",
       "      <td>../input/rsna-miccai-brain-tumor-radiogenomic-...</td>\n",
       "      <td>../input/rsna-miccai-brain-tumor-radiogenomic-...</td>\n",
       "      <td>../input/rsna-miccai-brain-tumor-radiogenomic-...</td>\n",
       "    </tr>\n",
       "  </tbody>\n",
       "</table>\n",
       "</div>"
      ],
      "text/plain": [
       "   BraTS21ID  MGMT_value  files_num  \\\n",
       "0          1         0.5          1   \n",
       "1         13         0.5         13   \n",
       "2         15         0.5         15   \n",
       "3         27         0.5         27   \n",
       "4         37         0.5         37   \n",
       "\n",
       "                                   best_flair_images  \\\n",
       "0  ../input/rsna-miccai-brain-tumor-radiogenomic-...   \n",
       "1  ../input/rsna-miccai-brain-tumor-radiogenomic-...   \n",
       "2  ../input/rsna-miccai-brain-tumor-radiogenomic-...   \n",
       "3  ../input/rsna-miccai-brain-tumor-radiogenomic-...   \n",
       "4  ../input/rsna-miccai-brain-tumor-radiogenomic-...   \n",
       "\n",
       "                                     best_t1w_images  \\\n",
       "0  ../input/rsna-miccai-brain-tumor-radiogenomic-...   \n",
       "1  ../input/rsna-miccai-brain-tumor-radiogenomic-...   \n",
       "2  ../input/rsna-miccai-brain-tumor-radiogenomic-...   \n",
       "3  ../input/rsna-miccai-brain-tumor-radiogenomic-...   \n",
       "4  ../input/rsna-miccai-brain-tumor-radiogenomic-...   \n",
       "\n",
       "                                   best_t1wce_images  \\\n",
       "0  ../input/rsna-miccai-brain-tumor-radiogenomic-...   \n",
       "1  ../input/rsna-miccai-brain-tumor-radiogenomic-...   \n",
       "2  ../input/rsna-miccai-brain-tumor-radiogenomic-...   \n",
       "3  ../input/rsna-miccai-brain-tumor-radiogenomic-...   \n",
       "4  ../input/rsna-miccai-brain-tumor-radiogenomic-...   \n",
       "\n",
       "                                     best_t2w_images  \n",
       "0  ../input/rsna-miccai-brain-tumor-radiogenomic-...  \n",
       "1  ../input/rsna-miccai-brain-tumor-radiogenomic-...  \n",
       "2  ../input/rsna-miccai-brain-tumor-radiogenomic-...  \n",
       "3  ../input/rsna-miccai-brain-tumor-radiogenomic-...  \n",
       "4  ../input/rsna-miccai-brain-tumor-radiogenomic-...  "
      ]
     },
     "execution_count": 33,
     "metadata": {},
     "output_type": "execute_result"
    }
   ],
   "source": [
    "ds=pd.merge(sample_submission_df,test_best_images_paths,left_on=['BraTS21ID'],right_on=['files_num'])\n",
    "ds.head()"
   ]
  },
  {
   "cell_type": "code",
   "execution_count": 34,
   "id": "50c3a3df",
   "metadata": {
    "execution": {
     "iopub.execute_input": "2022-09-07T02:16:36.412883Z",
     "iopub.status.busy": "2022-09-07T02:16:36.412315Z",
     "iopub.status.idle": "2022-09-07T02:16:36.443657Z",
     "shell.execute_reply": "2022-09-07T02:16:36.442033Z"
    },
    "papermill": {
     "duration": 0.062955,
     "end_time": "2022-09-07T02:16:36.447033",
     "exception": false,
     "start_time": "2022-09-07T02:16:36.384078",
     "status": "completed"
    },
    "tags": []
   },
   "outputs": [
    {
     "name": "stdout",
     "output_type": "stream",
     "text": [
      "<class 'pandas.core.frame.DataFrame'>\n",
      "Int64Index: 87 entries, 0 to 86\n",
      "Data columns (total 6 columns):\n",
      " #   Column             Non-Null Count  Dtype  \n",
      "---  ------             --------------  -----  \n",
      " 0   BraTS21ID          87 non-null     int64  \n",
      " 1   MGMT_value         87 non-null     float64\n",
      " 2   best_flair_images  87 non-null     object \n",
      " 3   best_t1w_images    87 non-null     object \n",
      " 4   best_t1wce_images  87 non-null     object \n",
      " 5   best_t2w_images    87 non-null     object \n",
      "dtypes: float64(1), int64(1), object(4)\n",
      "memory usage: 4.8+ KB\n"
     ]
    }
   ],
   "source": [
    "ds=ds.dropna(axis=0)\n",
    "ds.drop(['files_num'],axis=1,inplace=True)\n",
    "ds.to_csv('test_merge_labels_and_paths.csv',index=False)\n",
    "ds.info()"
   ]
  },
  {
   "cell_type": "code",
   "execution_count": 35,
   "id": "a3e432f7",
   "metadata": {
    "execution": {
     "iopub.execute_input": "2022-09-07T02:16:36.505905Z",
     "iopub.status.busy": "2022-09-07T02:16:36.504960Z",
     "iopub.status.idle": "2022-09-07T02:16:39.043805Z",
     "shell.execute_reply": "2022-09-07T02:16:39.042821Z"
    },
    "papermill": {
     "duration": 2.570636,
     "end_time": "2022-09-07T02:16:39.046394",
     "exception": false,
     "start_time": "2022-09-07T02:16:36.475758",
     "status": "completed"
    },
    "tags": []
   },
   "outputs": [],
   "source": [
    "sub_flair_images=load_images(df['best_flair_images'])\n",
    "sub_t1w_images=load_images(df['best_t1w_images'])\n",
    "sub_t1wce_images=load_images(df['best_t1wce_images'])\n",
    "sub_t2w_images=load_images(df['best_t2w_images'])"
   ]
  },
  {
   "cell_type": "code",
   "execution_count": 36,
   "id": "4842c2b9",
   "metadata": {
    "execution": {
     "iopub.execute_input": "2022-09-07T02:16:39.097199Z",
     "iopub.status.busy": "2022-09-07T02:16:39.096893Z",
     "iopub.status.idle": "2022-09-07T02:16:39.104085Z",
     "shell.execute_reply": "2022-09-07T02:16:39.103012Z"
    },
    "papermill": {
     "duration": 0.035881,
     "end_time": "2022-09-07T02:16:39.106925",
     "exception": false,
     "start_time": "2022-09-07T02:16:39.071044",
     "status": "completed"
    },
    "tags": []
   },
   "outputs": [
    {
     "name": "stdout",
     "output_type": "stream",
     "text": [
      "(87, 256, 256, 1) <class 'numpy.ndarray'>\n"
     ]
    }
   ],
   "source": [
    "print(sub_flair_images.shape,type(sub_flair_images))"
   ]
  },
  {
   "cell_type": "code",
   "execution_count": 37,
   "id": "30903489",
   "metadata": {
    "execution": {
     "iopub.execute_input": "2022-09-07T02:16:39.156256Z",
     "iopub.status.busy": "2022-09-07T02:16:39.155927Z",
     "iopub.status.idle": "2022-09-07T02:16:39.161951Z",
     "shell.execute_reply": "2022-09-07T02:16:39.161071Z"
    },
    "papermill": {
     "duration": 0.033049,
     "end_time": "2022-09-07T02:16:39.163930",
     "exception": false,
     "start_time": "2022-09-07T02:16:39.130881",
     "status": "completed"
    },
    "tags": []
   },
   "outputs": [],
   "source": [
    "def prepare_submission_input_pipeline(images):\n",
    "    AUTOTUNE=tf.data.AUTOTUNE\n",
    "    test_ds=tf.data.Dataset.from_tensor_slices(images)\n",
    "    test_ds=test_ds.map(lambda x:x/256).batch(1).cache().prefetch(AUTOTUNE)\n",
    "    return test_ds"
   ]
  },
  {
   "cell_type": "code",
   "execution_count": 38,
   "id": "7df03a20",
   "metadata": {
    "execution": {
     "iopub.execute_input": "2022-09-07T02:16:39.213143Z",
     "iopub.status.busy": "2022-09-07T02:16:39.212853Z",
     "iopub.status.idle": "2022-09-07T02:16:39.425308Z",
     "shell.execute_reply": "2022-09-07T02:16:39.424310Z"
    },
    "papermill": {
     "duration": 0.239658,
     "end_time": "2022-09-07T02:16:39.427831",
     "exception": false,
     "start_time": "2022-09-07T02:16:39.188173",
     "status": "completed"
    },
    "tags": []
   },
   "outputs": [],
   "source": [
    "submission_pipeline_flair=prepare_submission_input_pipeline(sub_flair_images)\n",
    "submission_pipeline_t1w=prepare_submission_input_pipeline(sub_t1w_images)\n",
    "submission_pipeline_t1wce=prepare_submission_input_pipeline(sub_t1wce_images)\n",
    "submission_pipeline_t2w=prepare_submission_input_pipeline(sub_t2w_images)"
   ]
  },
  {
   "cell_type": "code",
   "execution_count": 39,
   "id": "e30c20eb",
   "metadata": {
    "execution": {
     "iopub.execute_input": "2022-09-07T02:16:39.478841Z",
     "iopub.status.busy": "2022-09-07T02:16:39.478533Z",
     "iopub.status.idle": "2022-09-07T02:16:40.860286Z",
     "shell.execute_reply": "2022-09-07T02:16:40.858891Z"
    },
    "papermill": {
     "duration": 1.410208,
     "end_time": "2022-09-07T02:16:40.863197",
     "exception": false,
     "start_time": "2022-09-07T02:16:39.452989",
     "status": "completed"
    },
    "tags": []
   },
   "outputs": [],
   "source": [
    "y_pred_submittion=final_prediction(submission_pipeline_flair,submission_pipeline_t1w,submission_pipeline_t1wce,submission_pipeline_t2w)"
   ]
  },
  {
   "cell_type": "code",
   "execution_count": 40,
   "id": "cdcf4b94",
   "metadata": {
    "execution": {
     "iopub.execute_input": "2022-09-07T02:16:40.916485Z",
     "iopub.status.busy": "2022-09-07T02:16:40.916105Z",
     "iopub.status.idle": "2022-09-07T02:16:40.921561Z",
     "shell.execute_reply": "2022-09-07T02:16:40.920471Z"
    },
    "papermill": {
     "duration": 0.034775,
     "end_time": "2022-09-07T02:16:40.924535",
     "exception": false,
     "start_time": "2022-09-07T02:16:40.889760",
     "status": "completed"
    },
    "tags": []
   },
   "outputs": [],
   "source": [
    "sample_submission_df['MGMT_value']=y_pred_submittion"
   ]
  },
  {
   "cell_type": "code",
   "execution_count": 41,
   "id": "2e386f23",
   "metadata": {
    "execution": {
     "iopub.execute_input": "2022-09-07T02:16:40.974987Z",
     "iopub.status.busy": "2022-09-07T02:16:40.974700Z",
     "iopub.status.idle": "2022-09-07T02:16:40.980700Z",
     "shell.execute_reply": "2022-09-07T02:16:40.979826Z"
    },
    "papermill": {
     "duration": 0.033048,
     "end_time": "2022-09-07T02:16:40.982612",
     "exception": false,
     "start_time": "2022-09-07T02:16:40.949564",
     "status": "completed"
    },
    "tags": []
   },
   "outputs": [],
   "source": [
    "sample_submission_df.to_csv('submission.csv',index=False)"
   ]
  },
  {
   "cell_type": "code",
   "execution_count": 42,
   "id": "07c94a9d",
   "metadata": {
    "execution": {
     "iopub.execute_input": "2022-09-07T02:16:41.032464Z",
     "iopub.status.busy": "2022-09-07T02:16:41.032159Z",
     "iopub.status.idle": "2022-09-07T02:16:41.040617Z",
     "shell.execute_reply": "2022-09-07T02:16:41.039660Z"
    },
    "papermill": {
     "duration": 0.03578,
     "end_time": "2022-09-07T02:16:41.042534",
     "exception": false,
     "start_time": "2022-09-07T02:16:41.006754",
     "status": "completed"
    },
    "tags": []
   },
   "outputs": [
    {
     "data": {
      "text/html": [
       "<div>\n",
       "<style scoped>\n",
       "    .dataframe tbody tr th:only-of-type {\n",
       "        vertical-align: middle;\n",
       "    }\n",
       "\n",
       "    .dataframe tbody tr th {\n",
       "        vertical-align: top;\n",
       "    }\n",
       "\n",
       "    .dataframe thead th {\n",
       "        text-align: right;\n",
       "    }\n",
       "</style>\n",
       "<table border=\"1\" class=\"dataframe\">\n",
       "  <thead>\n",
       "    <tr style=\"text-align: right;\">\n",
       "      <th></th>\n",
       "      <th>BraTS21ID</th>\n",
       "      <th>MGMT_value</th>\n",
       "    </tr>\n",
       "  </thead>\n",
       "  <tbody>\n",
       "    <tr>\n",
       "      <th>0</th>\n",
       "      <td>1</td>\n",
       "      <td>1</td>\n",
       "    </tr>\n",
       "    <tr>\n",
       "      <th>1</th>\n",
       "      <td>13</td>\n",
       "      <td>1</td>\n",
       "    </tr>\n",
       "    <tr>\n",
       "      <th>2</th>\n",
       "      <td>15</td>\n",
       "      <td>1</td>\n",
       "    </tr>\n",
       "    <tr>\n",
       "      <th>3</th>\n",
       "      <td>27</td>\n",
       "      <td>1</td>\n",
       "    </tr>\n",
       "    <tr>\n",
       "      <th>4</th>\n",
       "      <td>37</td>\n",
       "      <td>1</td>\n",
       "    </tr>\n",
       "  </tbody>\n",
       "</table>\n",
       "</div>"
      ],
      "text/plain": [
       "   BraTS21ID  MGMT_value\n",
       "0          1           1\n",
       "1         13           1\n",
       "2         15           1\n",
       "3         27           1\n",
       "4         37           1"
      ]
     },
     "execution_count": 42,
     "metadata": {},
     "output_type": "execute_result"
    }
   ],
   "source": [
    "sample_submission_df.head()"
   ]
  }
 ],
 "metadata": {
  "kernelspec": {
   "display_name": "Python 3",
   "language": "python",
   "name": "python3"
  },
  "language_info": {
   "codemirror_mode": {
    "name": "ipython",
    "version": 3
   },
   "file_extension": ".py",
   "mimetype": "text/x-python",
   "name": "python",
   "nbconvert_exporter": "python",
   "pygments_lexer": "ipython3",
   "version": "3.7.12"
  },
  "papermill": {
   "default_parameters": {},
   "duration": 1348.898149,
   "end_time": "2022-09-07T02:16:44.841059",
   "environment_variables": {},
   "exception": null,
   "input_path": "__notebook__.ipynb",
   "output_path": "__notebook__.ipynb",
   "parameters": {},
   "start_time": "2022-09-07T01:54:15.942910",
   "version": "2.3.4"
  }
 },
 "nbformat": 4,
 "nbformat_minor": 5
}
